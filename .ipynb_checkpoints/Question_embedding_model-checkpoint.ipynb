{
 "cells": [
  {
   "cell_type": "markdown",
   "metadata": {
    "id": "hRuM9Pg2oBZQ"
   },
   "source": [
    "<a href=\"https://colab.research.google.com/github/jeffheaton/t81_558_deep_learning/blob/master/t81_558_class_11_05_embedding.ipynb\" target=\"_parent\"><img src=\"https://colab.research.google.com/assets/colab-badge.svg\" alt=\"Open In Colab\"/></a>\n"
   ]
  },
  {
   "cell_type": "markdown",
   "metadata": {
    "id": "nPIDsF57oBZR"
   },
   "source": [
    "# Ammended feeding for DKT: Applications of Deep Neural Networks\n",
    "\n",
    "**Module 1: Embedding layer for Deep Knowledge Tracing**\n",
    "* Researcher: [Jose Naranjo](https://www.linkedin.com/in/jolunavi1/)"
   ]
  },
  {
   "cell_type": "markdown",
   "metadata": {
    "heading_collapsed": true,
    "id": "92qJtJOToBZS"
   },
   "source": [
    "## Google CoLab Instructions\n",
    "\n",
    "The following code ensures that Google CoLab is running the correct version of TensorFlow."
   ]
  },
  {
   "cell_type": "code",
   "execution_count": 1,
   "metadata": {
    "colab": {
     "base_uri": "https://localhost:8080/"
    },
    "executionInfo": {
     "elapsed": 289,
     "status": "ok",
     "timestamp": 1669660737769,
     "user": {
      "displayName": "Jose Luis Naranjo Villota",
      "userId": "10667756153669917815"
     },
     "user_tz": -60
    },
    "hidden": true,
    "id": "LvTVJyBMoBZS",
    "outputId": "4c6a3787-9b21-4145-ea84-75262201c51c"
   },
   "outputs": [
    {
     "name": "stdout",
     "output_type": "stream",
     "text": [
      "Note: not using Google CoLab\n"
     ]
    }
   ],
   "source": [
    "try:\n",
    "    %tensorflow_version 2.x\n",
    "    COLAB = True\n",
    "    print(\"Note: using Google CoLab\")\n",
    "except:\n",
    "    print(\"Note: not using Google CoLab\")\n",
    "    COLAB = False"
   ]
  },
  {
   "cell_type": "markdown",
   "metadata": {
    "id": "wTUM5nqjoBZT"
   },
   "source": [
    "# Embedding Layers in Keras\n"
   ]
  },
  {
   "cell_type": "markdown",
   "metadata": {},
   "source": [
    "\n",
    "[Embedding Layers](https://keras.io/layers/embeddings/) are a handy feature of Keras that allows the program to automatically insert additional information into the data flow of your neural network. Word2Vec can expand words to any dimension vector, for example 300 dimensions. An embedding layer would automatically allow you to insert these 300-dimension vectors in the place of word indexes.  \n",
    "\n",
    "Programmers often use embedding layers with Natural Language Processing (NLP); however, you can use these layers when you wish to insert a lengthier vector in an index value place. In some ways, you can think of an embedding layer as dimension expansion or reduction. However, the hope is that these additional/reduced dimensions provide more information to the model and provide a better score.\n"
   ]
  },
  {
   "cell_type": "markdown",
   "metadata": {},
   "source": [
    "## Simple Embedding Layer Example"
   ]
  },
  {
   "cell_type": "markdown",
   "metadata": {},
   "source": [
    "\n",
    "* **input_dim** = How large is the vocabulary?  How many categories are you encoding? This parameter is the number of items in your \"lookup table.\"\n",
    "* **output_dim** = How many numbers in the vector you wish to return? Number of dimentions to be used.\n",
    "* **input_length** = How many items are in the input feature vector that you need to transform?\n",
    "\n",
    "Now we create a neural network with a vocabulary size of 10, which will reduce those values between 0-9 to 4 number vectors. This neural network does nothing more than passing the embedding on to the output. But it does let us see what the embedding is doing. Each feature vector coming in will have two such features.\n",
    "The given output shows that we provided the program with two rows from the one-hot encoding table. This encoding is a correct one-hot encoding for the values 0 and 1, where there are up to 3 unique values possible. \n",
    "\n",
    "The following section demonstrates how to train this embedding lookup table."
   ]
  },
  {
   "cell_type": "markdown",
   "metadata": {
    "id": "pX76cE9HoBZW"
   },
   "source": [
    "## Training an Embedding"
   ]
  },
  {
   "cell_type": "markdown",
   "metadata": {},
   "source": [
    "First, we make use of the following imports."
   ]
  },
  {
   "cell_type": "code",
   "execution_count": 63,
   "metadata": {
    "id": "mb-nwgKhoBZX"
   },
   "outputs": [],
   "source": [
    "import pandas as pd\n",
    "import matplotlib.pyplot as plt\n",
    "import numpy as np\n",
    "from tensorflow.keras.preprocessing.text import one_hot\n",
    "from tensorflow.keras.preprocessing.sequence import pad_sequences\n",
    "from tensorflow.keras.models import Sequential\n",
    "from tensorflow.keras.layers import Flatten, Embedding, Dense\n",
    "from keras.preprocessing.sequence import TimeseriesGenerator\n",
    "from keras.models import Model"
   ]
  },
  {
   "cell_type": "markdown",
   "metadata": {
    "id": "dJ7UlNZfoBZX"
   },
   "source": [
    "We create a neural network that classifies restaurant reviews according to positive or negative.  This neural network can accept strings as input, such as given here.  This code also includes positive or negative labels for each review."
   ]
  },
  {
   "cell_type": "code",
   "execution_count": 4,
   "metadata": {},
   "outputs": [],
   "source": [
    "#####jolunavi\n",
    "df = pd.read_csv('preguntas_estudent_1261.csv')#,index_col='Pregunta')\n",
    "df.index.freq='MS'"
   ]
  },
  {
   "cell_type": "code",
   "execution_count": 5,
   "metadata": {},
   "outputs": [],
   "source": [
    "#####jolunavi\n",
    "preguntas_pre = df['Question'].to_numpy()\n",
    "respuestas = df['Answer'].to_numpy()"
   ]
  },
  {
   "cell_type": "code",
   "execution_count": 6,
   "metadata": {},
   "outputs": [],
   "source": [
    "#####jolunavi\n",
    "d_codigos = {} #This dictionary will let us find the question in the original data set\n",
    "l_preguntas = list() #contains the list of the questions that student answered with a different numbering format\n",
    "new_id = 1\n",
    "for item in preguntas_pre:\n",
    "    if item not in d_codigos.keys():\n",
    "        d_codigos[item] = new_id\n",
    "        new_id += 1 \n",
    "    l_preguntas.append(d_codigos[item])\n",
    "preguntas = np.array(l_preguntas)    "
   ]
  },
  {
   "cell_type": "markdown",
   "metadata": {},
   "source": [
    "Las variables **pregunas** y **respuestas** son arreglos  de 1261 elementos cada uno, la variable preguntas tiene las nuevas tags a cada pregunta  que empieza con 1 y termina en 71 ( numero differente de preguntas contenidas )"
   ]
  },
  {
   "cell_type": "markdown",
   "metadata": {},
   "source": [
    "La variable **skills_dic** contains an oredered dictionary, whose keys starts on 1 to n and the values contains the description of the skill as they are in the original ASSISTment dataset."
   ]
  },
  {
   "cell_type": "code",
   "execution_count": 23,
   "metadata": {},
   "outputs": [
    {
     "data": {
      "text/plain": [
       "{1: 'Area Trapezoid',\n",
       " 2: 'Area Irregular Figure',\n",
       " 3: 'Probability of Two Distinct Events',\n",
       " 4: 'Table',\n",
       " 5: 'Median',\n",
       " 6: 'Stem and Leaf Plot',\n",
       " 7: 'Mode',\n",
       " 8: 'Mean',\n",
       " 9: 'Range',\n",
       " 10: 'Venn Diagram',\n",
       " 11: 'Histogram as Table or Graph',\n",
       " 12: 'Circle Graph',\n",
       " 13: 'Equivalent Fractions',\n",
       " 14: 'Proportion',\n",
       " 15: 'Fraction Of',\n",
       " 16: 'Probability of a Single Event',\n",
       " 17: 'Scatter Plot',\n",
       " 18: 'Addition and Subtraction Positive Decimals',\n",
       " 19: 'Multiplication Fractions',\n",
       " 20: 'Addition and Subtraction Integers',\n",
       " 21: 'Multiplication and Division Integers',\n",
       " 22: 'Addition Whole Numbers',\n",
       " 23: 'Absolute Value',\n",
       " 24: 'Addition and Subtraction Fractions',\n",
       " 25: 'Subtraction Whole Numbers',\n",
       " 26: 'Equation Solving Two or Fewer Steps',\n",
       " 27: 'Order of Operations +,-,/,* () positive reals',\n",
       " 28: 'Calculations with Similar Figures',\n",
       " 29: 'Counting Methods',\n",
       " 30: 'Ordering Fractions',\n",
       " 31: 'Circumference ',\n",
       " 32: 'Box and Whisker',\n",
       " 33: 'Ordering Integers',\n",
       " 34: 'Conversion of Fraction Decimals Percents',\n",
       " 35: 'Percent Of',\n",
       " 36: 'Unit Rate',\n",
       " 37: 'Ordering Positive Decimals',\n",
       " 38: 'Rounding',\n",
       " 39: 'Volume Rectangular Prism',\n",
       " 40: 'Order of Operations All',\n",
       " 41: 'Finding Percents',\n",
       " 42: 'Pattern Finding ',\n",
       " 43: 'Write Linear Equation from Situation',\n",
       " 44: 'Square Root',\n",
       " 45: 'Algebraic Simplification',\n",
       " 46: 'Algebraic Solving',\n",
       " 47: 'Percent Discount',\n",
       " 48: 'Nets of 3D Figures',\n",
       " 49: 'Complementary and Supplementary Angles',\n",
       " 50: 'Pythagorean Theorem',\n",
       " 51: 'D.4.8-understanding-concept-of-probabilities',\n",
       " 52: 'Congruence',\n",
       " 53: 'Interior Angles Figures with More than 3 Sides',\n",
       " 54: 'Interior Angles Triangle',\n",
       " 55: 'Divisibility Rules',\n",
       " 56: 'Reading a Ruler or Scale',\n",
       " 57: 'Perimeter of a Polygon',\n",
       " 58: 'Solving for a variable',\n",
       " 59: 'Exponents',\n",
       " 60: 'Division Fractions',\n",
       " 61: 'Estimation',\n",
       " 62: 'Ordering Real Numbers',\n",
       " 63: 'Scale Factor',\n",
       " 64: 'Surface Area Rectangular Prism',\n",
       " 65: 'Scientific Notation',\n",
       " 66: 'Write Linear Equation from Graph',\n",
       " 67: 'Percents',\n",
       " 68: 'Area Circle',\n",
       " 69: 'Least Common Multiple',\n",
       " 70: 'Equation Solving More Than Two Steps',\n",
       " 71: 'Angles on Parallel Lines Cut by a Transversal',\n",
       " 72: 'Write Linear Equation from Ordered Pairs',\n",
       " 73: 'Prime Number',\n",
       " 74: 'Multiplication and Division Positive Decimals',\n",
       " 75: 'Volume Sphere',\n",
       " 76: 'Computation with Real Numbers',\n",
       " 77: 'Number Line',\n",
       " 78: 'Rate',\n",
       " 79: 'Solving Inequalities',\n",
       " 80: 'Unit Conversion Within a System',\n",
       " 81: 'Area Rectangle',\n",
       " 82: 'Area Triangle',\n",
       " 83: 'Area Parallelogram',\n",
       " 84: 'Effect of Changing Dimensions of a Shape Prportionally',\n",
       " 85: 'Surface Area Cylinder',\n",
       " 86: 'Volume Cylinder',\n",
       " 87: 'Greatest Common Factor',\n",
       " 88: 'Solving Systems of Linear Equations',\n",
       " 89: 'Solving Systems of Linear Equations by Graphing',\n",
       " 90: 'Multiplication Whole Numbers',\n",
       " 91: 'Polynomial Factors',\n",
       " 92: 'Rotations',\n",
       " 93: 'Reflection',\n",
       " 94: 'Translations',\n",
       " 95: 'Midpoint',\n",
       " 96: 'Interpreting Coordinate Graphs ',\n",
       " 97: 'Choose an Equation from Given Information',\n",
       " 98: 'Intercept',\n",
       " 99: 'Linear Equations',\n",
       " 100: 'Slope',\n",
       " 101: 'Angles - Obtuse, Acute, and Right',\n",
       " 102: 'Distributive Property',\n",
       " 103: 'Recognize Linear Pattern',\n",
       " 104: 'Simplifying Expressions positive exponents',\n",
       " 105: 'Finding Slope from Ordered Pairs',\n",
       " 106: 'Finding Slope From Situation',\n",
       " 107: 'Parts of a Polyomial, Terms, Coefficient, Monomial, Exponent, Variable',\n",
       " 108: 'Recognize Quadratic Pattern',\n",
       " 109: 'Finding Slope From Equation',\n",
       " 110: 'Quadratic Formula to Solve Quadratic Equation'}"
      ]
     },
     "execution_count": 23,
     "metadata": {},
     "output_type": "execute_result"
    }
   ],
   "source": [
    "#####jolunavi\n",
    "sorted_skills = pd.read_csv('data/assist2009_skills.txt', delimiter = \"\\t\", names=[\"ID\", \"Skill\"] ).sort_values(by=[\"ID\"])\n",
    "skills_dic = sorted_skills.set_index('ID')['Skill'].to_dict()\n",
    "#skills_dic"
   ]
  },
  {
   "cell_type": "code",
   "execution_count": 322,
   "metadata": {},
   "outputs": [
    {
     "data": {
      "text/html": [
       "<div>\n",
       "<style scoped>\n",
       "    .dataframe tbody tr th:only-of-type {\n",
       "        vertical-align: middle;\n",
       "    }\n",
       "\n",
       "    .dataframe tbody tr th {\n",
       "        vertical-align: top;\n",
       "    }\n",
       "\n",
       "    .dataframe thead th {\n",
       "        text-align: right;\n",
       "    }\n",
       "</style>\n",
       "<table border=\"1\" class=\"dataframe\">\n",
       "  <thead>\n",
       "    <tr style=\"text-align: right;\">\n",
       "      <th></th>\n",
       "      <th>Descriptioni</th>\n",
       "    </tr>\n",
       "  </thead>\n",
       "  <tbody>\n",
       "    <tr>\n",
       "      <th>1</th>\n",
       "      <td>Addition Whole Numbers</td>\n",
       "    </tr>\n",
       "    <tr>\n",
       "      <th>2</th>\n",
       "      <td>Addition and Subtraction Integers</td>\n",
       "    </tr>\n",
       "    <tr>\n",
       "      <th>3</th>\n",
       "      <td>Multiplication and Division Integers</td>\n",
       "    </tr>\n",
       "    <tr>\n",
       "      <th>4</th>\n",
       "      <td>Addition and Subtraction Positive Decimals</td>\n",
       "    </tr>\n",
       "    <tr>\n",
       "      <th>5</th>\n",
       "      <td>Ordering Integers</td>\n",
       "    </tr>\n",
       "  </tbody>\n",
       "</table>\n",
       "</div>"
      ],
      "text/plain": [
       "                                 Descriptioni\n",
       "1                      Addition Whole Numbers\n",
       "2           Addition and Subtraction Integers\n",
       "3        Multiplication and Division Integers\n",
       "4  Addition and Subtraction Positive Decimals\n",
       "5                           Ordering Integers"
      ]
     },
     "execution_count": 322,
     "metadata": {},
     "output_type": "execute_result"
    }
   ],
   "source": [
    "new_skill_description = pd.DataFrame.from_dict(d_skills, orient='index', columns=['Descriptioni'])\n",
    "new_skill_description.to_csv(\"student_1261_skill_descrip.csv\")\n",
    "new_skill_description.head()"
   ]
  },
  {
   "cell_type": "code",
   "execution_count": 305,
   "metadata": {},
   "outputs": [],
   "source": [
    "#here we match the new skill tag  with the corresponding skill description \n",
    "d_skills = {}\n",
    "for item  in d_codigos.keys():\n",
    "    d_skills[d_codigos[item]] = skills_dic[item]"
   ]
  },
  {
   "cell_type": "code",
   "execution_count": 27,
   "metadata": {},
   "outputs": [
    {
     "data": {
      "text/html": [
       "<div>\n",
       "<style scoped>\n",
       "    .dataframe tbody tr th:only-of-type {\n",
       "        vertical-align: middle;\n",
       "    }\n",
       "\n",
       "    .dataframe tbody tr th {\n",
       "        vertical-align: top;\n",
       "    }\n",
       "\n",
       "    .dataframe thead th {\n",
       "        text-align: right;\n",
       "    }\n",
       "</style>\n",
       "<table border=\"1\" class=\"dataframe\">\n",
       "  <thead>\n",
       "    <tr style=\"text-align: right;\">\n",
       "      <th></th>\n",
       "      <th>Old_tag</th>\n",
       "      <th>New_Tag</th>\n",
       "      <th>Answer</th>\n",
       "      <th>Description</th>\n",
       "    </tr>\n",
       "  </thead>\n",
       "  <tbody>\n",
       "    <tr>\n",
       "      <th>1256</th>\n",
       "      <td>9</td>\n",
       "      <td>47</td>\n",
       "      <td>0</td>\n",
       "      <td>Range</td>\n",
       "    </tr>\n",
       "    <tr>\n",
       "      <th>1257</th>\n",
       "      <td>32</td>\n",
       "      <td>55</td>\n",
       "      <td>1</td>\n",
       "      <td>Box and Whisker</td>\n",
       "    </tr>\n",
       "    <tr>\n",
       "      <th>1258</th>\n",
       "      <td>5</td>\n",
       "      <td>51</td>\n",
       "      <td>1</td>\n",
       "      <td>Median</td>\n",
       "    </tr>\n",
       "    <tr>\n",
       "      <th>1259</th>\n",
       "      <td>32</td>\n",
       "      <td>55</td>\n",
       "      <td>0</td>\n",
       "      <td>Box and Whisker</td>\n",
       "    </tr>\n",
       "    <tr>\n",
       "      <th>1260</th>\n",
       "      <td>9</td>\n",
       "      <td>47</td>\n",
       "      <td>0</td>\n",
       "      <td>Range</td>\n",
       "    </tr>\n",
       "  </tbody>\n",
       "</table>\n",
       "</div>"
      ],
      "text/plain": [
       "      Old_tag  New_Tag  Answer      Description\n",
       "1256        9       47       0            Range\n",
       "1257       32       55       1  Box and Whisker\n",
       "1258        5       51       1           Median\n",
       "1259       32       55       0  Box and Whisker\n",
       "1260        9       47       0            Range"
      ]
     },
     "execution_count": 27,
     "metadata": {},
     "output_type": "execute_result"
    }
   ],
   "source": [
    "data_arranged = list()\n",
    "for item in df.index:\n",
    "    old_tag = df['Question'][item]\n",
    "    new_tag = d_codigos[old_tag]\n",
    "    respuesta =  df['Answer'][item]\n",
    "    description = d_skills[new_tag]\n",
    "    \n",
    "    data_arranged.append([old_tag, new_tag, respuesta,description])\n",
    "new_data = pd.DataFrame(data_arranged, columns=['Old_tag', 'New_Tag', 'Answer', 'Description'])\n",
    "new_data.to_csv(\"student_1261.csv\")\n",
    "new_data.tail()"
   ]
  },
  {
   "cell_type": "code",
   "execution_count": 215,
   "metadata": {},
   "outputs": [],
   "source": [
    "VOCAB_SIZE = max(preguntas) +1\n",
    "n_epoch = 500"
   ]
  },
  {
   "cell_type": "markdown",
   "metadata": {},
   "source": [
    "https://www.youtube.com/watch?v=S8tpSG6Q2H0&t=304s&ab_channel=NachiketaHebbar"
   ]
  },
  {
   "cell_type": "markdown",
   "metadata": {},
   "source": [
    "# Modelo 1"
   ]
  },
  {
   "cell_type": "markdown",
   "metadata": {},
   "source": [
    "### Model trainning , accuracy and loss graphs"
   ]
  },
  {
   "cell_type": "markdown",
   "metadata": {},
   "source": [
    "In this model make, sure to set the  variable **n_input** = 20 "
   ]
  },
  {
   "cell_type": "code",
   "execution_count": 235,
   "metadata": {
    "hidden": true
   },
   "outputs": [],
   "source": [
    "# define generator, consider the previos 20 answers, number of timesteps\n",
    "n_input = 201"
   ]
  },
  {
   "cell_type": "code",
   "execution_count": 236,
   "metadata": {
    "hidden": true
   },
   "outputs": [],
   "source": [
    "#####jolunavi: the total number of questions are 1261\n",
    "n_interactions = 1260 #len(preguntas)\n",
    "batch_s = n_interactions - n_input\n",
    "train = preguntas[:n_interactions]\n",
    "train_y = respuestas[n_input:n_interactions] #se toman desde la respuesta 21 porque las preimeras 20 preguntas ayudan a producir la respuesta 21"
   ]
  },
  {
   "cell_type": "code",
   "execution_count": 237,
   "metadata": {
    "hidden": true
   },
   "outputs": [],
   "source": [
    "n_features = 1 # in this particular case it might be 2; question and answer, however we concider only the question\n",
    "generator = TimeseriesGenerator(train, train, length=n_input, batch_size=batch_s)\n",
    "X,y = generator[0]\n",
    "padded_reviews = pad_sequences(X, maxlen=n_input, padding='post')"
   ]
  },
  {
   "cell_type": "code",
   "execution_count": 238,
   "metadata": {
    "colab": {
     "base_uri": "https://localhost:8080/"
    },
    "id": "GK2yiTFRoBZX",
    "outputId": "c23f9d36-ae89-4ef6-9e1a-788f1977b918",
    "scrolled": true
   },
   "outputs": [],
   "source": [
    "model1 = Sequential()\n",
    "embedding_layer = Embedding(VOCAB_SIZE, 10, input_length=n_input)\n",
    "model1.add(embedding_layer)\n",
    "model1.add(Flatten())\n",
    "model1.add(Dense(1, activation='sigmoid'))\n",
    "model1.compile(optimizer='adam', loss='binary_crossentropy', metrics=['acc'])\n",
    "#print(model1.summary())"
   ]
  },
  {
   "cell_type": "code",
   "execution_count": 239,
   "metadata": {
    "colab": {
     "base_uri": "https://localhost:8080/"
    },
    "id": "BkRJvhz7oBZY",
    "outputId": "49c3fb2f-ae02-4627-dee1-896e516eb446"
   },
   "outputs": [],
   "source": [
    "# fit the model\n",
    "history1 = model1.fit(padded_reviews, train_y, epochs=n_epoch, verbose=0)"
   ]
  },
  {
   "cell_type": "code",
   "execution_count": 240,
   "metadata": {
    "colab": {
     "base_uri": "https://localhost:8080/"
    },
    "id": "of3oQrPxoBZY",
    "outputId": "d33fc5a1-97bc-4b55-ed99-f2ed4a7e3999"
   },
   "outputs": [
    {
     "name": "stdout",
     "output_type": "stream",
     "text": [
      "34/34 [==============================] - 0s 5ms/step - loss: 4.3574e-06 - acc: 1.0000\n",
      "Accuracy: 1.0\n",
      "Log-loss: 4.357397301646415e-06\n"
     ]
    }
   ],
   "source": [
    "loss, accuracy = model1.evaluate(padded_reviews, train_y, verbose=1)\n",
    "print(f'Accuracy: {accuracy}')\n",
    "print(f'Log-loss: {loss}')\n"
   ]
  },
  {
   "cell_type": "code",
   "execution_count": 241,
   "metadata": {},
   "outputs": [
    {
     "data": {
      "image/png": "[encoded data removed]",
      "text/plain": [
       "<Figure size 640x480 with 1 Axes>"
      ]
     },
     "metadata": {},
     "output_type": "display_data"
    }
   ],
   "source": [
    "plt.plot(history1.history['acc'])\n",
    "#plt.plot(history.history['val_acc'])\n",
    "plt.title('model accuracy')\n",
    "plt.ylabel('accuracy')\n",
    "plt.xlabel('epoch')\n",
    "plt.legend(['train'], loc='upper left')\n",
    "plt.show()"
   ]
  },
  {
   "cell_type": "markdown",
   "metadata": {},
   "source": [
    "### Contour plotting"
   ]
  },
  {
   "cell_type": "code",
   "execution_count": 242,
   "metadata": {},
   "outputs": [],
   "source": [
    "#n_input = 200\n",
    "model1_1 = Model(inputs=model1.input, outputs=model1.layers[-3].output)\n",
    "#model1_1.summary()"
   ]
  },
  {
   "cell_type": "code",
   "execution_count": 243,
   "metadata": {},
   "outputs": [],
   "source": [
    "skills_key = list(d_skills.keys())\n",
    "complete = n_input - len(skills_key)% n_input\n",
    "for i in range(complete):\n",
    "    skills_key.append(0)\n",
    "x_dim = int(len(skills_key)/(n_input))\n",
    "re_skills = np.reshape(skills_key, (x_dim,n_input))"
   ]
  },
  {
   "cell_type": "code",
   "execution_count": 244,
   "metadata": {},
   "outputs": [
    {
     "name": "stdout",
     "output_type": "stream",
     "text": [
      "1/1 [==============================] - 0s 42ms/step\n"
     ]
    }
   ],
   "source": [
    "output = model1_1.predict(re_skills)\n",
    "shape_arr = output.shape\n",
    "reshaped_output = np.reshape(output,((shape_arr[0]*shape_arr[1]),shape_arr[2] ))\n",
    "#reshaped_output # this is the  reresentation of the 71 questions in 10-D "
   ]
  },
  {
   "cell_type": "code",
   "execution_count": 245,
   "metadata": {},
   "outputs": [],
   "source": [
    "from sklearn.decomposition import PCA\n",
    "\n",
    "# fit a 3-D PCA model to the vectors\n",
    "words = pd.DataFrame(skills_key[0:20], columns =['word']) # Tengo que pomner lso nombre sd elas preguntas que van a ser codificadas aqui:\n",
    "vectors = reshaped_output[0:20,:] #  \n",
    "pca = PCA(n_components=3)\n",
    "PCA_result = pca.fit_transform(vectors)\n",
    "\n",
    "PCA_result = pd.DataFrame(PCA_result)\n",
    "PCA_result['x'] = PCA_result.iloc[0:, 0]\n",
    "PCA_result['y'] = PCA_result.iloc[0:, 1]\n",
    "PCA_result['z'] = PCA_result.iloc[0:, 2]\n",
    "\n",
    "PCA_final = pd.merge(words, PCA_result, left_index = True, right_index=True)\n",
    "PCA_final = PCA_final[['word','x','y','z']]"
   ]
  },
  {
   "cell_type": "code",
   "execution_count": 246,
   "metadata": {},
   "outputs": [
    {
     "data": {
      "image/png": "[encoded data removed]",
      "text/plain": [
       "<Figure size 1400x900 with 2 Axes>"
      ]
     },
     "metadata": {},
     "output_type": "display_data"
    }
   ],
   "source": [
    "Z = PCA_final.pivot_table(index='x', columns='y', values='z').T.values\n",
    "Z = np.nan_to_num(Z, copy=True, nan=0.0)\n",
    "\n",
    "X_unique = np.sort(PCA_final.x.unique())\n",
    "Y_unique = np.sort(PCA_final.y.unique())\n",
    "X, Y = np.meshgrid(X_unique, Y_unique)\n",
    "\n",
    "# generate a contour plot\n",
    "import matplotlib.pyplot as plt\n",
    "\n",
    "plt.figure(figsize=(14,9))\n",
    "plt.contourf(X, Y, Z, 1000, cmap='Blues')\n",
    "\n",
    "# loop through to annotate multiple datapoints\n",
    "for i in range(PCA_final.shape[0]):\n",
    "    plt.annotate(PCA_final.word.tolist()[i], (PCA_final.x.tolist()[i], PCA_final.y.tolist()[i]))\n",
    "\n",
    "plt.tight_layout()\n",
    "plt.title('contour plot for the first 20 embeddings')\n",
    "plt.colorbar()\n",
    "plt.savefig('contour_plot_201_500epoch.png')\n",
    "plt.show()"
   ]
  },
  {
   "cell_type": "markdown",
   "metadata": {},
   "source": [
    "# Model 2"
   ]
  },
  {
   "cell_type": "markdown",
   "metadata": {
    "heading_collapsed": true
   },
   "source": [
    "### Model trainning , accuracy and loss graphs"
   ]
  },
  {
   "cell_type": "markdown",
   "metadata": {
    "hidden": true
   },
   "source": [
    "In this model make, sure to set the  variable **n_input** = 40 "
   ]
  },
  {
   "cell_type": "code",
   "execution_count": 205,
   "metadata": {
    "hidden": true
   },
   "outputs": [],
   "source": [
    "# define generator, consider the previos 20 answers, number of timesteps\n",
    "n_input = 40"
   ]
  },
  {
   "cell_type": "code",
   "execution_count": 206,
   "metadata": {
    "hidden": true
   },
   "outputs": [],
   "source": [
    "#####jolunavi: the total number of questions are 1261\n",
    "n_interactions = 1260 #len(preguntas)\n",
    "batch_s = n_interactions - n_input\n",
    "train = preguntas[:n_interactions]\n",
    "train_y = respuestas[n_input:n_interactions] #se toman desde la respuesta 21 porque las preimeras 20 preguntas ayudan a producir la respuesta 21"
   ]
  },
  {
   "cell_type": "code",
   "execution_count": 207,
   "metadata": {
    "hidden": true
   },
   "outputs": [],
   "source": [
    "n_features = 1 # in this particular case it might be 2; question and answer, however we concider only the question\n",
    "generator = TimeseriesGenerator(train, train, length=n_input, batch_size=batch_s)\n",
    "X,y = generator[0]\n",
    "padded_reviews = pad_sequences(X, maxlen=n_input, padding='post')"
   ]
  },
  {
   "cell_type": "code",
   "execution_count": 208,
   "metadata": {
    "hidden": true
   },
   "outputs": [],
   "source": [
    "model2 = Sequential()\n",
    "embedding_layer = Embedding(VOCAB_SIZE, 10, input_length=n_input)\n",
    "model2.add(embedding_layer)\n",
    "model2.add(Flatten())\n",
    "model2.add(Dense(1, activation='sigmoid'))\n",
    "model2.compile(optimizer='adam', loss='binary_crossentropy', metrics=['acc'])\n",
    "history2 = model2.fit(padded_reviews, train_y, epochs=n_epoch, verbose=0)"
   ]
  },
  {
   "cell_type": "code",
   "execution_count": 209,
   "metadata": {
    "hidden": true
   },
   "outputs": [
    {
     "data": {
      "image/png": "[encoded data removed]",
      "text/plain": [
       "<Figure size 640x480 with 1 Axes>"
      ]
     },
     "metadata": {},
     "output_type": "display_data"
    }
   ],
   "source": [
    "plt.plot(history2.history['acc'])\n",
    "#plt.plot(history.history['val_acc'])\n",
    "plt.title('model accuracy')\n",
    "plt.ylabel('accuracy')\n",
    "plt.xlabel('epoch')\n",
    "plt.legend(['train'], loc='upper left')\n",
    "plt.show()"
   ]
  },
  {
   "cell_type": "markdown",
   "metadata": {
    "heading_collapsed": true
   },
   "source": [
    "### Contour plotting"
   ]
  },
  {
   "cell_type": "code",
   "execution_count": 210,
   "metadata": {
    "hidden": true
   },
   "outputs": [],
   "source": [
    "#n_input = 40\n",
    "model2_1 = Model(inputs=model2.input, outputs=model2.layers[-3].output)"
   ]
  },
  {
   "cell_type": "code",
   "execution_count": 211,
   "metadata": {
    "hidden": true
   },
   "outputs": [],
   "source": [
    "skills_key = list(d_skills.keys())\n",
    "complete = n_input - len(skills_key)% n_input\n",
    "for i in range(complete):\n",
    "    skills_key.append(0)\n",
    "x_dim = int(len(skills_key)/(n_input))\n",
    "re_skills = np.reshape(skills_key, (x_dim,n_input))"
   ]
  },
  {
   "cell_type": "code",
   "execution_count": 212,
   "metadata": {
    "hidden": true
   },
   "outputs": [
    {
     "name": "stdout",
     "output_type": "stream",
     "text": [
      "1/1 [==============================] - 0s 37ms/step\n"
     ]
    }
   ],
   "source": [
    "output = model2_1.predict(re_skills)\n",
    "shape_arr = output.shape\n",
    "reshaped_output = np.reshape(output,((shape_arr[0]*shape_arr[1]),shape_arr[2] ))\n",
    "#reshaped_output # this is the  reresentation of the 71 questions in 10-D "
   ]
  },
  {
   "cell_type": "code",
   "execution_count": 213,
   "metadata": {
    "hidden": true
   },
   "outputs": [],
   "source": [
    "from sklearn.decomposition import PCA\n",
    "\n",
    "# fit a 3-D PCA model to the vectors\n",
    "words = pd.DataFrame(skills_key[0:20], columns =['word']) # Tengo que pomner lso nombre sd elas preguntas que van a ser codificadas aqui:\n",
    "vectors = reshaped_output[0:20,:] #  \n",
    "pca = PCA(n_components=3)\n",
    "PCA_result = pca.fit_transform(vectors)\n",
    "\n",
    "PCA_result = pd.DataFrame(PCA_result)\n",
    "PCA_result['x'] = PCA_result.iloc[0:, 0]\n",
    "PCA_result['y'] = PCA_result.iloc[0:, 1]\n",
    "PCA_result['z'] = PCA_result.iloc[0:, 2]\n",
    "\n",
    "PCA_final = pd.merge(words, PCA_result, left_index = True, right_index=True)\n",
    "PCA_final = PCA_final[['word','x','y','z']]"
   ]
  },
  {
   "cell_type": "code",
   "execution_count": 214,
   "metadata": {
    "hidden": true
   },
   "outputs": [
    {
     "data": {
      "image/png": "[encoded data removed]",
      "text/plain": [
       "<Figure size 2000x1200 with 2 Axes>"
      ]
     },
     "metadata": {},
     "output_type": "display_data"
    }
   ],
   "source": [
    "Z = PCA_final.pivot_table(index='x', columns='y', values='z').T.values\n",
    "Z = np.nan_to_num(Z, copy=True, nan=0.0)\n",
    "\n",
    "X_unique = np.sort(PCA_final.x.unique())\n",
    "Y_unique = np.sort(PCA_final.y.unique())\n",
    "X, Y = np.meshgrid(X_unique, Y_unique)\n",
    "\n",
    "# generate a contour plot\n",
    "import matplotlib.pyplot as plt\n",
    "\n",
    "plt.figure(figsize=(20,12))\n",
    "plt.contourf(X, Y, Z, 1000, cmap='Blues')\n",
    "\n",
    "# loop through to annotate multiple datapoints\n",
    "for i in range(PCA_final.shape[0]):\n",
    "    plt.annotate(PCA_final.word.tolist()[i], (PCA_final.x.tolist()[i], PCA_final.y.tolist()[i]))\n",
    "\n",
    "plt.tight_layout()\n",
    "plt.title('contour plot for the first 20 embeddings')\n",
    "plt.colorbar()\n",
    "plt.savefig('contour_plot_40.png')\n",
    "plt.show()"
   ]
  },
  {
   "cell_type": "markdown",
   "metadata": {},
   "source": [
    "# Model 3"
   ]
  },
  {
   "cell_type": "markdown",
   "metadata": {
    "heading_collapsed": true
   },
   "source": [
    "### Model trainning , accuracy and loss graphs"
   ]
  },
  {
   "cell_type": "markdown",
   "metadata": {
    "hidden": true
   },
   "source": [
    "In this model make, sure to set the  variable **n_input** = 60 "
   ]
  },
  {
   "cell_type": "code",
   "execution_count": 44,
   "metadata": {
    "hidden": true
   },
   "outputs": [],
   "source": [
    "# define generator, consider the previos 20 answers, number of timesteps\n",
    "n_input = 60"
   ]
  },
  {
   "cell_type": "code",
   "execution_count": 45,
   "metadata": {
    "hidden": true
   },
   "outputs": [],
   "source": [
    "#####jolunavi: the total number of questions are 1261\n",
    "n_interactions = 1260 #len(preguntas)\n",
    "batch_s = n_interactions - n_input\n",
    "train = preguntas[:n_interactions]\n",
    "train_y = respuestas[n_input:n_interactions] #se toman desde la respuesta 21 porque las preimeras 20 preguntas ayudan a producir la respuesta 21"
   ]
  },
  {
   "cell_type": "code",
   "execution_count": 46,
   "metadata": {
    "hidden": true
   },
   "outputs": [],
   "source": [
    "n_features = 1 # in this particular case it might be 2; question and answer, however we concider only the question\n",
    "generator = TimeseriesGenerator(train, train, length=n_input, batch_size=batch_s)\n",
    "X,y = generator[0]\n",
    "padded_reviews = pad_sequences(X, maxlen=n_input, padding='post')"
   ]
  },
  {
   "cell_type": "code",
   "execution_count": 47,
   "metadata": {
    "hidden": true
   },
   "outputs": [
    {
     "name": "stdout",
     "output_type": "stream",
     "text": [
      "Epoch 1/1000\n",
      "38/38 [==============================] - 1s 2ms/step - loss: 0.6915 - acc: 0.5433\n",
      "Epoch 2/1000\n",
      "38/38 [==============================] - 0s 2ms/step - loss: 0.6781 - acc: 0.6533\n",
      "Epoch 3/1000\n",
      "38/38 [==============================] - 0s 3ms/step - loss: 0.6567 - acc: 0.6433\n",
      "Epoch 4/1000\n",
      "38/38 [==============================] - 0s 2ms/step - loss: 0.6322 - acc: 0.6567\n",
      "Epoch 5/1000\n",
      "38/38 [==============================] - 0s 3ms/step - loss: 0.6131 - acc: 0.6733\n",
      "Epoch 6/1000\n",
      "38/38 [==============================] - 0s 3ms/step - loss: 0.5966 - acc: 0.6850\n",
      "Epoch 7/1000\n",
      "38/38 [==============================] - 0s 2ms/step - loss: 0.5822 - acc: 0.6975\n",
      "Epoch 8/1000\n",
      "38/38 [==============================] - 0s 3ms/step - loss: 0.5690 - acc: 0.7125\n",
      "Epoch 9/1000\n",
      "38/38 [==============================] - 0s 3ms/step - loss: 0.5563 - acc: 0.7350\n",
      "Epoch 10/1000\n",
      "38/38 [==============================] - 0s 2ms/step - loss: 0.5447 - acc: 0.7458\n",
      "Epoch 11/1000\n",
      "38/38 [==============================] - 0s 3ms/step - loss: 0.5342 - acc: 0.7450\n",
      "Epoch 12/1000\n",
      "38/38 [==============================] - 0s 3ms/step - loss: 0.5240 - acc: 0.7525\n",
      "Epoch 13/1000\n",
      "38/38 [==============================] - 0s 3ms/step - loss: 0.5150 - acc: 0.7667\n",
      "Epoch 14/1000\n",
      "38/38 [==============================] - 0s 3ms/step - loss: 0.5051 - acc: 0.7683\n",
      "Epoch 15/1000\n",
      "38/38 [==============================] - 0s 3ms/step - loss: 0.4961 - acc: 0.7808\n",
      "Epoch 16/1000\n",
      "38/38 [==============================] - 0s 3ms/step - loss: 0.4888 - acc: 0.7800\n",
      "Epoch 17/1000\n",
      "38/38 [==============================] - 0s 3ms/step - loss: 0.4802 - acc: 0.7833\n",
      "Epoch 18/1000\n",
      "38/38 [==============================] - 0s 3ms/step - loss: 0.4731 - acc: 0.7950\n",
      "Epoch 19/1000\n",
      "38/38 [==============================] - 0s 3ms/step - loss: 0.4659 - acc: 0.7883\n",
      "Epoch 20/1000\n",
      "38/38 [==============================] - 0s 2ms/step - loss: 0.4586 - acc: 0.7925\n",
      "Epoch 21/1000\n",
      "38/38 [==============================] - 0s 3ms/step - loss: 0.4534 - acc: 0.7942\n",
      "Epoch 22/1000\n",
      "38/38 [==============================] - 0s 2ms/step - loss: 0.4465 - acc: 0.8000\n",
      "Epoch 23/1000\n",
      "38/38 [==============================] - 0s 3ms/step - loss: 0.4397 - acc: 0.8017\n",
      "Epoch 24/1000\n",
      "38/38 [==============================] - 0s 3ms/step - loss: 0.4334 - acc: 0.8050\n",
      "Epoch 25/1000\n",
      "38/38 [==============================] - 0s 2ms/step - loss: 0.4291 - acc: 0.8142\n",
      "Epoch 26/1000\n",
      "38/38 [==============================] - 0s 3ms/step - loss: 0.4219 - acc: 0.8175\n",
      "Epoch 27/1000\n",
      "38/38 [==============================] - 0s 3ms/step - loss: 0.4180 - acc: 0.8192\n",
      "Epoch 28/1000\n",
      "38/38 [==============================] - 0s 3ms/step - loss: 0.4108 - acc: 0.8242\n",
      "Epoch 29/1000\n",
      "38/38 [==============================] - 0s 3ms/step - loss: 0.4058 - acc: 0.8250\n",
      "Epoch 30/1000\n",
      "38/38 [==============================] - 0s 3ms/step - loss: 0.4000 - acc: 0.8325\n",
      "Epoch 31/1000\n",
      "38/38 [==============================] - 0s 3ms/step - loss: 0.3959 - acc: 0.8333\n",
      "Epoch 32/1000\n",
      "38/38 [==============================] - 0s 3ms/step - loss: 0.3904 - acc: 0.8392\n",
      "Epoch 33/1000\n",
      "38/38 [==============================] - 0s 3ms/step - loss: 0.3853 - acc: 0.8417\n",
      "Epoch 34/1000\n",
      "38/38 [==============================] - 0s 3ms/step - loss: 0.3795 - acc: 0.8408\n",
      "Epoch 35/1000\n",
      "38/38 [==============================] - 0s 2ms/step - loss: 0.3751 - acc: 0.8475\n",
      "Epoch 36/1000\n",
      "38/38 [==============================] - 0s 3ms/step - loss: 0.3705 - acc: 0.8542\n",
      "Epoch 37/1000\n",
      "38/38 [==============================] - 0s 2ms/step - loss: 0.3657 - acc: 0.8533\n",
      "Epoch 38/1000\n",
      "38/38 [==============================] - 0s 3ms/step - loss: 0.3615 - acc: 0.8575\n",
      "Epoch 39/1000\n",
      "38/38 [==============================] - 0s 2ms/step - loss: 0.3573 - acc: 0.8617\n",
      "Epoch 40/1000\n",
      "38/38 [==============================] - 0s 2ms/step - loss: 0.3525 - acc: 0.8650\n",
      "Epoch 41/1000\n",
      "38/38 [==============================] - 0s 3ms/step - loss: 0.3479 - acc: 0.8633\n",
      "Epoch 42/1000\n",
      "38/38 [==============================] - 0s 3ms/step - loss: 0.3441 - acc: 0.8692\n",
      "Epoch 43/1000\n",
      "38/38 [==============================] - 0s 2ms/step - loss: 0.3398 - acc: 0.8708\n",
      "Epoch 44/1000\n",
      "38/38 [==============================] - 0s 3ms/step - loss: 0.3363 - acc: 0.8708\n",
      "Epoch 45/1000\n",
      "38/38 [==============================] - 0s 3ms/step - loss: 0.3314 - acc: 0.8725\n",
      "Epoch 46/1000\n",
      "38/38 [==============================] - 0s 2ms/step - loss: 0.3275 - acc: 0.8725\n",
      "Epoch 47/1000\n",
      "38/38 [==============================] - 0s 3ms/step - loss: 0.3233 - acc: 0.8800\n",
      "Epoch 48/1000\n",
      "38/38 [==============================] - 0s 3ms/step - loss: 0.3194 - acc: 0.8775\n",
      "Epoch 49/1000\n",
      "38/38 [==============================] - 0s 2ms/step - loss: 0.3160 - acc: 0.8850\n",
      "Epoch 50/1000\n",
      "38/38 [==============================] - 0s 3ms/step - loss: 0.3116 - acc: 0.8833\n",
      "Epoch 51/1000\n",
      "38/38 [==============================] - 0s 3ms/step - loss: 0.3074 - acc: 0.8817\n",
      "Epoch 52/1000\n",
      "38/38 [==============================] - 0s 3ms/step - loss: 0.3038 - acc: 0.8883\n",
      "Epoch 53/1000\n",
      "38/38 [==============================] - 0s 3ms/step - loss: 0.3007 - acc: 0.8875\n",
      "Epoch 54/1000\n",
      "38/38 [==============================] - 0s 3ms/step - loss: 0.2967 - acc: 0.8908\n",
      "Epoch 55/1000\n",
      "38/38 [==============================] - 0s 2ms/step - loss: 0.2929 - acc: 0.8908\n",
      "Epoch 56/1000\n",
      "38/38 [==============================] - 0s 2ms/step - loss: 0.2891 - acc: 0.8942\n",
      "Epoch 57/1000\n",
      "38/38 [==============================] - 0s 3ms/step - loss: 0.2861 - acc: 0.8933\n",
      "Epoch 58/1000\n",
      "38/38 [==============================] - 0s 2ms/step - loss: 0.2824 - acc: 0.8958\n",
      "Epoch 59/1000\n",
      "38/38 [==============================] - 0s 2ms/step - loss: 0.2791 - acc: 0.9000\n",
      "Epoch 60/1000\n",
      "38/38 [==============================] - 0s 2ms/step - loss: 0.2755 - acc: 0.9008\n",
      "Epoch 61/1000\n",
      "38/38 [==============================] - 0s 2ms/step - loss: 0.2720 - acc: 0.9017\n",
      "Epoch 62/1000\n",
      "38/38 [==============================] - 0s 3ms/step - loss: 0.2689 - acc: 0.9033\n",
      "Epoch 63/1000\n",
      "38/38 [==============================] - 0s 2ms/step - loss: 0.2658 - acc: 0.9067\n",
      "Epoch 64/1000\n",
      "38/38 [==============================] - 0s 2ms/step - loss: 0.2621 - acc: 0.9050\n",
      "Epoch 65/1000\n",
      "38/38 [==============================] - 0s 2ms/step - loss: 0.2598 - acc: 0.9033\n",
      "Epoch 66/1000\n",
      "38/38 [==============================] - 0s 2ms/step - loss: 0.2558 - acc: 0.9067\n",
      "Epoch 67/1000\n",
      "38/38 [==============================] - 0s 3ms/step - loss: 0.2536 - acc: 0.9150\n",
      "Epoch 68/1000\n",
      "38/38 [==============================] - 0s 2ms/step - loss: 0.2499 - acc: 0.9133\n",
      "Epoch 69/1000\n",
      "38/38 [==============================] - 0s 2ms/step - loss: 0.2467 - acc: 0.9117\n",
      "Epoch 70/1000\n",
      "38/38 [==============================] - 0s 3ms/step - loss: 0.2436 - acc: 0.9142\n",
      "Epoch 71/1000\n",
      "38/38 [==============================] - 0s 2ms/step - loss: 0.2409 - acc: 0.9167\n",
      "Epoch 72/1000\n",
      "38/38 [==============================] - 0s 2ms/step - loss: 0.2379 - acc: 0.9167\n",
      "Epoch 73/1000\n",
      "38/38 [==============================] - 0s 2ms/step - loss: 0.2358 - acc: 0.9200\n",
      "Epoch 74/1000\n",
      "38/38 [==============================] - 0s 3ms/step - loss: 0.2328 - acc: 0.9200\n",
      "Epoch 75/1000\n",
      "38/38 [==============================] - 0s 3ms/step - loss: 0.2304 - acc: 0.9242\n",
      "Epoch 76/1000\n",
      "38/38 [==============================] - 0s 2ms/step - loss: 0.2272 - acc: 0.9242\n",
      "Epoch 77/1000\n",
      "38/38 [==============================] - 0s 2ms/step - loss: 0.2248 - acc: 0.9283\n",
      "Epoch 78/1000\n",
      "38/38 [==============================] - 0s 3ms/step - loss: 0.2219 - acc: 0.9242\n",
      "Epoch 79/1000\n",
      "38/38 [==============================] - 0s 3ms/step - loss: 0.2193 - acc: 0.9292\n",
      "Epoch 80/1000\n",
      "38/38 [==============================] - 0s 2ms/step - loss: 0.2165 - acc: 0.9333\n",
      "Epoch 81/1000\n",
      "38/38 [==============================] - 0s 3ms/step - loss: 0.2142 - acc: 0.9333\n",
      "Epoch 82/1000\n",
      "38/38 [==============================] - 0s 3ms/step - loss: 0.2115 - acc: 0.9333\n",
      "Epoch 83/1000\n",
      "38/38 [==============================] - 0s 3ms/step - loss: 0.2084 - acc: 0.9342\n",
      "Epoch 84/1000\n",
      "38/38 [==============================] - 0s 3ms/step - loss: 0.2066 - acc: 0.9342\n",
      "Epoch 85/1000\n",
      "38/38 [==============================] - 0s 2ms/step - loss: 0.2037 - acc: 0.9325\n",
      "Epoch 86/1000\n"
     ]
    },
    {
     "name": "stdout",
     "output_type": "stream",
     "text": [
      "38/38 [==============================] - 0s 2ms/step - loss: 0.2020 - acc: 0.9367\n",
      "Epoch 87/1000\n",
      "38/38 [==============================] - 0s 2ms/step - loss: 0.1991 - acc: 0.9408\n",
      "Epoch 88/1000\n",
      "38/38 [==============================] - 0s 2ms/step - loss: 0.1967 - acc: 0.9400\n",
      "Epoch 89/1000\n",
      "38/38 [==============================] - 0s 2ms/step - loss: 0.1949 - acc: 0.9417\n",
      "Epoch 90/1000\n",
      "38/38 [==============================] - 0s 2ms/step - loss: 0.1924 - acc: 0.9425\n",
      "Epoch 91/1000\n",
      "38/38 [==============================] - 0s 3ms/step - loss: 0.1903 - acc: 0.9417\n",
      "Epoch 92/1000\n",
      "38/38 [==============================] - 0s 2ms/step - loss: 0.1876 - acc: 0.9450\n",
      "Epoch 93/1000\n",
      "38/38 [==============================] - 0s 2ms/step - loss: 0.1857 - acc: 0.9450\n",
      "Epoch 94/1000\n",
      "38/38 [==============================] - 0s 3ms/step - loss: 0.1836 - acc: 0.9442\n",
      "Epoch 95/1000\n",
      "38/38 [==============================] - 0s 2ms/step - loss: 0.1815 - acc: 0.9450\n",
      "Epoch 96/1000\n",
      "38/38 [==============================] - 0s 2ms/step - loss: 0.1797 - acc: 0.9442\n",
      "Epoch 97/1000\n",
      "38/38 [==============================] - 0s 2ms/step - loss: 0.1773 - acc: 0.9458\n",
      "Epoch 98/1000\n",
      "38/38 [==============================] - 0s 2ms/step - loss: 0.1750 - acc: 0.9508\n",
      "Epoch 99/1000\n",
      "38/38 [==============================] - 0s 2ms/step - loss: 0.1737 - acc: 0.9492\n",
      "Epoch 100/1000\n",
      "38/38 [==============================] - 0s 2ms/step - loss: 0.1711 - acc: 0.9508\n",
      "Epoch 101/1000\n",
      "38/38 [==============================] - 0s 3ms/step - loss: 0.1698 - acc: 0.9517\n",
      "Epoch 102/1000\n",
      "38/38 [==============================] - 0s 2ms/step - loss: 0.1674 - acc: 0.9517\n",
      "Epoch 103/1000\n",
      "38/38 [==============================] - 0s 2ms/step - loss: 0.1655 - acc: 0.9533\n",
      "Epoch 104/1000\n",
      "38/38 [==============================] - 0s 2ms/step - loss: 0.1640 - acc: 0.9517\n",
      "Epoch 105/1000\n",
      "38/38 [==============================] - 0s 2ms/step - loss: 0.1617 - acc: 0.9508\n",
      "Epoch 106/1000\n",
      "38/38 [==============================] - 0s 3ms/step - loss: 0.1596 - acc: 0.9567\n",
      "Epoch 107/1000\n",
      "38/38 [==============================] - 0s 3ms/step - loss: 0.1582 - acc: 0.9558\n",
      "Epoch 108/1000\n",
      "38/38 [==============================] - 0s 2ms/step - loss: 0.1568 - acc: 0.9517\n",
      "Epoch 109/1000\n",
      "38/38 [==============================] - 0s 2ms/step - loss: 0.1546 - acc: 0.9533\n",
      "Epoch 110/1000\n",
      "38/38 [==============================] - 0s 2ms/step - loss: 0.1528 - acc: 0.9583\n",
      "Epoch 111/1000\n",
      "38/38 [==============================] - 0s 3ms/step - loss: 0.1513 - acc: 0.9583\n",
      "Epoch 112/1000\n",
      "38/38 [==============================] - 0s 3ms/step - loss: 0.1494 - acc: 0.9600\n",
      "Epoch 113/1000\n",
      "38/38 [==============================] - 0s 2ms/step - loss: 0.1482 - acc: 0.9583\n",
      "Epoch 114/1000\n",
      "38/38 [==============================] - 0s 3ms/step - loss: 0.1461 - acc: 0.9600\n",
      "Epoch 115/1000\n",
      "38/38 [==============================] - 0s 3ms/step - loss: 0.1449 - acc: 0.9600\n",
      "Epoch 116/1000\n",
      "38/38 [==============================] - 0s 2ms/step - loss: 0.1429 - acc: 0.9608\n",
      "Epoch 117/1000\n",
      "38/38 [==============================] - 0s 2ms/step - loss: 0.1417 - acc: 0.9642\n",
      "Epoch 118/1000\n",
      "38/38 [==============================] - 0s 2ms/step - loss: 0.1398 - acc: 0.9600\n",
      "Epoch 119/1000\n",
      "38/38 [==============================] - 0s 2ms/step - loss: 0.1385 - acc: 0.9608\n",
      "Epoch 120/1000\n",
      "38/38 [==============================] - 0s 2ms/step - loss: 0.1371 - acc: 0.9642\n",
      "Epoch 121/1000\n",
      "38/38 [==============================] - 0s 2ms/step - loss: 0.1352 - acc: 0.9650\n",
      "Epoch 122/1000\n",
      "38/38 [==============================] - 0s 2ms/step - loss: 0.1339 - acc: 0.9617\n",
      "Epoch 123/1000\n",
      "38/38 [==============================] - 0s 3ms/step - loss: 0.1323 - acc: 0.9642\n",
      "Epoch 124/1000\n",
      "38/38 [==============================] - 0s 2ms/step - loss: 0.1307 - acc: 0.9650\n",
      "Epoch 125/1000\n",
      "38/38 [==============================] - 0s 2ms/step - loss: 0.1296 - acc: 0.9650\n",
      "Epoch 126/1000\n",
      "38/38 [==============================] - 0s 2ms/step - loss: 0.1279 - acc: 0.9642\n",
      "Epoch 127/1000\n",
      "38/38 [==============================] - 0s 2ms/step - loss: 0.1265 - acc: 0.9642\n",
      "Epoch 128/1000\n",
      "38/38 [==============================] - 0s 2ms/step - loss: 0.1256 - acc: 0.9667\n",
      "Epoch 129/1000\n",
      "38/38 [==============================] - 0s 2ms/step - loss: 0.1237 - acc: 0.9658\n",
      "Epoch 130/1000\n",
      "38/38 [==============================] - 0s 2ms/step - loss: 0.1227 - acc: 0.9658\n",
      "Epoch 131/1000\n",
      "38/38 [==============================] - 0s 3ms/step - loss: 0.1211 - acc: 0.9667\n",
      "Epoch 132/1000\n",
      "38/38 [==============================] - 0s 3ms/step - loss: 0.1204 - acc: 0.9700\n",
      "Epoch 133/1000\n",
      "38/38 [==============================] - 0s 3ms/step - loss: 0.1183 - acc: 0.9675\n",
      "Epoch 134/1000\n",
      "38/38 [==============================] - 0s 3ms/step - loss: 0.1172 - acc: 0.9675\n",
      "Epoch 135/1000\n",
      "38/38 [==============================] - 0s 3ms/step - loss: 0.1162 - acc: 0.9692\n",
      "Epoch 136/1000\n",
      "38/38 [==============================] - 0s 2ms/step - loss: 0.1148 - acc: 0.9708\n",
      "Epoch 137/1000\n",
      "38/38 [==============================] - 0s 2ms/step - loss: 0.1139 - acc: 0.9700\n",
      "Epoch 138/1000\n",
      "38/38 [==============================] - 0s 2ms/step - loss: 0.1132 - acc: 0.9708\n",
      "Epoch 139/1000\n",
      "38/38 [==============================] - 0s 2ms/step - loss: 0.1116 - acc: 0.9717\n",
      "Epoch 140/1000\n",
      "38/38 [==============================] - 0s 3ms/step - loss: 0.1103 - acc: 0.9708\n",
      "Epoch 141/1000\n",
      "38/38 [==============================] - 0s 2ms/step - loss: 0.1090 - acc: 0.9717\n",
      "Epoch 142/1000\n",
      "38/38 [==============================] - 0s 3ms/step - loss: 0.1083 - acc: 0.9708\n",
      "Epoch 143/1000\n",
      "38/38 [==============================] - 0s 2ms/step - loss: 0.1066 - acc: 0.9733\n",
      "Epoch 144/1000\n",
      "38/38 [==============================] - 0s 2ms/step - loss: 0.1052 - acc: 0.9742\n",
      "Epoch 145/1000\n",
      "38/38 [==============================] - 0s 2ms/step - loss: 0.1043 - acc: 0.9733\n",
      "Epoch 146/1000\n",
      "38/38 [==============================] - 0s 3ms/step - loss: 0.1030 - acc: 0.9750\n",
      "Epoch 147/1000\n",
      "38/38 [==============================] - 0s 3ms/step - loss: 0.1021 - acc: 0.9750\n",
      "Epoch 148/1000\n",
      "38/38 [==============================] - 0s 2ms/step - loss: 0.1013 - acc: 0.9742\n",
      "Epoch 149/1000\n",
      "38/38 [==============================] - 0s 2ms/step - loss: 0.1002 - acc: 0.9733\n",
      "Epoch 150/1000\n",
      "38/38 [==============================] - 0s 3ms/step - loss: 0.0989 - acc: 0.9750\n",
      "Epoch 151/1000\n",
      "38/38 [==============================] - 0s 3ms/step - loss: 0.0976 - acc: 0.9783\n",
      "Epoch 152/1000\n",
      "38/38 [==============================] - 0s 3ms/step - loss: 0.0967 - acc: 0.9792\n",
      "Epoch 153/1000\n",
      "38/38 [==============================] - 0s 3ms/step - loss: 0.0961 - acc: 0.9742\n",
      "Epoch 154/1000\n",
      "38/38 [==============================] - 0s 3ms/step - loss: 0.0946 - acc: 0.9792\n",
      "Epoch 155/1000\n",
      "38/38 [==============================] - 0s 3ms/step - loss: 0.0939 - acc: 0.9783\n",
      "Epoch 156/1000\n",
      "38/38 [==============================] - 0s 2ms/step - loss: 0.0936 - acc: 0.9792\n",
      "Epoch 157/1000\n",
      "38/38 [==============================] - 0s 2ms/step - loss: 0.0916 - acc: 0.9808\n",
      "Epoch 158/1000\n",
      "38/38 [==============================] - 0s 2ms/step - loss: 0.0911 - acc: 0.9800\n",
      "Epoch 159/1000\n",
      "38/38 [==============================] - 0s 2ms/step - loss: 0.0907 - acc: 0.9808\n",
      "Epoch 160/1000\n",
      "38/38 [==============================] - 0s 3ms/step - loss: 0.0890 - acc: 0.9808\n",
      "Epoch 161/1000\n",
      "38/38 [==============================] - 0s 2ms/step - loss: 0.0878 - acc: 0.9817\n",
      "Epoch 162/1000\n",
      "38/38 [==============================] - 0s 3ms/step - loss: 0.0871 - acc: 0.9817\n",
      "Epoch 163/1000\n",
      "38/38 [==============================] - 0s 2ms/step - loss: 0.0866 - acc: 0.9800\n",
      "Epoch 164/1000\n",
      "38/38 [==============================] - 0s 2ms/step - loss: 0.0853 - acc: 0.9842\n",
      "Epoch 165/1000\n",
      "38/38 [==============================] - 0s 2ms/step - loss: 0.0843 - acc: 0.9842\n",
      "Epoch 166/1000\n",
      "38/38 [==============================] - 0s 2ms/step - loss: 0.0839 - acc: 0.9833\n",
      "Epoch 167/1000\n",
      "38/38 [==============================] - 0s 2ms/step - loss: 0.0827 - acc: 0.9833\n",
      "Epoch 168/1000\n",
      "38/38 [==============================] - 0s 3ms/step - loss: 0.0820 - acc: 0.9833\n",
      "Epoch 169/1000\n",
      "38/38 [==============================] - 0s 3ms/step - loss: 0.0806 - acc: 0.9842\n",
      "Epoch 170/1000\n"
     ]
    },
    {
     "name": "stdout",
     "output_type": "stream",
     "text": [
      "38/38 [==============================] - 0s 3ms/step - loss: 0.0798 - acc: 0.9842\n",
      "Epoch 171/1000\n",
      "38/38 [==============================] - 0s 3ms/step - loss: 0.0791 - acc: 0.9833\n",
      "Epoch 172/1000\n",
      "38/38 [==============================] - 0s 3ms/step - loss: 0.0781 - acc: 0.9850\n",
      "Epoch 173/1000\n",
      "38/38 [==============================] - 0s 2ms/step - loss: 0.0778 - acc: 0.9833\n",
      "Epoch 174/1000\n",
      "38/38 [==============================] - 0s 3ms/step - loss: 0.0767 - acc: 0.9850\n",
      "Epoch 175/1000\n",
      "38/38 [==============================] - 0s 3ms/step - loss: 0.0762 - acc: 0.9867\n",
      "Epoch 176/1000\n",
      "38/38 [==============================] - 0s 3ms/step - loss: 0.0755 - acc: 0.9850\n",
      "Epoch 177/1000\n",
      "38/38 [==============================] - 0s 3ms/step - loss: 0.0743 - acc: 0.9867\n",
      "Epoch 178/1000\n",
      "38/38 [==============================] - 0s 3ms/step - loss: 0.0733 - acc: 0.9850\n",
      "Epoch 179/1000\n",
      "38/38 [==============================] - 0s 2ms/step - loss: 0.0725 - acc: 0.9858\n",
      "Epoch 180/1000\n",
      "38/38 [==============================] - 0s 2ms/step - loss: 0.0721 - acc: 0.9875\n",
      "Epoch 181/1000\n",
      "38/38 [==============================] - 0s 3ms/step - loss: 0.0716 - acc: 0.9858\n",
      "Epoch 182/1000\n",
      "38/38 [==============================] - 0s 3ms/step - loss: 0.0708 - acc: 0.9867\n",
      "Epoch 183/1000\n",
      "38/38 [==============================] - 0s 2ms/step - loss: 0.0695 - acc: 0.9867\n",
      "Epoch 184/1000\n",
      "38/38 [==============================] - 0s 3ms/step - loss: 0.0689 - acc: 0.9875\n",
      "Epoch 185/1000\n",
      "38/38 [==============================] - 0s 2ms/step - loss: 0.0682 - acc: 0.9867\n",
      "Epoch 186/1000\n",
      "38/38 [==============================] - 0s 2ms/step - loss: 0.0677 - acc: 0.9867\n",
      "Epoch 187/1000\n",
      "38/38 [==============================] - 0s 2ms/step - loss: 0.0671 - acc: 0.9875\n",
      "Epoch 188/1000\n",
      "38/38 [==============================] - 0s 2ms/step - loss: 0.0664 - acc: 0.9875\n",
      "Epoch 189/1000\n",
      "38/38 [==============================] - 0s 2ms/step - loss: 0.0653 - acc: 0.9867\n",
      "Epoch 190/1000\n",
      "38/38 [==============================] - 0s 2ms/step - loss: 0.0649 - acc: 0.9867\n",
      "Epoch 191/1000\n",
      "38/38 [==============================] - 0s 3ms/step - loss: 0.0644 - acc: 0.9867\n",
      "Epoch 192/1000\n",
      "38/38 [==============================] - 0s 2ms/step - loss: 0.0640 - acc: 0.9875\n",
      "Epoch 193/1000\n",
      "38/38 [==============================] - 0s 2ms/step - loss: 0.0628 - acc: 0.9875\n",
      "Epoch 194/1000\n",
      "38/38 [==============================] - 0s 2ms/step - loss: 0.0624 - acc: 0.9867\n",
      "Epoch 195/1000\n",
      "38/38 [==============================] - 0s 2ms/step - loss: 0.0619 - acc: 0.9883\n",
      "Epoch 196/1000\n",
      "38/38 [==============================] - 0s 2ms/step - loss: 0.0609 - acc: 0.9875\n",
      "Epoch 197/1000\n",
      "38/38 [==============================] - 0s 2ms/step - loss: 0.0603 - acc: 0.9883\n",
      "Epoch 198/1000\n",
      "38/38 [==============================] - 0s 3ms/step - loss: 0.0596 - acc: 0.9892\n",
      "Epoch 199/1000\n",
      "38/38 [==============================] - 0s 2ms/step - loss: 0.0588 - acc: 0.9883\n",
      "Epoch 200/1000\n",
      "38/38 [==============================] - 0s 2ms/step - loss: 0.0583 - acc: 0.9875\n",
      "Epoch 201/1000\n",
      "38/38 [==============================] - 0s 2ms/step - loss: 0.0576 - acc: 0.9892\n",
      "Epoch 202/1000\n",
      "38/38 [==============================] - 0s 2ms/step - loss: 0.0572 - acc: 0.9875\n",
      "Epoch 203/1000\n",
      "38/38 [==============================] - 0s 2ms/step - loss: 0.0562 - acc: 0.9892\n",
      "Epoch 204/1000\n",
      "38/38 [==============================] - 0s 2ms/step - loss: 0.0562 - acc: 0.9883\n",
      "Epoch 205/1000\n",
      "38/38 [==============================] - 0s 3ms/step - loss: 0.0553 - acc: 0.9908\n",
      "Epoch 206/1000\n",
      "38/38 [==============================] - 0s 2ms/step - loss: 0.0547 - acc: 0.9900\n",
      "Epoch 207/1000\n",
      "38/38 [==============================] - 0s 2ms/step - loss: 0.0543 - acc: 0.9900\n",
      "Epoch 208/1000\n",
      "38/38 [==============================] - 0s 2ms/step - loss: 0.0535 - acc: 0.9900\n",
      "Epoch 209/1000\n",
      "38/38 [==============================] - 0s 2ms/step - loss: 0.0529 - acc: 0.9908\n",
      "Epoch 210/1000\n",
      "38/38 [==============================] - 0s 3ms/step - loss: 0.0530 - acc: 0.9892\n",
      "Epoch 211/1000\n",
      "38/38 [==============================] - 0s 3ms/step - loss: 0.0523 - acc: 0.9917\n",
      "Epoch 212/1000\n",
      "38/38 [==============================] - 0s 3ms/step - loss: 0.0514 - acc: 0.9917\n",
      "Epoch 213/1000\n",
      "38/38 [==============================] - 0s 2ms/step - loss: 0.0510 - acc: 0.9917\n",
      "Epoch 214/1000\n",
      "38/38 [==============================] - 0s 2ms/step - loss: 0.0504 - acc: 0.9925\n",
      "Epoch 215/1000\n",
      "38/38 [==============================] - 0s 3ms/step - loss: 0.0497 - acc: 0.9908\n",
      "Epoch 216/1000\n",
      "38/38 [==============================] - 0s 2ms/step - loss: 0.0492 - acc: 0.9933\n",
      "Epoch 217/1000\n",
      "38/38 [==============================] - 0s 3ms/step - loss: 0.0487 - acc: 0.9925\n",
      "Epoch 218/1000\n",
      "38/38 [==============================] - 0s 2ms/step - loss: 0.0483 - acc: 0.9917\n",
      "Epoch 219/1000\n",
      "38/38 [==============================] - 0s 2ms/step - loss: 0.0475 - acc: 0.9925\n",
      "Epoch 220/1000\n",
      "38/38 [==============================] - 0s 2ms/step - loss: 0.0474 - acc: 0.9933\n",
      "Epoch 221/1000\n",
      "38/38 [==============================] - 0s 2ms/step - loss: 0.0471 - acc: 0.9933\n",
      "Epoch 222/1000\n",
      "38/38 [==============================] - 0s 2ms/step - loss: 0.0461 - acc: 0.9925\n",
      "Epoch 223/1000\n",
      "38/38 [==============================] - 0s 2ms/step - loss: 0.0463 - acc: 0.9942\n",
      "Epoch 224/1000\n",
      "38/38 [==============================] - 0s 2ms/step - loss: 0.0450 - acc: 0.9942\n",
      "Epoch 225/1000\n",
      "38/38 [==============================] - 0s 3ms/step - loss: 0.0447 - acc: 0.9942\n",
      "Epoch 226/1000\n",
      "38/38 [==============================] - 0s 2ms/step - loss: 0.0444 - acc: 0.9942\n",
      "Epoch 227/1000\n",
      "38/38 [==============================] - 0s 2ms/step - loss: 0.0440 - acc: 0.9925\n",
      "Epoch 228/1000\n",
      "38/38 [==============================] - 0s 2ms/step - loss: 0.0433 - acc: 0.9950\n",
      "Epoch 229/1000\n",
      "38/38 [==============================] - 0s 3ms/step - loss: 0.0429 - acc: 0.9942\n",
      "Epoch 230/1000\n",
      "38/38 [==============================] - 0s 3ms/step - loss: 0.0428 - acc: 0.9950\n",
      "Epoch 231/1000\n",
      "38/38 [==============================] - 0s 3ms/step - loss: 0.0424 - acc: 0.9950\n",
      "Epoch 232/1000\n",
      "38/38 [==============================] - 0s 3ms/step - loss: 0.0420 - acc: 0.9942\n",
      "Epoch 233/1000\n",
      "38/38 [==============================] - 0s 2ms/step - loss: 0.0411 - acc: 0.9950\n",
      "Epoch 234/1000\n",
      "38/38 [==============================] - 0s 2ms/step - loss: 0.0409 - acc: 0.9933\n",
      "Epoch 235/1000\n",
      "38/38 [==============================] - 0s 3ms/step - loss: 0.0404 - acc: 0.9933\n",
      "Epoch 236/1000\n",
      "38/38 [==============================] - 0s 2ms/step - loss: 0.0398 - acc: 0.9950\n",
      "Epoch 237/1000\n",
      "38/38 [==============================] - 0s 3ms/step - loss: 0.0400 - acc: 0.9950\n",
      "Epoch 238/1000\n",
      "38/38 [==============================] - 0s 3ms/step - loss: 0.0390 - acc: 0.9950\n",
      "Epoch 239/1000\n",
      "38/38 [==============================] - 0s 2ms/step - loss: 0.0387 - acc: 0.9950\n",
      "Epoch 240/1000\n",
      "38/38 [==============================] - 0s 2ms/step - loss: 0.0388 - acc: 0.9950\n",
      "Epoch 241/1000\n",
      "38/38 [==============================] - 0s 2ms/step - loss: 0.0380 - acc: 0.9967\n",
      "Epoch 242/1000\n",
      "38/38 [==============================] - 0s 2ms/step - loss: 0.0376 - acc: 0.9942\n",
      "Epoch 243/1000\n",
      "38/38 [==============================] - 0s 3ms/step - loss: 0.0373 - acc: 0.9942\n",
      "Epoch 244/1000\n",
      "38/38 [==============================] - 0s 2ms/step - loss: 0.0367 - acc: 0.9958\n",
      "Epoch 245/1000\n",
      "38/38 [==============================] - 0s 2ms/step - loss: 0.0365 - acc: 0.9950\n",
      "Epoch 246/1000\n",
      "38/38 [==============================] - 0s 2ms/step - loss: 0.0369 - acc: 0.9967\n",
      "Epoch 247/1000\n",
      "38/38 [==============================] - 0s 2ms/step - loss: 0.0357 - acc: 0.9950\n",
      "Epoch 248/1000\n",
      "38/38 [==============================] - 0s 2ms/step - loss: 0.0354 - acc: 0.9958\n",
      "Epoch 249/1000\n",
      "38/38 [==============================] - 0s 3ms/step - loss: 0.0354 - acc: 0.9950\n",
      "Epoch 250/1000\n",
      "38/38 [==============================] - 0s 3ms/step - loss: 0.0349 - acc: 0.9958\n",
      "Epoch 251/1000\n",
      "38/38 [==============================] - 0s 3ms/step - loss: 0.0342 - acc: 0.9958\n",
      "Epoch 252/1000\n",
      "38/38 [==============================] - 0s 3ms/step - loss: 0.0340 - acc: 0.9958\n",
      "Epoch 253/1000\n",
      "38/38 [==============================] - 0s 3ms/step - loss: 0.0340 - acc: 0.9958\n",
      "Epoch 254/1000\n"
     ]
    },
    {
     "name": "stdout",
     "output_type": "stream",
     "text": [
      "38/38 [==============================] - 0s 3ms/step - loss: 0.0329 - acc: 0.9950\n",
      "Epoch 255/1000\n",
      "38/38 [==============================] - 0s 3ms/step - loss: 0.0327 - acc: 0.9958\n",
      "Epoch 256/1000\n",
      "38/38 [==============================] - 0s 3ms/step - loss: 0.0328 - acc: 0.9967\n",
      "Epoch 257/1000\n",
      "38/38 [==============================] - 0s 3ms/step - loss: 0.0322 - acc: 0.9958\n",
      "Epoch 258/1000\n",
      "38/38 [==============================] - 0s 3ms/step - loss: 0.0317 - acc: 0.9958\n",
      "Epoch 259/1000\n",
      "38/38 [==============================] - 0s 3ms/step - loss: 0.0321 - acc: 0.9950\n",
      "Epoch 260/1000\n",
      "38/38 [==============================] - 0s 3ms/step - loss: 0.0312 - acc: 0.9958\n",
      "Epoch 261/1000\n",
      "38/38 [==============================] - 0s 2ms/step - loss: 0.0308 - acc: 0.9958\n",
      "Epoch 262/1000\n",
      "38/38 [==============================] - 0s 2ms/step - loss: 0.0306 - acc: 0.9958\n",
      "Epoch 263/1000\n",
      "38/38 [==============================] - 0s 2ms/step - loss: 0.0304 - acc: 0.9958\n",
      "Epoch 264/1000\n",
      "38/38 [==============================] - 0s 2ms/step - loss: 0.0301 - acc: 0.9958\n",
      "Epoch 265/1000\n",
      "38/38 [==============================] - 0s 2ms/step - loss: 0.0296 - acc: 0.9967\n",
      "Epoch 266/1000\n",
      "38/38 [==============================] - 0s 2ms/step - loss: 0.0301 - acc: 0.9950\n",
      "Epoch 267/1000\n",
      "38/38 [==============================] - 0s 2ms/step - loss: 0.0292 - acc: 0.9958\n",
      "Epoch 268/1000\n",
      "38/38 [==============================] - 0s 2ms/step - loss: 0.0289 - acc: 0.9958\n",
      "Epoch 269/1000\n",
      "38/38 [==============================] - 0s 2ms/step - loss: 0.0295 - acc: 0.9950\n",
      "Epoch 270/1000\n",
      "38/38 [==============================] - 0s 2ms/step - loss: 0.0275 - acc: 0.9958\n",
      "Epoch 271/1000\n",
      "38/38 [==============================] - 0s 2ms/step - loss: 0.0280 - acc: 0.9958\n",
      "Epoch 272/1000\n",
      "38/38 [==============================] - 0s 3ms/step - loss: 0.0277 - acc: 0.9958\n",
      "Epoch 273/1000\n",
      "38/38 [==============================] - 0s 3ms/step - loss: 0.0272 - acc: 0.9958\n",
      "Epoch 274/1000\n",
      "38/38 [==============================] - 0s 2ms/step - loss: 0.0271 - acc: 0.9967\n",
      "Epoch 275/1000\n",
      "38/38 [==============================] - 0s 2ms/step - loss: 0.0269 - acc: 0.9967\n",
      "Epoch 276/1000\n",
      "38/38 [==============================] - 0s 3ms/step - loss: 0.0266 - acc: 0.9958\n",
      "Epoch 277/1000\n",
      "38/38 [==============================] - 0s 3ms/step - loss: 0.0267 - acc: 0.9958\n",
      "Epoch 278/1000\n",
      "38/38 [==============================] - 0s 2ms/step - loss: 0.0259 - acc: 0.9958\n",
      "Epoch 279/1000\n",
      "38/38 [==============================] - 0s 3ms/step - loss: 0.0258 - acc: 0.9958\n",
      "Epoch 280/1000\n",
      "38/38 [==============================] - 0s 3ms/step - loss: 0.0255 - acc: 0.9958\n",
      "Epoch 281/1000\n",
      "38/38 [==============================] - 0s 3ms/step - loss: 0.0253 - acc: 0.9967\n",
      "Epoch 282/1000\n",
      "38/38 [==============================] - 0s 2ms/step - loss: 0.0251 - acc: 0.9958\n",
      "Epoch 283/1000\n",
      "38/38 [==============================] - 0s 3ms/step - loss: 0.0247 - acc: 0.9958\n",
      "Epoch 284/1000\n",
      "38/38 [==============================] - 0s 2ms/step - loss: 0.0244 - acc: 0.9958\n",
      "Epoch 285/1000\n",
      "38/38 [==============================] - 0s 2ms/step - loss: 0.0243 - acc: 0.9958\n",
      "Epoch 286/1000\n",
      "38/38 [==============================] - 0s 3ms/step - loss: 0.0242 - acc: 0.9958\n",
      "Epoch 287/1000\n",
      "38/38 [==============================] - 0s 3ms/step - loss: 0.0238 - acc: 0.9958\n",
      "Epoch 288/1000\n",
      "38/38 [==============================] - 0s 2ms/step - loss: 0.0237 - acc: 0.9958\n",
      "Epoch 289/1000\n",
      "38/38 [==============================] - 0s 3ms/step - loss: 0.0231 - acc: 0.9958\n",
      "Epoch 290/1000\n",
      "38/38 [==============================] - 0s 4ms/step - loss: 0.0227 - acc: 0.9958\n",
      "Epoch 291/1000\n",
      "38/38 [==============================] - 0s 3ms/step - loss: 0.0226 - acc: 0.9967\n",
      "Epoch 292/1000\n",
      "38/38 [==============================] - 0s 2ms/step - loss: 0.0225 - acc: 0.9958\n",
      "Epoch 293/1000\n",
      "38/38 [==============================] - 0s 3ms/step - loss: 0.0222 - acc: 0.9958\n",
      "Epoch 294/1000\n",
      "38/38 [==============================] - 0s 3ms/step - loss: 0.0223 - acc: 0.9958\n",
      "Epoch 295/1000\n",
      "38/38 [==============================] - 0s 3ms/step - loss: 0.0216 - acc: 0.9958\n",
      "Epoch 296/1000\n",
      "38/38 [==============================] - 0s 3ms/step - loss: 0.0217 - acc: 0.9958\n",
      "Epoch 297/1000\n",
      "38/38 [==============================] - 0s 3ms/step - loss: 0.0214 - acc: 0.9958\n",
      "Epoch 298/1000\n",
      "38/38 [==============================] - 0s 3ms/step - loss: 0.0210 - acc: 0.9958\n",
      "Epoch 299/1000\n",
      "38/38 [==============================] - 0s 2ms/step - loss: 0.0210 - acc: 0.9958\n",
      "Epoch 300/1000\n",
      "38/38 [==============================] - 0s 3ms/step - loss: 0.0208 - acc: 0.9958\n",
      "Epoch 301/1000\n",
      "38/38 [==============================] - 0s 3ms/step - loss: 0.0211 - acc: 0.9958\n",
      "Epoch 302/1000\n",
      "38/38 [==============================] - 0s 3ms/step - loss: 0.0204 - acc: 0.9958\n",
      "Epoch 303/1000\n",
      "38/38 [==============================] - 0s 2ms/step - loss: 0.0202 - acc: 0.9967\n",
      "Epoch 304/1000\n",
      "38/38 [==============================] - 0s 2ms/step - loss: 0.0199 - acc: 0.9967\n",
      "Epoch 305/1000\n",
      "38/38 [==============================] - 0s 2ms/step - loss: 0.0201 - acc: 0.9958\n",
      "Epoch 306/1000\n",
      "38/38 [==============================] - 0s 2ms/step - loss: 0.0200 - acc: 0.9967\n",
      "Epoch 307/1000\n",
      "38/38 [==============================] - 0s 3ms/step - loss: 0.0198 - acc: 0.9958\n",
      "Epoch 308/1000\n",
      "38/38 [==============================] - 0s 2ms/step - loss: 0.0192 - acc: 0.9958\n",
      "Epoch 309/1000\n",
      "38/38 [==============================] - 0s 3ms/step - loss: 0.0192 - acc: 0.9958\n",
      "Epoch 310/1000\n",
      "38/38 [==============================] - 0s 3ms/step - loss: 0.0188 - acc: 0.9967\n",
      "Epoch 311/1000\n",
      "38/38 [==============================] - 0s 3ms/step - loss: 0.0188 - acc: 0.9958\n",
      "Epoch 312/1000\n",
      "38/38 [==============================] - 0s 3ms/step - loss: 0.0186 - acc: 0.9958\n",
      "Epoch 313/1000\n",
      "38/38 [==============================] - 0s 3ms/step - loss: 0.0187 - acc: 0.9958\n",
      "Epoch 314/1000\n",
      "38/38 [==============================] - 0s 3ms/step - loss: 0.0181 - acc: 0.9958\n",
      "Epoch 315/1000\n",
      "38/38 [==============================] - 0s 3ms/step - loss: 0.0181 - acc: 0.9967\n",
      "Epoch 316/1000\n",
      "38/38 [==============================] - 0s 3ms/step - loss: 0.0180 - acc: 0.9958\n",
      "Epoch 317/1000\n",
      "38/38 [==============================] - 0s 3ms/step - loss: 0.0176 - acc: 0.9967\n",
      "Epoch 318/1000\n",
      "38/38 [==============================] - 0s 3ms/step - loss: 0.0174 - acc: 0.9958\n",
      "Epoch 319/1000\n",
      "38/38 [==============================] - 0s 2ms/step - loss: 0.0174 - acc: 0.9958\n",
      "Epoch 320/1000\n",
      "38/38 [==============================] - 0s 2ms/step - loss: 0.0167 - acc: 0.9958\n",
      "Epoch 321/1000\n",
      "38/38 [==============================] - 0s 2ms/step - loss: 0.0173 - acc: 0.9967\n",
      "Epoch 322/1000\n",
      "38/38 [==============================] - 0s 2ms/step - loss: 0.0165 - acc: 0.9958\n",
      "Epoch 323/1000\n",
      "38/38 [==============================] - 0s 3ms/step - loss: 0.0167 - acc: 0.9958\n",
      "Epoch 324/1000\n",
      "38/38 [==============================] - 0s 3ms/step - loss: 0.0166 - acc: 0.9958\n",
      "Epoch 325/1000\n",
      "38/38 [==============================] - 0s 2ms/step - loss: 0.0161 - acc: 0.9967\n",
      "Epoch 326/1000\n",
      "38/38 [==============================] - 0s 2ms/step - loss: 0.0164 - acc: 0.9958\n",
      "Epoch 327/1000\n",
      "38/38 [==============================] - 0s 3ms/step - loss: 0.0156 - acc: 0.9967\n",
      "Epoch 328/1000\n",
      "38/38 [==============================] - 0s 2ms/step - loss: 0.0160 - acc: 0.9967\n",
      "Epoch 329/1000\n",
      "38/38 [==============================] - 0s 2ms/step - loss: 0.0159 - acc: 0.9967\n",
      "Epoch 330/1000\n",
      "38/38 [==============================] - 0s 2ms/step - loss: 0.0154 - acc: 0.9967\n",
      "Epoch 331/1000\n",
      "38/38 [==============================] - 0s 2ms/step - loss: 0.0151 - acc: 0.9958\n",
      "Epoch 332/1000\n",
      "38/38 [==============================] - 0s 3ms/step - loss: 0.0154 - acc: 0.9967\n",
      "Epoch 333/1000\n",
      "38/38 [==============================] - 0s 3ms/step - loss: 0.0153 - acc: 0.9958\n",
      "Epoch 334/1000\n",
      "38/38 [==============================] - 0s 3ms/step - loss: 0.0149 - acc: 0.9967\n",
      "Epoch 335/1000\n",
      "38/38 [==============================] - 0s 2ms/step - loss: 0.0147 - acc: 0.9958\n",
      "Epoch 336/1000\n",
      "38/38 [==============================] - 0s 3ms/step - loss: 0.0144 - acc: 0.9967\n",
      "Epoch 337/1000\n",
      "38/38 [==============================] - 0s 3ms/step - loss: 0.0144 - acc: 0.9958\n",
      "Epoch 338/1000\n"
     ]
    },
    {
     "name": "stdout",
     "output_type": "stream",
     "text": [
      "38/38 [==============================] - 0s 3ms/step - loss: 0.0144 - acc: 0.9975\n",
      "Epoch 339/1000\n",
      "38/38 [==============================] - 0s 3ms/step - loss: 0.0140 - acc: 0.9967\n",
      "Epoch 340/1000\n",
      "38/38 [==============================] - 0s 2ms/step - loss: 0.0140 - acc: 0.9967\n",
      "Epoch 341/1000\n",
      "38/38 [==============================] - 0s 2ms/step - loss: 0.0138 - acc: 0.9975\n",
      "Epoch 342/1000\n",
      "38/38 [==============================] - 0s 2ms/step - loss: 0.0138 - acc: 0.9975\n",
      "Epoch 343/1000\n",
      "38/38 [==============================] - 0s 2ms/step - loss: 0.0137 - acc: 0.9967\n",
      "Epoch 344/1000\n",
      "38/38 [==============================] - 0s 2ms/step - loss: 0.0132 - acc: 0.9975\n",
      "Epoch 345/1000\n",
      "38/38 [==============================] - 0s 2ms/step - loss: 0.0132 - acc: 0.9967\n",
      "Epoch 346/1000\n",
      "38/38 [==============================] - 0s 2ms/step - loss: 0.0133 - acc: 0.9975\n",
      "Epoch 347/1000\n",
      "38/38 [==============================] - 0s 2ms/step - loss: 0.0129 - acc: 0.9967\n",
      "Epoch 348/1000\n",
      "38/38 [==============================] - 0s 2ms/step - loss: 0.0127 - acc: 0.9967\n",
      "Epoch 349/1000\n",
      "38/38 [==============================] - 0s 2ms/step - loss: 0.0127 - acc: 0.9975\n",
      "Epoch 350/1000\n",
      "38/38 [==============================] - 0s 2ms/step - loss: 0.0127 - acc: 0.9975\n",
      "Epoch 351/1000\n",
      "38/38 [==============================] - 0s 2ms/step - loss: 0.0129 - acc: 0.9975\n",
      "Epoch 352/1000\n",
      "38/38 [==============================] - 0s 3ms/step - loss: 0.0123 - acc: 0.9967\n",
      "Epoch 353/1000\n",
      "38/38 [==============================] - 0s 2ms/step - loss: 0.0123 - acc: 0.9975\n",
      "Epoch 354/1000\n",
      "38/38 [==============================] - 0s 3ms/step - loss: 0.0126 - acc: 0.9975\n",
      "Epoch 355/1000\n",
      "38/38 [==============================] - 0s 3ms/step - loss: 0.0124 - acc: 0.9975\n",
      "Epoch 356/1000\n",
      "38/38 [==============================] - 0s 3ms/step - loss: 0.0120 - acc: 0.9975\n",
      "Epoch 357/1000\n",
      "38/38 [==============================] - 0s 3ms/step - loss: 0.0118 - acc: 0.9967\n",
      "Epoch 358/1000\n",
      "38/38 [==============================] - 0s 3ms/step - loss: 0.0115 - acc: 0.9983\n",
      "Epoch 359/1000\n",
      "38/38 [==============================] - 0s 3ms/step - loss: 0.0117 - acc: 0.9975\n",
      "Epoch 360/1000\n",
      "38/38 [==============================] - 0s 3ms/step - loss: 0.0116 - acc: 0.9975\n",
      "Epoch 361/1000\n",
      "38/38 [==============================] - 0s 2ms/step - loss: 0.0112 - acc: 0.9983\n",
      "Epoch 362/1000\n",
      "38/38 [==============================] - 0s 2ms/step - loss: 0.0115 - acc: 0.9975\n",
      "Epoch 363/1000\n",
      "38/38 [==============================] - 0s 2ms/step - loss: 0.0116 - acc: 0.9967\n",
      "Epoch 364/1000\n",
      "38/38 [==============================] - 0s 3ms/step - loss: 0.0111 - acc: 0.9983\n",
      "Epoch 365/1000\n",
      "38/38 [==============================] - 0s 3ms/step - loss: 0.0108 - acc: 1.0000\n",
      "Epoch 366/1000\n",
      "38/38 [==============================] - 0s 2ms/step - loss: 0.0112 - acc: 0.9975\n",
      "Epoch 367/1000\n",
      "38/38 [==============================] - 0s 2ms/step - loss: 0.0104 - acc: 0.9975\n",
      "Epoch 368/1000\n",
      "38/38 [==============================] - 0s 2ms/step - loss: 0.0104 - acc: 0.9983\n",
      "Epoch 369/1000\n",
      "38/38 [==============================] - 0s 2ms/step - loss: 0.0106 - acc: 0.9975\n",
      "Epoch 370/1000\n",
      "38/38 [==============================] - 0s 2ms/step - loss: 0.0102 - acc: 0.9992\n",
      "Epoch 371/1000\n",
      "38/38 [==============================] - 0s 2ms/step - loss: 0.0102 - acc: 0.9975\n",
      "Epoch 372/1000\n",
      "38/38 [==============================] - 0s 2ms/step - loss: 0.0101 - acc: 0.9983\n",
      "Epoch 373/1000\n",
      "38/38 [==============================] - 0s 3ms/step - loss: 0.0102 - acc: 0.9992\n",
      "Epoch 374/1000\n",
      "38/38 [==============================] - 0s 2ms/step - loss: 0.0098 - acc: 0.9983\n",
      "Epoch 375/1000\n",
      "38/38 [==============================] - 0s 2ms/step - loss: 0.0101 - acc: 0.9983\n",
      "Epoch 376/1000\n",
      "38/38 [==============================] - 0s 3ms/step - loss: 0.0097 - acc: 0.9992\n",
      "Epoch 377/1000\n",
      "38/38 [==============================] - 0s 4ms/step - loss: 0.0096 - acc: 1.0000\n",
      "Epoch 378/1000\n",
      "38/38 [==============================] - 0s 3ms/step - loss: 0.0098 - acc: 0.9983\n",
      "Epoch 379/1000\n",
      "38/38 [==============================] - 0s 3ms/step - loss: 0.0097 - acc: 0.9992\n",
      "Epoch 380/1000\n",
      "38/38 [==============================] - 0s 2ms/step - loss: 0.0095 - acc: 0.9983\n",
      "Epoch 381/1000\n",
      "38/38 [==============================] - 0s 2ms/step - loss: 0.0091 - acc: 0.9992\n",
      "Epoch 382/1000\n",
      "38/38 [==============================] - 0s 2ms/step - loss: 0.0091 - acc: 0.9992\n",
      "Epoch 383/1000\n",
      "38/38 [==============================] - 0s 2ms/step - loss: 0.0091 - acc: 0.9992\n",
      "Epoch 384/1000\n",
      "38/38 [==============================] - 0s 3ms/step - loss: 0.0089 - acc: 0.9992\n",
      "Epoch 385/1000\n",
      "38/38 [==============================] - 0s 2ms/step - loss: 0.0089 - acc: 0.9992\n",
      "Epoch 386/1000\n",
      "38/38 [==============================] - 0s 3ms/step - loss: 0.0087 - acc: 0.9992\n",
      "Epoch 387/1000\n",
      "38/38 [==============================] - 0s 3ms/step - loss: 0.0087 - acc: 0.9992\n",
      "Epoch 388/1000\n",
      "38/38 [==============================] - 0s 2ms/step - loss: 0.0086 - acc: 0.9992\n",
      "Epoch 389/1000\n",
      "38/38 [==============================] - 0s 2ms/step - loss: 0.0083 - acc: 1.0000\n",
      "Epoch 390/1000\n",
      "38/38 [==============================] - 0s 3ms/step - loss: 0.0084 - acc: 0.9992\n",
      "Epoch 391/1000\n",
      "38/38 [==============================] - 0s 2ms/step - loss: 0.0082 - acc: 0.9992\n",
      "Epoch 392/1000\n",
      "38/38 [==============================] - 0s 2ms/step - loss: 0.0080 - acc: 1.0000\n",
      "Epoch 393/1000\n",
      "38/38 [==============================] - 0s 2ms/step - loss: 0.0084 - acc: 0.9992\n",
      "Epoch 394/1000\n",
      "38/38 [==============================] - 0s 3ms/step - loss: 0.0083 - acc: 0.9992\n",
      "Epoch 395/1000\n",
      "38/38 [==============================] - 0s 3ms/step - loss: 0.0080 - acc: 1.0000\n",
      "Epoch 396/1000\n",
      "38/38 [==============================] - 0s 3ms/step - loss: 0.0077 - acc: 1.0000\n",
      "Epoch 397/1000\n",
      "38/38 [==============================] - 0s 2ms/step - loss: 0.0077 - acc: 0.9992\n",
      "Epoch 398/1000\n",
      "38/38 [==============================] - 0s 2ms/step - loss: 0.0076 - acc: 1.0000\n",
      "Epoch 399/1000\n",
      "38/38 [==============================] - 0s 3ms/step - loss: 0.0077 - acc: 1.0000\n",
      "Epoch 400/1000\n",
      "38/38 [==============================] - 0s 3ms/step - loss: 0.0076 - acc: 1.0000\n",
      "Epoch 401/1000\n",
      "38/38 [==============================] - 0s 3ms/step - loss: 0.0076 - acc: 0.9992\n",
      "Epoch 402/1000\n",
      "38/38 [==============================] - 0s 2ms/step - loss: 0.0074 - acc: 1.0000\n",
      "Epoch 403/1000\n",
      "38/38 [==============================] - 0s 2ms/step - loss: 0.0072 - acc: 1.0000\n",
      "Epoch 404/1000\n",
      "38/38 [==============================] - 0s 2ms/step - loss: 0.0074 - acc: 0.9992\n",
      "Epoch 405/1000\n",
      "38/38 [==============================] - 0s 3ms/step - loss: 0.0071 - acc: 1.0000\n",
      "Epoch 406/1000\n",
      "38/38 [==============================] - 0s 3ms/step - loss: 0.0071 - acc: 0.9992\n",
      "Epoch 407/1000\n",
      "38/38 [==============================] - 0s 2ms/step - loss: 0.0071 - acc: 0.9992\n",
      "Epoch 408/1000\n",
      "38/38 [==============================] - 0s 3ms/step - loss: 0.0069 - acc: 1.0000\n",
      "Epoch 409/1000\n",
      "38/38 [==============================] - 0s 3ms/step - loss: 0.0069 - acc: 0.9992\n",
      "Epoch 410/1000\n",
      "38/38 [==============================] - 0s 3ms/step - loss: 0.0067 - acc: 1.0000\n",
      "Epoch 411/1000\n",
      "38/38 [==============================] - 0s 3ms/step - loss: 0.0069 - acc: 0.9992\n",
      "Epoch 412/1000\n",
      "38/38 [==============================] - 0s 3ms/step - loss: 0.0068 - acc: 1.0000\n",
      "Epoch 413/1000\n",
      "38/38 [==============================] - 0s 2ms/step - loss: 0.0065 - acc: 1.0000\n",
      "Epoch 414/1000\n",
      "38/38 [==============================] - 0s 3ms/step - loss: 0.0064 - acc: 1.0000\n",
      "Epoch 415/1000\n",
      "38/38 [==============================] - 0s 3ms/step - loss: 0.0064 - acc: 1.0000\n",
      "Epoch 416/1000\n",
      "38/38 [==============================] - 0s 3ms/step - loss: 0.0064 - acc: 1.0000\n",
      "Epoch 417/1000\n",
      "38/38 [==============================] - 0s 3ms/step - loss: 0.0065 - acc: 1.0000\n",
      "Epoch 418/1000\n",
      "38/38 [==============================] - 0s 2ms/step - loss: 0.0061 - acc: 1.0000\n",
      "Epoch 419/1000\n",
      "38/38 [==============================] - 0s 2ms/step - loss: 0.0062 - acc: 1.0000\n",
      "Epoch 420/1000\n",
      "38/38 [==============================] - 0s 2ms/step - loss: 0.0061 - acc: 1.0000\n",
      "Epoch 421/1000\n",
      "38/38 [==============================] - 0s 3ms/step - loss: 0.0060 - acc: 1.0000\n",
      "Epoch 422/1000\n"
     ]
    },
    {
     "name": "stdout",
     "output_type": "stream",
     "text": [
      "38/38 [==============================] - 0s 3ms/step - loss: 0.0062 - acc: 1.0000\n",
      "Epoch 423/1000\n",
      "38/38 [==============================] - 0s 2ms/step - loss: 0.0060 - acc: 1.0000\n",
      "Epoch 424/1000\n",
      "38/38 [==============================] - 0s 2ms/step - loss: 0.0061 - acc: 1.0000\n",
      "Epoch 425/1000\n",
      "38/38 [==============================] - 0s 2ms/step - loss: 0.0057 - acc: 1.0000\n",
      "Epoch 426/1000\n",
      "38/38 [==============================] - 0s 3ms/step - loss: 0.0057 - acc: 1.0000\n",
      "Epoch 427/1000\n",
      "38/38 [==============================] - 0s 2ms/step - loss: 0.0055 - acc: 1.0000\n",
      "Epoch 428/1000\n",
      "38/38 [==============================] - 0s 3ms/step - loss: 0.0056 - acc: 1.0000\n",
      "Epoch 429/1000\n",
      "38/38 [==============================] - 0s 2ms/step - loss: 0.0055 - acc: 1.0000\n",
      "Epoch 430/1000\n",
      "38/38 [==============================] - 0s 3ms/step - loss: 0.0055 - acc: 1.0000\n",
      "Epoch 431/1000\n",
      "38/38 [==============================] - 0s 2ms/step - loss: 0.0054 - acc: 1.0000\n",
      "Epoch 432/1000\n",
      "38/38 [==============================] - 0s 2ms/step - loss: 0.0053 - acc: 1.0000\n",
      "Epoch 433/1000\n",
      "38/38 [==============================] - 0s 3ms/step - loss: 0.0053 - acc: 1.0000\n",
      "Epoch 434/1000\n",
      "38/38 [==============================] - 0s 2ms/step - loss: 0.0052 - acc: 1.0000\n",
      "Epoch 435/1000\n",
      "38/38 [==============================] - 0s 2ms/step - loss: 0.0053 - acc: 1.0000\n",
      "Epoch 436/1000\n",
      "38/38 [==============================] - 0s 2ms/step - loss: 0.0051 - acc: 1.0000\n",
      "Epoch 437/1000\n",
      "38/38 [==============================] - 0s 2ms/step - loss: 0.0052 - acc: 1.0000\n",
      "Epoch 438/1000\n",
      "38/38 [==============================] - 0s 3ms/step - loss: 0.0051 - acc: 1.0000\n",
      "Epoch 439/1000\n",
      "38/38 [==============================] - 0s 3ms/step - loss: 0.0048 - acc: 1.0000\n",
      "Epoch 440/1000\n",
      "38/38 [==============================] - 0s 3ms/step - loss: 0.0048 - acc: 1.0000\n",
      "Epoch 441/1000\n",
      "38/38 [==============================] - 0s 2ms/step - loss: 0.0049 - acc: 1.0000\n",
      "Epoch 442/1000\n",
      "38/38 [==============================] - 0s 3ms/step - loss: 0.0048 - acc: 1.0000\n",
      "Epoch 443/1000\n",
      "38/38 [==============================] - 0s 3ms/step - loss: 0.0047 - acc: 1.0000\n",
      "Epoch 444/1000\n",
      "38/38 [==============================] - 0s 2ms/step - loss: 0.0046 - acc: 1.0000\n",
      "Epoch 445/1000\n",
      "38/38 [==============================] - 0s 2ms/step - loss: 0.0047 - acc: 1.0000\n",
      "Epoch 446/1000\n",
      "38/38 [==============================] - 0s 2ms/step - loss: 0.0046 - acc: 1.0000\n",
      "Epoch 447/1000\n",
      "38/38 [==============================] - 0s 3ms/step - loss: 0.0046 - acc: 1.0000\n",
      "Epoch 448/1000\n",
      "38/38 [==============================] - 0s 2ms/step - loss: 0.0045 - acc: 1.0000\n",
      "Epoch 449/1000\n",
      "38/38 [==============================] - 0s 3ms/step - loss: 0.0044 - acc: 1.0000\n",
      "Epoch 450/1000\n",
      "38/38 [==============================] - 0s 2ms/step - loss: 0.0044 - acc: 1.0000\n",
      "Epoch 451/1000\n",
      "38/38 [==============================] - 0s 2ms/step - loss: 0.0042 - acc: 1.0000\n",
      "Epoch 452/1000\n",
      "38/38 [==============================] - 0s 3ms/step - loss: 0.0043 - acc: 1.0000\n",
      "Epoch 453/1000\n",
      "38/38 [==============================] - 0s 2ms/step - loss: 0.0042 - acc: 1.0000\n",
      "Epoch 454/1000\n",
      "38/38 [==============================] - 0s 2ms/step - loss: 0.0043 - acc: 1.0000\n",
      "Epoch 455/1000\n",
      "38/38 [==============================] - 0s 2ms/step - loss: 0.0041 - acc: 1.0000\n",
      "Epoch 456/1000\n",
      "38/38 [==============================] - 0s 3ms/step - loss: 0.0041 - acc: 1.0000\n",
      "Epoch 457/1000\n",
      "38/38 [==============================] - 0s 2ms/step - loss: 0.0041 - acc: 1.0000\n",
      "Epoch 458/1000\n",
      "38/38 [==============================] - 0s 3ms/step - loss: 0.0039 - acc: 1.0000\n",
      "Epoch 459/1000\n",
      "38/38 [==============================] - 0s 2ms/step - loss: 0.0039 - acc: 1.0000\n",
      "Epoch 460/1000\n",
      "38/38 [==============================] - 0s 2ms/step - loss: 0.0039 - acc: 1.0000\n",
      "Epoch 461/1000\n",
      "38/38 [==============================] - 0s 3ms/step - loss: 0.0039 - acc: 1.0000\n",
      "Epoch 462/1000\n",
      "38/38 [==============================] - 0s 3ms/step - loss: 0.0038 - acc: 1.0000\n",
      "Epoch 463/1000\n",
      "38/38 [==============================] - 0s 3ms/step - loss: 0.0037 - acc: 1.0000\n",
      "Epoch 464/1000\n",
      "38/38 [==============================] - 0s 3ms/step - loss: 0.0037 - acc: 1.0000\n",
      "Epoch 465/1000\n",
      "38/38 [==============================] - 0s 2ms/step - loss: 0.0037 - acc: 1.0000\n",
      "Epoch 466/1000\n",
      "38/38 [==============================] - 0s 2ms/step - loss: 0.0035 - acc: 1.0000\n",
      "Epoch 467/1000\n",
      "38/38 [==============================] - 0s 2ms/step - loss: 0.0038 - acc: 1.0000\n",
      "Epoch 468/1000\n",
      "38/38 [==============================] - 0s 2ms/step - loss: 0.0037 - acc: 1.0000\n",
      "Epoch 469/1000\n",
      "38/38 [==============================] - 0s 2ms/step - loss: 0.0036 - acc: 1.0000\n",
      "Epoch 470/1000\n",
      "38/38 [==============================] - 0s 3ms/step - loss: 0.0036 - acc: 1.0000\n",
      "Epoch 471/1000\n",
      "38/38 [==============================] - 0s 2ms/step - loss: 0.0034 - acc: 1.0000\n",
      "Epoch 472/1000\n",
      "38/38 [==============================] - 0s 3ms/step - loss: 0.0034 - acc: 1.0000\n",
      "Epoch 473/1000\n",
      "38/38 [==============================] - 0s 3ms/step - loss: 0.0034 - acc: 1.0000\n",
      "Epoch 474/1000\n",
      "38/38 [==============================] - 0s 3ms/step - loss: 0.0032 - acc: 1.0000\n",
      "Epoch 475/1000\n",
      "38/38 [==============================] - 0s 3ms/step - loss: 0.0032 - acc: 1.0000\n",
      "Epoch 476/1000\n",
      "38/38 [==============================] - 0s 2ms/step - loss: 0.0031 - acc: 1.0000\n",
      "Epoch 477/1000\n",
      "38/38 [==============================] - 0s 3ms/step - loss: 0.0031 - acc: 1.0000\n",
      "Epoch 478/1000\n",
      "38/38 [==============================] - 0s 3ms/step - loss: 0.0031 - acc: 1.0000\n",
      "Epoch 479/1000\n",
      "38/38 [==============================] - 0s 3ms/step - loss: 0.0031 - acc: 1.0000\n",
      "Epoch 480/1000\n",
      "38/38 [==============================] - 0s 3ms/step - loss: 0.0031 - acc: 1.0000\n",
      "Epoch 481/1000\n",
      "38/38 [==============================] - 0s 3ms/step - loss: 0.0030 - acc: 1.0000\n",
      "Epoch 482/1000\n",
      "38/38 [==============================] - 0s 3ms/step - loss: 0.0031 - acc: 1.0000\n",
      "Epoch 483/1000\n",
      "38/38 [==============================] - 0s 2ms/step - loss: 0.0029 - acc: 1.0000\n",
      "Epoch 484/1000\n",
      "38/38 [==============================] - 0s 2ms/step - loss: 0.0030 - acc: 1.0000\n",
      "Epoch 485/1000\n",
      "38/38 [==============================] - 0s 2ms/step - loss: 0.0029 - acc: 1.0000\n",
      "Epoch 486/1000\n",
      "38/38 [==============================] - 0s 3ms/step - loss: 0.0030 - acc: 1.0000\n",
      "Epoch 487/1000\n",
      "38/38 [==============================] - 0s 2ms/step - loss: 0.0030 - acc: 1.0000\n",
      "Epoch 488/1000\n",
      "38/38 [==============================] - 0s 3ms/step - loss: 0.0028 - acc: 1.0000\n",
      "Epoch 489/1000\n",
      "38/38 [==============================] - 0s 3ms/step - loss: 0.0027 - acc: 1.0000\n",
      "Epoch 490/1000\n",
      "38/38 [==============================] - 0s 3ms/step - loss: 0.0027 - acc: 1.0000\n",
      "Epoch 491/1000\n",
      "38/38 [==============================] - 0s 3ms/step - loss: 0.0026 - acc: 1.0000\n",
      "Epoch 492/1000\n",
      "38/38 [==============================] - 0s 2ms/step - loss: 0.0026 - acc: 1.0000\n",
      "Epoch 493/1000\n",
      "38/38 [==============================] - 0s 2ms/step - loss: 0.0026 - acc: 1.0000\n",
      "Epoch 494/1000\n",
      "38/38 [==============================] - 0s 2ms/step - loss: 0.0026 - acc: 1.0000\n",
      "Epoch 495/1000\n",
      "38/38 [==============================] - 0s 3ms/step - loss: 0.0033 - acc: 0.9992\n",
      "Epoch 496/1000\n",
      "38/38 [==============================] - 0s 2ms/step - loss: 0.0026 - acc: 1.0000\n",
      "Epoch 497/1000\n",
      "38/38 [==============================] - 0s 3ms/step - loss: 0.0025 - acc: 1.0000\n",
      "Epoch 498/1000\n",
      "38/38 [==============================] - 0s 3ms/step - loss: 0.0024 - acc: 1.0000\n",
      "Epoch 499/1000\n",
      "38/38 [==============================] - 0s 3ms/step - loss: 0.0024 - acc: 1.0000\n",
      "Epoch 500/1000\n",
      "38/38 [==============================] - 0s 2ms/step - loss: 0.0025 - acc: 1.0000\n",
      "Epoch 501/1000\n",
      "38/38 [==============================] - 0s 2ms/step - loss: 0.0023 - acc: 1.0000\n",
      "Epoch 502/1000\n",
      "38/38 [==============================] - 0s 2ms/step - loss: 0.0024 - acc: 1.0000\n",
      "Epoch 503/1000\n",
      "38/38 [==============================] - 0s 3ms/step - loss: 0.0023 - acc: 1.0000\n",
      "Epoch 504/1000\n",
      "38/38 [==============================] - 0s 2ms/step - loss: 0.0022 - acc: 1.0000\n",
      "Epoch 505/1000\n",
      "38/38 [==============================] - 0s 3ms/step - loss: 0.0022 - acc: 1.0000\n",
      "Epoch 506/1000\n"
     ]
    },
    {
     "name": "stdout",
     "output_type": "stream",
     "text": [
      "38/38 [==============================] - 0s 2ms/step - loss: 0.0022 - acc: 1.0000\n",
      "Epoch 507/1000\n",
      "38/38 [==============================] - 0s 3ms/step - loss: 0.0022 - acc: 1.0000\n",
      "Epoch 508/1000\n",
      "38/38 [==============================] - 0s 2ms/step - loss: 0.0023 - acc: 1.0000\n",
      "Epoch 509/1000\n",
      "38/38 [==============================] - 0s 2ms/step - loss: 0.0022 - acc: 1.0000\n",
      "Epoch 510/1000\n",
      "38/38 [==============================] - 0s 2ms/step - loss: 0.0022 - acc: 1.0000\n",
      "Epoch 511/1000\n",
      "38/38 [==============================] - 0s 2ms/step - loss: 0.0021 - acc: 1.0000\n",
      "Epoch 512/1000\n",
      "38/38 [==============================] - 0s 2ms/step - loss: 0.0021 - acc: 1.0000\n",
      "Epoch 513/1000\n",
      "38/38 [==============================] - 0s 3ms/step - loss: 0.0021 - acc: 1.0000\n",
      "Epoch 514/1000\n",
      "38/38 [==============================] - 0s 2ms/step - loss: 0.0020 - acc: 1.0000\n",
      "Epoch 515/1000\n",
      "38/38 [==============================] - 0s 2ms/step - loss: 0.0020 - acc: 1.0000\n",
      "Epoch 516/1000\n",
      "38/38 [==============================] - 0s 2ms/step - loss: 0.0020 - acc: 1.0000\n",
      "Epoch 517/1000\n",
      "38/38 [==============================] - 0s 3ms/step - loss: 0.0020 - acc: 1.0000\n",
      "Epoch 518/1000\n",
      "38/38 [==============================] - 0s 3ms/step - loss: 0.0020 - acc: 1.0000\n",
      "Epoch 519/1000\n",
      "38/38 [==============================] - 0s 2ms/step - loss: 0.0020 - acc: 1.0000\n",
      "Epoch 520/1000\n",
      "38/38 [==============================] - 0s 3ms/step - loss: 0.0020 - acc: 1.0000\n",
      "Epoch 521/1000\n",
      "38/38 [==============================] - 0s 3ms/step - loss: 0.0020 - acc: 1.0000\n",
      "Epoch 522/1000\n",
      "38/38 [==============================] - 0s 3ms/step - loss: 0.0018 - acc: 1.0000\n",
      "Epoch 523/1000\n",
      "38/38 [==============================] - 0s 2ms/step - loss: 0.0018 - acc: 1.0000\n",
      "Epoch 524/1000\n",
      "38/38 [==============================] - 0s 2ms/step - loss: 0.0018 - acc: 1.0000\n",
      "Epoch 525/1000\n",
      "38/38 [==============================] - 0s 2ms/step - loss: 0.0018 - acc: 1.0000\n",
      "Epoch 526/1000\n",
      "38/38 [==============================] - 0s 2ms/step - loss: 0.0018 - acc: 1.0000\n",
      "Epoch 527/1000\n",
      "38/38 [==============================] - 0s 3ms/step - loss: 0.0018 - acc: 1.0000\n",
      "Epoch 528/1000\n",
      "38/38 [==============================] - 0s 3ms/step - loss: 0.0017 - acc: 1.0000\n",
      "Epoch 529/1000\n",
      "38/38 [==============================] - 0s 3ms/step - loss: 0.0016 - acc: 1.0000\n",
      "Epoch 530/1000\n",
      "38/38 [==============================] - 0s 3ms/step - loss: 0.0017 - acc: 1.0000\n",
      "Epoch 531/1000\n",
      "38/38 [==============================] - 0s 3ms/step - loss: 0.0016 - acc: 1.0000\n",
      "Epoch 532/1000\n",
      "38/38 [==============================] - 0s 2ms/step - loss: 0.0016 - acc: 1.0000\n",
      "Epoch 533/1000\n",
      "38/38 [==============================] - 0s 2ms/step - loss: 0.0017 - acc: 1.0000\n",
      "Epoch 534/1000\n",
      "38/38 [==============================] - 0s 2ms/step - loss: 0.0016 - acc: 1.0000\n",
      "Epoch 535/1000\n",
      "38/38 [==============================] - 0s 2ms/step - loss: 0.0016 - acc: 1.0000\n",
      "Epoch 536/1000\n",
      "38/38 [==============================] - 0s 3ms/step - loss: 0.0016 - acc: 1.0000\n",
      "Epoch 537/1000\n",
      "38/38 [==============================] - 0s 3ms/step - loss: 0.0016 - acc: 1.0000\n",
      "Epoch 538/1000\n",
      "38/38 [==============================] - 0s 3ms/step - loss: 0.0015 - acc: 1.0000\n",
      "Epoch 539/1000\n",
      "38/38 [==============================] - 0s 3ms/step - loss: 0.0015 - acc: 1.0000\n",
      "Epoch 540/1000\n",
      "38/38 [==============================] - 0s 2ms/step - loss: 0.0015 - acc: 1.0000\n",
      "Epoch 541/1000\n",
      "38/38 [==============================] - 0s 3ms/step - loss: 0.0014 - acc: 1.0000\n",
      "Epoch 542/1000\n",
      "38/38 [==============================] - 0s 2ms/step - loss: 0.0014 - acc: 1.0000\n",
      "Epoch 543/1000\n",
      "38/38 [==============================] - 0s 3ms/step - loss: 0.0014 - acc: 1.0000\n",
      "Epoch 544/1000\n",
      "38/38 [==============================] - 0s 3ms/step - loss: 0.0014 - acc: 1.0000\n",
      "Epoch 545/1000\n",
      "38/38 [==============================] - 0s 3ms/step - loss: 0.0014 - acc: 1.0000\n",
      "Epoch 546/1000\n",
      "38/38 [==============================] - 0s 3ms/step - loss: 0.0014 - acc: 1.0000\n",
      "Epoch 547/1000\n",
      "38/38 [==============================] - 0s 2ms/step - loss: 0.0013 - acc: 1.0000\n",
      "Epoch 548/1000\n",
      "38/38 [==============================] - 0s 3ms/step - loss: 0.0013 - acc: 1.0000\n",
      "Epoch 549/1000\n",
      "38/38 [==============================] - 0s 3ms/step - loss: 0.0013 - acc: 1.0000\n",
      "Epoch 550/1000\n",
      "38/38 [==============================] - 0s 2ms/step - loss: 0.0013 - acc: 1.0000\n",
      "Epoch 551/1000\n",
      "38/38 [==============================] - 0s 3ms/step - loss: 0.0013 - acc: 1.0000\n",
      "Epoch 552/1000\n",
      "38/38 [==============================] - 0s 3ms/step - loss: 0.0013 - acc: 1.0000\n",
      "Epoch 553/1000\n",
      "38/38 [==============================] - 0s 3ms/step - loss: 0.0012 - acc: 1.0000\n",
      "Epoch 554/1000\n",
      "38/38 [==============================] - 0s 3ms/step - loss: 0.0012 - acc: 1.0000\n",
      "Epoch 555/1000\n",
      "38/38 [==============================] - 0s 3ms/step - loss: 0.0012 - acc: 1.0000\n",
      "Epoch 556/1000\n",
      "38/38 [==============================] - 0s 3ms/step - loss: 0.0012 - acc: 1.0000\n",
      "Epoch 557/1000\n",
      "38/38 [==============================] - 0s 2ms/step - loss: 0.0012 - acc: 1.0000\n",
      "Epoch 558/1000\n",
      "38/38 [==============================] - 0s 3ms/step - loss: 0.0011 - acc: 1.0000\n",
      "Epoch 559/1000\n",
      "38/38 [==============================] - 0s 3ms/step - loss: 0.0012 - acc: 1.0000\n",
      "Epoch 560/1000\n",
      "38/38 [==============================] - 0s 3ms/step - loss: 0.0012 - acc: 1.0000\n",
      "Epoch 561/1000\n",
      "38/38 [==============================] - 0s 3ms/step - loss: 0.0011 - acc: 1.0000\n",
      "Epoch 562/1000\n",
      "38/38 [==============================] - 0s 3ms/step - loss: 0.0011 - acc: 1.0000\n",
      "Epoch 563/1000\n",
      "38/38 [==============================] - 0s 3ms/step - loss: 0.0011 - acc: 1.0000\n",
      "Epoch 564/1000\n",
      "38/38 [==============================] - 0s 2ms/step - loss: 0.0011 - acc: 1.0000\n",
      "Epoch 565/1000\n",
      "38/38 [==============================] - 0s 2ms/step - loss: 0.0011 - acc: 1.0000\n",
      "Epoch 566/1000\n",
      "38/38 [==============================] - 0s 2ms/step - loss: 0.0011 - acc: 1.0000\n",
      "Epoch 567/1000\n",
      "38/38 [==============================] - 0s 2ms/step - loss: 0.0012 - acc: 1.0000\n",
      "Epoch 568/1000\n",
      "38/38 [==============================] - 0s 2ms/step - loss: 0.0011 - acc: 1.0000\n",
      "Epoch 569/1000\n",
      "38/38 [==============================] - 0s 2ms/step - loss: 0.0010 - acc: 1.0000\n",
      "Epoch 570/1000\n",
      "38/38 [==============================] - 0s 2ms/step - loss: 9.7667e-04 - acc: 1.0000\n",
      "Epoch 571/1000\n",
      "38/38 [==============================] - 0s 2ms/step - loss: 9.7265e-04 - acc: 1.0000\n",
      "Epoch 572/1000\n",
      "38/38 [==============================] - 0s 2ms/step - loss: 9.9203e-04 - acc: 1.0000\n",
      "Epoch 573/1000\n",
      "38/38 [==============================] - 0s 2ms/step - loss: 9.5857e-04 - acc: 1.0000\n",
      "Epoch 574/1000\n",
      "38/38 [==============================] - 0s 2ms/step - loss: 9.9206e-04 - acc: 1.0000\n",
      "Epoch 575/1000\n",
      "38/38 [==============================] - 0s 3ms/step - loss: 9.2917e-04 - acc: 1.0000\n",
      "Epoch 576/1000\n",
      "38/38 [==============================] - 0s 2ms/step - loss: 9.4608e-04 - acc: 1.0000\n",
      "Epoch 577/1000\n",
      "38/38 [==============================] - 0s 2ms/step - loss: 9.3293e-04 - acc: 1.0000\n",
      "Epoch 578/1000\n",
      "38/38 [==============================] - 0s 3ms/step - loss: 9.2592e-04 - acc: 1.0000\n",
      "Epoch 579/1000\n",
      "38/38 [==============================] - 0s 3ms/step - loss: 8.6851e-04 - acc: 1.0000\n",
      "Epoch 580/1000\n",
      "38/38 [==============================] - 0s 3ms/step - loss: 8.5508e-04 - acc: 1.0000\n",
      "Epoch 581/1000\n",
      "38/38 [==============================] - 0s 2ms/step - loss: 8.7432e-04 - acc: 1.0000\n",
      "Epoch 582/1000\n",
      "38/38 [==============================] - 0s 3ms/step - loss: 8.1350e-04 - acc: 1.0000\n",
      "Epoch 583/1000\n",
      "38/38 [==============================] - 0s 3ms/step - loss: 8.2142e-04 - acc: 1.0000\n",
      "Epoch 584/1000\n",
      "38/38 [==============================] - 0s 2ms/step - loss: 8.2325e-04 - acc: 1.0000\n",
      "Epoch 585/1000\n",
      "38/38 [==============================] - 0s 2ms/step - loss: 7.9225e-04 - acc: 1.0000\n",
      "Epoch 586/1000\n",
      "38/38 [==============================] - 0s 2ms/step - loss: 7.7308e-04 - acc: 1.0000\n",
      "Epoch 587/1000\n",
      "38/38 [==============================] - 0s 2ms/step - loss: 7.9041e-04 - acc: 1.0000\n",
      "Epoch 588/1000\n",
      "38/38 [==============================] - 0s 3ms/step - loss: 7.8129e-04 - acc: 1.0000\n",
      "Epoch 589/1000\n"
     ]
    },
    {
     "name": "stdout",
     "output_type": "stream",
     "text": [
      "38/38 [==============================] - 0s 2ms/step - loss: 8.1479e-04 - acc: 1.0000\n",
      "Epoch 590/1000\n",
      "38/38 [==============================] - 0s 2ms/step - loss: 7.5783e-04 - acc: 1.0000\n",
      "Epoch 591/1000\n",
      "38/38 [==============================] - 0s 3ms/step - loss: 7.4756e-04 - acc: 1.0000\n",
      "Epoch 592/1000\n",
      "38/38 [==============================] - 0s 2ms/step - loss: 7.8818e-04 - acc: 1.0000\n",
      "Epoch 593/1000\n",
      "38/38 [==============================] - 0s 3ms/step - loss: 7.3669e-04 - acc: 1.0000\n",
      "Epoch 594/1000\n",
      "38/38 [==============================] - 0s 2ms/step - loss: 7.1726e-04 - acc: 1.0000\n",
      "Epoch 595/1000\n",
      "38/38 [==============================] - 0s 2ms/step - loss: 7.0629e-04 - acc: 1.0000\n",
      "Epoch 596/1000\n",
      "38/38 [==============================] - 0s 2ms/step - loss: 6.8755e-04 - acc: 1.0000\n",
      "Epoch 597/1000\n",
      "38/38 [==============================] - 0s 2ms/step - loss: 6.9004e-04 - acc: 1.0000\n",
      "Epoch 598/1000\n",
      "38/38 [==============================] - 0s 3ms/step - loss: 6.8674e-04 - acc: 1.0000\n",
      "Epoch 599/1000\n",
      "38/38 [==============================] - 0s 2ms/step - loss: 6.8394e-04 - acc: 1.0000\n",
      "Epoch 600/1000\n",
      "38/38 [==============================] - 0s 2ms/step - loss: 6.5925e-04 - acc: 1.0000\n",
      "Epoch 601/1000\n",
      "38/38 [==============================] - 0s 2ms/step - loss: 6.4100e-04 - acc: 1.0000\n",
      "Epoch 602/1000\n",
      "38/38 [==============================] - 0s 2ms/step - loss: 6.7273e-04 - acc: 1.0000\n",
      "Epoch 603/1000\n",
      "38/38 [==============================] - 0s 2ms/step - loss: 6.5957e-04 - acc: 1.0000\n",
      "Epoch 604/1000\n",
      "38/38 [==============================] - 0s 2ms/step - loss: 6.0104e-04 - acc: 1.0000\n",
      "Epoch 605/1000\n",
      "38/38 [==============================] - 0s 2ms/step - loss: 6.5001e-04 - acc: 1.0000\n",
      "Epoch 606/1000\n",
      "38/38 [==============================] - 0s 3ms/step - loss: 6.8629e-04 - acc: 1.0000\n",
      "Epoch 607/1000\n",
      "38/38 [==============================] - 0s 2ms/step - loss: 5.9622e-04 - acc: 1.0000\n",
      "Epoch 608/1000\n",
      "38/38 [==============================] - 0s 2ms/step - loss: 5.8959e-04 - acc: 1.0000\n",
      "Epoch 609/1000\n",
      "38/38 [==============================] - 0s 3ms/step - loss: 5.9154e-04 - acc: 1.0000\n",
      "Epoch 610/1000\n",
      "38/38 [==============================] - 0s 2ms/step - loss: 5.8727e-04 - acc: 1.0000\n",
      "Epoch 611/1000\n",
      "38/38 [==============================] - 0s 3ms/step - loss: 5.8135e-04 - acc: 1.0000\n",
      "Epoch 612/1000\n",
      "38/38 [==============================] - 0s 2ms/step - loss: 5.6260e-04 - acc: 1.0000\n",
      "Epoch 613/1000\n",
      "38/38 [==============================] - 0s 3ms/step - loss: 5.6477e-04 - acc: 1.0000\n",
      "Epoch 614/1000\n",
      "38/38 [==============================] - 0s 3ms/step - loss: 5.4378e-04 - acc: 1.0000\n",
      "Epoch 615/1000\n",
      "38/38 [==============================] - 0s 2ms/step - loss: 5.3335e-04 - acc: 1.0000\n",
      "Epoch 616/1000\n",
      "38/38 [==============================] - 0s 2ms/step - loss: 5.3278e-04 - acc: 1.0000\n",
      "Epoch 617/1000\n",
      "38/38 [==============================] - 0s 2ms/step - loss: 5.2930e-04 - acc: 1.0000\n",
      "Epoch 618/1000\n",
      "38/38 [==============================] - 0s 2ms/step - loss: 5.3258e-04 - acc: 1.0000\n",
      "Epoch 619/1000\n",
      "38/38 [==============================] - 0s 2ms/step - loss: 5.1886e-04 - acc: 1.0000\n",
      "Epoch 620/1000\n",
      "38/38 [==============================] - 0s 2ms/step - loss: 5.1687e-04 - acc: 1.0000\n",
      "Epoch 621/1000\n",
      "38/38 [==============================] - 0s 3ms/step - loss: 5.0070e-04 - acc: 1.0000\n",
      "Epoch 622/1000\n",
      "38/38 [==============================] - 0s 2ms/step - loss: 5.0123e-04 - acc: 1.0000\n",
      "Epoch 623/1000\n",
      "38/38 [==============================] - 0s 2ms/step - loss: 4.8662e-04 - acc: 1.0000\n",
      "Epoch 624/1000\n",
      "38/38 [==============================] - 0s 3ms/step - loss: 4.8734e-04 - acc: 1.0000\n",
      "Epoch 625/1000\n",
      "38/38 [==============================] - 0s 3ms/step - loss: 4.7859e-04 - acc: 1.0000\n",
      "Epoch 626/1000\n",
      "38/38 [==============================] - 0s 3ms/step - loss: 4.6977e-04 - acc: 1.0000\n",
      "Epoch 627/1000\n",
      "38/38 [==============================] - 0s 3ms/step - loss: 4.6211e-04 - acc: 1.0000\n",
      "Epoch 628/1000\n",
      "38/38 [==============================] - 0s 3ms/step - loss: 4.4886e-04 - acc: 1.0000\n",
      "Epoch 629/1000\n",
      "38/38 [==============================] - 0s 3ms/step - loss: 4.5594e-04 - acc: 1.0000\n",
      "Epoch 630/1000\n",
      "38/38 [==============================] - 0s 2ms/step - loss: 4.3801e-04 - acc: 1.0000\n",
      "Epoch 631/1000\n",
      "38/38 [==============================] - 0s 3ms/step - loss: 4.4641e-04 - acc: 1.0000\n",
      "Epoch 632/1000\n",
      "38/38 [==============================] - 0s 3ms/step - loss: 4.4593e-04 - acc: 1.0000\n",
      "Epoch 633/1000\n",
      "38/38 [==============================] - 0s 3ms/step - loss: 4.3643e-04 - acc: 1.0000\n",
      "Epoch 634/1000\n",
      "38/38 [==============================] - 0s 2ms/step - loss: 4.3553e-04 - acc: 1.0000\n",
      "Epoch 635/1000\n",
      "38/38 [==============================] - 0s 2ms/step - loss: 4.1183e-04 - acc: 1.0000\n",
      "Epoch 636/1000\n",
      "38/38 [==============================] - 0s 2ms/step - loss: 4.1366e-04 - acc: 1.0000\n",
      "Epoch 637/1000\n",
      "38/38 [==============================] - 0s 2ms/step - loss: 3.9454e-04 - acc: 1.0000\n",
      "Epoch 638/1000\n",
      "38/38 [==============================] - 0s 2ms/step - loss: 4.0091e-04 - acc: 1.0000\n",
      "Epoch 639/1000\n",
      "38/38 [==============================] - 0s 3ms/step - loss: 3.9517e-04 - acc: 1.0000\n",
      "Epoch 640/1000\n",
      "38/38 [==============================] - 0s 3ms/step - loss: 3.8141e-04 - acc: 1.0000\n",
      "Epoch 641/1000\n",
      "38/38 [==============================] - 0s 2ms/step - loss: 3.7266e-04 - acc: 1.0000\n",
      "Epoch 642/1000\n",
      "38/38 [==============================] - 0s 2ms/step - loss: 3.7472e-04 - acc: 1.0000\n",
      "Epoch 643/1000\n",
      "38/38 [==============================] - 0s 3ms/step - loss: 3.7541e-04 - acc: 1.0000\n",
      "Epoch 644/1000\n",
      "38/38 [==============================] - 0s 3ms/step - loss: 3.6203e-04 - acc: 1.0000\n",
      "Epoch 645/1000\n",
      "38/38 [==============================] - 0s 3ms/step - loss: 3.5986e-04 - acc: 1.0000\n",
      "Epoch 646/1000\n",
      "38/38 [==============================] - 0s 3ms/step - loss: 3.7106e-04 - acc: 1.0000\n",
      "Epoch 647/1000\n",
      "38/38 [==============================] - 0s 3ms/step - loss: 3.4659e-04 - acc: 1.0000\n",
      "Epoch 648/1000\n",
      "38/38 [==============================] - 0s 3ms/step - loss: 3.5165e-04 - acc: 1.0000\n",
      "Epoch 649/1000\n",
      "38/38 [==============================] - 0s 3ms/step - loss: 3.3670e-04 - acc: 1.0000\n",
      "Epoch 650/1000\n",
      "38/38 [==============================] - 0s 3ms/step - loss: 3.4027e-04 - acc: 1.0000\n",
      "Epoch 651/1000\n",
      "38/38 [==============================] - 0s 3ms/step - loss: 3.3551e-04 - acc: 1.0000\n",
      "Epoch 652/1000\n",
      "38/38 [==============================] - 0s 3ms/step - loss: 3.3254e-04 - acc: 1.0000\n",
      "Epoch 653/1000\n",
      "38/38 [==============================] - 0s 2ms/step - loss: 3.2233e-04 - acc: 1.0000\n",
      "Epoch 654/1000\n",
      "38/38 [==============================] - 0s 2ms/step - loss: 3.1013e-04 - acc: 1.0000\n",
      "Epoch 655/1000\n",
      "38/38 [==============================] - 0s 3ms/step - loss: 3.0521e-04 - acc: 1.0000\n",
      "Epoch 656/1000\n",
      "38/38 [==============================] - 0s 3ms/step - loss: 3.0191e-04 - acc: 1.0000\n",
      "Epoch 657/1000\n",
      "38/38 [==============================] - 0s 3ms/step - loss: 2.9660e-04 - acc: 1.0000\n",
      "Epoch 658/1000\n",
      "38/38 [==============================] - 0s 2ms/step - loss: 2.9255e-04 - acc: 1.0000\n",
      "Epoch 659/1000\n",
      "38/38 [==============================] - 0s 2ms/step - loss: 2.9675e-04 - acc: 1.0000\n",
      "Epoch 660/1000\n",
      "38/38 [==============================] - 0s 3ms/step - loss: 2.8877e-04 - acc: 1.0000\n",
      "Epoch 661/1000\n",
      "38/38 [==============================] - 0s 2ms/step - loss: 2.8320e-04 - acc: 1.0000\n",
      "Epoch 662/1000\n",
      "38/38 [==============================] - 0s 2ms/step - loss: 2.8926e-04 - acc: 1.0000\n",
      "Epoch 663/1000\n",
      "38/38 [==============================] - 0s 3ms/step - loss: 2.7953e-04 - acc: 1.0000\n",
      "Epoch 664/1000\n",
      "38/38 [==============================] - 0s 3ms/step - loss: 2.8867e-04 - acc: 1.0000\n",
      "Epoch 665/1000\n",
      "38/38 [==============================] - 0s 3ms/step - loss: 2.6782e-04 - acc: 1.0000\n",
      "Epoch 666/1000\n",
      "38/38 [==============================] - 0s 3ms/step - loss: 2.8575e-04 - acc: 1.0000\n",
      "Epoch 667/1000\n",
      "38/38 [==============================] - 0s 3ms/step - loss: 2.6986e-04 - acc: 1.0000\n",
      "Epoch 668/1000\n",
      "38/38 [==============================] - 0s 3ms/step - loss: 2.4816e-04 - acc: 1.0000\n",
      "Epoch 669/1000\n",
      "38/38 [==============================] - 0s 3ms/step - loss: 2.5473e-04 - acc: 1.0000\n",
      "Epoch 670/1000\n"
     ]
    },
    {
     "name": "stdout",
     "output_type": "stream",
     "text": [
      "38/38 [==============================] - 0s 3ms/step - loss: 2.4551e-04 - acc: 1.0000\n",
      "Epoch 671/1000\n",
      "38/38 [==============================] - 0s 3ms/step - loss: 2.5795e-04 - acc: 1.0000\n",
      "Epoch 672/1000\n",
      "38/38 [==============================] - 0s 3ms/step - loss: 2.4477e-04 - acc: 1.0000\n",
      "Epoch 673/1000\n",
      "38/38 [==============================] - 0s 2ms/step - loss: 2.3965e-04 - acc: 1.0000\n",
      "Epoch 674/1000\n",
      "38/38 [==============================] - 0s 2ms/step - loss: 2.3629e-04 - acc: 1.0000\n",
      "Epoch 675/1000\n",
      "38/38 [==============================] - 0s 2ms/step - loss: 2.3226e-04 - acc: 1.0000\n",
      "Epoch 676/1000\n",
      "38/38 [==============================] - 0s 2ms/step - loss: 2.2558e-04 - acc: 1.0000\n",
      "Epoch 677/1000\n",
      "38/38 [==============================] - 0s 2ms/step - loss: 2.2699e-04 - acc: 1.0000\n",
      "Epoch 678/1000\n",
      "38/38 [==============================] - 0s 3ms/step - loss: 2.2378e-04 - acc: 1.0000\n",
      "Epoch 679/1000\n",
      "38/38 [==============================] - 0s 3ms/step - loss: 2.2156e-04 - acc: 1.0000\n",
      "Epoch 680/1000\n",
      "38/38 [==============================] - 0s 2ms/step - loss: 2.1826e-04 - acc: 1.0000\n",
      "Epoch 681/1000\n",
      "38/38 [==============================] - 0s 3ms/step - loss: 2.0691e-04 - acc: 1.0000\n",
      "Epoch 682/1000\n",
      "38/38 [==============================] - 0s 3ms/step - loss: 2.1770e-04 - acc: 1.0000\n",
      "Epoch 683/1000\n",
      "38/38 [==============================] - 0s 3ms/step - loss: 2.0576e-04 - acc: 1.0000\n",
      "Epoch 684/1000\n",
      "38/38 [==============================] - 0s 3ms/step - loss: 2.0768e-04 - acc: 1.0000\n",
      "Epoch 685/1000\n",
      "38/38 [==============================] - 0s 2ms/step - loss: 2.0699e-04 - acc: 1.0000\n",
      "Epoch 686/1000\n",
      "38/38 [==============================] - 0s 3ms/step - loss: 2.0566e-04 - acc: 1.0000\n",
      "Epoch 687/1000\n",
      "38/38 [==============================] - 0s 2ms/step - loss: 1.9584e-04 - acc: 1.0000\n",
      "Epoch 688/1000\n",
      "38/38 [==============================] - 0s 2ms/step - loss: 1.9793e-04 - acc: 1.0000\n",
      "Epoch 689/1000\n",
      "38/38 [==============================] - 0s 3ms/step - loss: 1.8803e-04 - acc: 1.0000\n",
      "Epoch 690/1000\n",
      "38/38 [==============================] - 0s 3ms/step - loss: 2.0664e-04 - acc: 1.0000\n",
      "Epoch 691/1000\n",
      "38/38 [==============================] - 0s 3ms/step - loss: 2.0535e-04 - acc: 1.0000\n",
      "Epoch 692/1000\n",
      "38/38 [==============================] - 0s 2ms/step - loss: 1.9229e-04 - acc: 1.0000\n",
      "Epoch 693/1000\n",
      "38/38 [==============================] - 0s 3ms/step - loss: 1.8568e-04 - acc: 1.0000\n",
      "Epoch 694/1000\n",
      "38/38 [==============================] - 0s 3ms/step - loss: 1.7659e-04 - acc: 1.0000\n",
      "Epoch 695/1000\n",
      "38/38 [==============================] - 0s 3ms/step - loss: 1.7440e-04 - acc: 1.0000\n",
      "Epoch 696/1000\n",
      "38/38 [==============================] - 0s 2ms/step - loss: 1.7138e-04 - acc: 1.0000\n",
      "Epoch 697/1000\n",
      "38/38 [==============================] - 0s 3ms/step - loss: 1.6792e-04 - acc: 1.0000\n",
      "Epoch 698/1000\n",
      "38/38 [==============================] - 0s 3ms/step - loss: 1.8772e-04 - acc: 1.0000\n",
      "Epoch 699/1000\n",
      "38/38 [==============================] - 0s 2ms/step - loss: 1.7074e-04 - acc: 1.0000\n",
      "Epoch 700/1000\n",
      "38/38 [==============================] - 0s 2ms/step - loss: 1.6079e-04 - acc: 1.0000\n",
      "Epoch 701/1000\n",
      "38/38 [==============================] - 0s 3ms/step - loss: 1.5895e-04 - acc: 1.0000\n",
      "Epoch 702/1000\n",
      "38/38 [==============================] - 0s 3ms/step - loss: 1.5780e-04 - acc: 1.0000\n",
      "Epoch 703/1000\n",
      "38/38 [==============================] - 0s 3ms/step - loss: 1.5211e-04 - acc: 1.0000\n",
      "Epoch 704/1000\n",
      "38/38 [==============================] - 0s 2ms/step - loss: 1.5303e-04 - acc: 1.0000\n",
      "Epoch 705/1000\n",
      "38/38 [==============================] - 0s 3ms/step - loss: 1.5101e-04 - acc: 1.0000\n",
      "Epoch 706/1000\n",
      "38/38 [==============================] - 0s 3ms/step - loss: 1.4789e-04 - acc: 1.0000\n",
      "Epoch 707/1000\n",
      "38/38 [==============================] - 0s 2ms/step - loss: 1.4616e-04 - acc: 1.0000\n",
      "Epoch 708/1000\n",
      "38/38 [==============================] - 0s 2ms/step - loss: 1.4425e-04 - acc: 1.0000\n",
      "Epoch 709/1000\n",
      "38/38 [==============================] - 0s 3ms/step - loss: 1.4140e-04 - acc: 1.0000\n",
      "Epoch 710/1000\n",
      "38/38 [==============================] - 0s 3ms/step - loss: 1.5775e-04 - acc: 1.0000\n",
      "Epoch 711/1000\n",
      "38/38 [==============================] - 0s 2ms/step - loss: 1.4721e-04 - acc: 1.0000\n",
      "Epoch 712/1000\n",
      "38/38 [==============================] - 0s 3ms/step - loss: 1.3604e-04 - acc: 1.0000\n",
      "Epoch 713/1000\n",
      "38/38 [==============================] - 0s 3ms/step - loss: 1.4523e-04 - acc: 1.0000\n",
      "Epoch 714/1000\n",
      "38/38 [==============================] - 0s 3ms/step - loss: 1.3629e-04 - acc: 1.0000\n",
      "Epoch 715/1000\n",
      "38/38 [==============================] - 0s 2ms/step - loss: 1.2850e-04 - acc: 1.0000\n",
      "Epoch 716/1000\n",
      "38/38 [==============================] - 0s 2ms/step - loss: 1.2929e-04 - acc: 1.0000\n",
      "Epoch 717/1000\n",
      "38/38 [==============================] - 0s 2ms/step - loss: 1.2786e-04 - acc: 1.0000\n",
      "Epoch 718/1000\n",
      "38/38 [==============================] - 0s 2ms/step - loss: 1.2513e-04 - acc: 1.0000\n",
      "Epoch 719/1000\n",
      "38/38 [==============================] - 0s 2ms/step - loss: 1.2358e-04 - acc: 1.0000\n",
      "Epoch 720/1000\n",
      "38/38 [==============================] - 0s 2ms/step - loss: 1.2368e-04 - acc: 1.0000\n",
      "Epoch 721/1000\n",
      "38/38 [==============================] - 0s 2ms/step - loss: 1.2287e-04 - acc: 1.0000\n",
      "Epoch 722/1000\n",
      "38/38 [==============================] - 0s 3ms/step - loss: 1.1753e-04 - acc: 1.0000\n",
      "Epoch 723/1000\n",
      "38/38 [==============================] - 0s 3ms/step - loss: 1.1823e-04 - acc: 1.0000\n",
      "Epoch 724/1000\n",
      "38/38 [==============================] - 0s 3ms/step - loss: 1.1981e-04 - acc: 1.0000\n",
      "Epoch 725/1000\n",
      "38/38 [==============================] - 0s 3ms/step - loss: 1.1958e-04 - acc: 1.0000\n",
      "Epoch 726/1000\n",
      "38/38 [==============================] - 0s 2ms/step - loss: 1.1119e-04 - acc: 1.0000\n",
      "Epoch 727/1000\n",
      "38/38 [==============================] - 0s 2ms/step - loss: 1.1136e-04 - acc: 1.0000\n",
      "Epoch 728/1000\n",
      "38/38 [==============================] - 0s 3ms/step - loss: 1.0797e-04 - acc: 1.0000\n",
      "Epoch 729/1000\n",
      "38/38 [==============================] - 0s 3ms/step - loss: 1.1169e-04 - acc: 1.0000\n",
      "Epoch 730/1000\n",
      "38/38 [==============================] - 0s 3ms/step - loss: 1.0665e-04 - acc: 1.0000\n",
      "Epoch 731/1000\n",
      "38/38 [==============================] - 0s 2ms/step - loss: 1.0359e-04 - acc: 1.0000\n",
      "Epoch 732/1000\n",
      "38/38 [==============================] - 0s 2ms/step - loss: 1.0085e-04 - acc: 1.0000\n",
      "Epoch 733/1000\n",
      "38/38 [==============================] - 0s 3ms/step - loss: 9.9010e-05 - acc: 1.0000\n",
      "Epoch 734/1000\n",
      "38/38 [==============================] - 0s 3ms/step - loss: 1.0193e-04 - acc: 1.0000\n",
      "Epoch 735/1000\n",
      "38/38 [==============================] - 0s 2ms/step - loss: 9.9192e-05 - acc: 1.0000\n",
      "Epoch 736/1000\n",
      "38/38 [==============================] - 0s 2ms/step - loss: 1.0101e-04 - acc: 1.0000\n",
      "Epoch 737/1000\n",
      "38/38 [==============================] - 0s 3ms/step - loss: 9.5123e-05 - acc: 1.0000\n",
      "Epoch 738/1000\n",
      "38/38 [==============================] - 0s 3ms/step - loss: 9.6123e-05 - acc: 1.0000\n",
      "Epoch 739/1000\n",
      "38/38 [==============================] - 0s 3ms/step - loss: 9.6513e-05 - acc: 1.0000\n",
      "Epoch 740/1000\n",
      "38/38 [==============================] - 0s 3ms/step - loss: 9.1706e-05 - acc: 1.0000\n",
      "Epoch 741/1000\n",
      "38/38 [==============================] - 0s 3ms/step - loss: 9.1445e-05 - acc: 1.0000\n",
      "Epoch 742/1000\n",
      "38/38 [==============================] - 0s 3ms/step - loss: 8.9230e-05 - acc: 1.0000\n",
      "Epoch 743/1000\n",
      "38/38 [==============================] - 0s 2ms/step - loss: 8.5874e-05 - acc: 1.0000\n",
      "Epoch 744/1000\n",
      "38/38 [==============================] - 0s 3ms/step - loss: 8.6519e-05 - acc: 1.0000\n",
      "Epoch 745/1000\n",
      "38/38 [==============================] - 0s 3ms/step - loss: 9.1775e-05 - acc: 1.0000\n",
      "Epoch 746/1000\n",
      "38/38 [==============================] - 0s 3ms/step - loss: 8.1527e-05 - acc: 1.0000\n",
      "Epoch 747/1000\n",
      "38/38 [==============================] - 0s 3ms/step - loss: 8.6144e-05 - acc: 1.0000\n",
      "Epoch 748/1000\n",
      "38/38 [==============================] - 0s 3ms/step - loss: 8.1169e-05 - acc: 1.0000\n",
      "Epoch 749/1000\n",
      "38/38 [==============================] - 0s 3ms/step - loss: 8.1569e-05 - acc: 1.0000\n",
      "Epoch 750/1000\n",
      "38/38 [==============================] - 0s 2ms/step - loss: 7.7037e-05 - acc: 1.0000\n",
      "Epoch 751/1000\n"
     ]
    },
    {
     "name": "stdout",
     "output_type": "stream",
     "text": [
      "38/38 [==============================] - 0s 2ms/step - loss: 8.1737e-05 - acc: 1.0000\n",
      "Epoch 752/1000\n",
      "38/38 [==============================] - 0s 3ms/step - loss: 7.5595e-05 - acc: 1.0000\n",
      "Epoch 753/1000\n",
      "38/38 [==============================] - 0s 2ms/step - loss: 7.3142e-05 - acc: 1.0000\n",
      "Epoch 754/1000\n",
      "38/38 [==============================] - 0s 3ms/step - loss: 7.1033e-05 - acc: 1.0000\n",
      "Epoch 755/1000\n",
      "38/38 [==============================] - 0s 3ms/step - loss: 7.2997e-05 - acc: 1.0000\n",
      "Epoch 756/1000\n",
      "38/38 [==============================] - 0s 3ms/step - loss: 7.1227e-05 - acc: 1.0000\n",
      "Epoch 757/1000\n",
      "38/38 [==============================] - 0s 3ms/step - loss: 6.9311e-05 - acc: 1.0000\n",
      "Epoch 758/1000\n",
      "38/38 [==============================] - 0s 2ms/step - loss: 7.1175e-05 - acc: 1.0000\n",
      "Epoch 759/1000\n",
      "38/38 [==============================] - 0s 2ms/step - loss: 6.6868e-05 - acc: 1.0000\n",
      "Epoch 760/1000\n",
      "38/38 [==============================] - 0s 2ms/step - loss: 6.8440e-05 - acc: 1.0000\n",
      "Epoch 761/1000\n",
      "38/38 [==============================] - 0s 3ms/step - loss: 6.6293e-05 - acc: 1.0000\n",
      "Epoch 762/1000\n",
      "38/38 [==============================] - 0s 3ms/step - loss: 6.5307e-05 - acc: 1.0000\n",
      "Epoch 763/1000\n",
      "38/38 [==============================] - 0s 3ms/step - loss: 6.6303e-05 - acc: 1.0000\n",
      "Epoch 764/1000\n",
      "38/38 [==============================] - 0s 3ms/step - loss: 6.4728e-05 - acc: 1.0000\n",
      "Epoch 765/1000\n",
      "38/38 [==============================] - 0s 2ms/step - loss: 6.0191e-05 - acc: 1.0000\n",
      "Epoch 766/1000\n",
      "38/38 [==============================] - 0s 3ms/step - loss: 6.1120e-05 - acc: 1.0000\n",
      "Epoch 767/1000\n",
      "38/38 [==============================] - 0s 3ms/step - loss: 5.9352e-05 - acc: 1.0000\n",
      "Epoch 768/1000\n",
      "38/38 [==============================] - 0s 2ms/step - loss: 5.8259e-05 - acc: 1.0000\n",
      "Epoch 769/1000\n",
      "38/38 [==============================] - 0s 2ms/step - loss: 5.9767e-05 - acc: 1.0000\n",
      "Epoch 770/1000\n",
      "38/38 [==============================] - 0s 3ms/step - loss: 6.4483e-05 - acc: 1.0000\n",
      "Epoch 771/1000\n",
      "38/38 [==============================] - 0s 2ms/step - loss: 6.5333e-05 - acc: 1.0000\n",
      "Epoch 772/1000\n",
      "38/38 [==============================] - 0s 3ms/step - loss: 7.1412e-05 - acc: 1.0000\n",
      "Epoch 773/1000\n",
      "38/38 [==============================] - 0s 3ms/step - loss: 5.7326e-05 - acc: 1.0000\n",
      "Epoch 774/1000\n",
      "38/38 [==============================] - 0s 3ms/step - loss: 5.4344e-05 - acc: 1.0000\n",
      "Epoch 775/1000\n",
      "38/38 [==============================] - 0s 2ms/step - loss: 5.6087e-05 - acc: 1.0000\n",
      "Epoch 776/1000\n",
      "38/38 [==============================] - 0s 3ms/step - loss: 5.1694e-05 - acc: 1.0000\n",
      "Epoch 777/1000\n",
      "38/38 [==============================] - 0s 3ms/step - loss: 5.2832e-05 - acc: 1.0000\n",
      "Epoch 778/1000\n",
      "38/38 [==============================] - 0s 2ms/step - loss: 5.2476e-05 - acc: 1.0000\n",
      "Epoch 779/1000\n",
      "38/38 [==============================] - 0s 2ms/step - loss: 4.9963e-05 - acc: 1.0000\n",
      "Epoch 780/1000\n",
      "38/38 [==============================] - 0s 2ms/step - loss: 5.0635e-05 - acc: 1.0000\n",
      "Epoch 781/1000\n",
      "38/38 [==============================] - 0s 3ms/step - loss: 4.8831e-05 - acc: 1.0000\n",
      "Epoch 782/1000\n",
      "38/38 [==============================] - 0s 3ms/step - loss: 4.7789e-05 - acc: 1.0000\n",
      "Epoch 783/1000\n",
      "38/38 [==============================] - 0s 3ms/step - loss: 4.9828e-05 - acc: 1.0000\n",
      "Epoch 784/1000\n",
      "38/38 [==============================] - 0s 3ms/step - loss: 4.6487e-05 - acc: 1.0000\n",
      "Epoch 785/1000\n",
      "38/38 [==============================] - 0s 3ms/step - loss: 4.7360e-05 - acc: 1.0000\n",
      "Epoch 786/1000\n",
      "38/38 [==============================] - 0s 3ms/step - loss: 4.5836e-05 - acc: 1.0000\n",
      "Epoch 787/1000\n",
      "38/38 [==============================] - 0s 3ms/step - loss: 4.5637e-05 - acc: 1.0000\n",
      "Epoch 788/1000\n",
      "38/38 [==============================] - 0s 2ms/step - loss: 4.5644e-05 - acc: 1.0000\n",
      "Epoch 789/1000\n",
      "38/38 [==============================] - 0s 3ms/step - loss: 4.5173e-05 - acc: 1.0000\n",
      "Epoch 790/1000\n",
      "38/38 [==============================] - 0s 3ms/step - loss: 4.3259e-05 - acc: 1.0000\n",
      "Epoch 791/1000\n",
      "38/38 [==============================] - 0s 2ms/step - loss: 4.2143e-05 - acc: 1.0000\n",
      "Epoch 792/1000\n",
      "38/38 [==============================] - 0s 3ms/step - loss: 4.1971e-05 - acc: 1.0000\n",
      "Epoch 793/1000\n",
      "38/38 [==============================] - 0s 2ms/step - loss: 4.2243e-05 - acc: 1.0000\n",
      "Epoch 794/1000\n",
      "38/38 [==============================] - 0s 3ms/step - loss: 4.1980e-05 - acc: 1.0000\n",
      "Epoch 795/1000\n",
      "38/38 [==============================] - 0s 2ms/step - loss: 3.8562e-05 - acc: 1.0000\n",
      "Epoch 796/1000\n",
      "38/38 [==============================] - 0s 3ms/step - loss: 3.9786e-05 - acc: 1.0000\n",
      "Epoch 797/1000\n",
      "38/38 [==============================] - 0s 3ms/step - loss: 3.7482e-05 - acc: 1.0000\n",
      "Epoch 798/1000\n",
      "38/38 [==============================] - 0s 2ms/step - loss: 3.7354e-05 - acc: 1.0000\n",
      "Epoch 799/1000\n",
      "38/38 [==============================] - 0s 3ms/step - loss: 3.7578e-05 - acc: 1.0000\n",
      "Epoch 800/1000\n",
      "38/38 [==============================] - 0s 3ms/step - loss: 3.6905e-05 - acc: 1.0000\n",
      "Epoch 801/1000\n",
      "38/38 [==============================] - 0s 3ms/step - loss: 3.7720e-05 - acc: 1.0000\n",
      "Epoch 802/1000\n",
      "38/38 [==============================] - 0s 3ms/step - loss: 3.6433e-05 - acc: 1.0000\n",
      "Epoch 803/1000\n",
      "38/38 [==============================] - 0s 2ms/step - loss: 3.5287e-05 - acc: 1.0000\n",
      "Epoch 804/1000\n",
      "38/38 [==============================] - 0s 3ms/step - loss: 3.4950e-05 - acc: 1.0000\n",
      "Epoch 805/1000\n",
      "38/38 [==============================] - 0s 2ms/step - loss: 3.3759e-05 - acc: 1.0000\n",
      "Epoch 806/1000\n",
      "38/38 [==============================] - 0s 3ms/step - loss: 3.2924e-05 - acc: 1.0000\n",
      "Epoch 807/1000\n",
      "38/38 [==============================] - 0s 3ms/step - loss: 3.3411e-05 - acc: 1.0000\n",
      "Epoch 808/1000\n",
      "38/38 [==============================] - 0s 3ms/step - loss: 3.2081e-05 - acc: 1.0000\n",
      "Epoch 809/1000\n",
      "38/38 [==============================] - 0s 2ms/step - loss: 3.2784e-05 - acc: 1.0000\n",
      "Epoch 810/1000\n",
      "38/38 [==============================] - 0s 3ms/step - loss: 3.3030e-05 - acc: 1.0000\n",
      "Epoch 811/1000\n",
      "38/38 [==============================] - 0s 3ms/step - loss: 3.1450e-05 - acc: 1.0000\n",
      "Epoch 812/1000\n",
      "38/38 [==============================] - 0s 2ms/step - loss: 3.0827e-05 - acc: 1.0000\n",
      "Epoch 813/1000\n",
      "38/38 [==============================] - 0s 3ms/step - loss: 3.3004e-05 - acc: 1.0000\n",
      "Epoch 814/1000\n",
      "38/38 [==============================] - 0s 2ms/step - loss: 3.0430e-05 - acc: 1.0000\n",
      "Epoch 815/1000\n",
      "38/38 [==============================] - 0s 3ms/step - loss: 2.9646e-05 - acc: 1.0000\n",
      "Epoch 816/1000\n",
      "38/38 [==============================] - 0s 3ms/step - loss: 2.8275e-05 - acc: 1.0000\n",
      "Epoch 817/1000\n",
      "38/38 [==============================] - 0s 3ms/step - loss: 2.8501e-05 - acc: 1.0000\n",
      "Epoch 818/1000\n",
      "38/38 [==============================] - 0s 2ms/step - loss: 2.8381e-05 - acc: 1.0000\n",
      "Epoch 819/1000\n",
      "38/38 [==============================] - 0s 2ms/step - loss: 2.7986e-05 - acc: 1.0000\n",
      "Epoch 820/1000\n",
      "38/38 [==============================] - 0s 3ms/step - loss: 2.7160e-05 - acc: 1.0000\n",
      "Epoch 821/1000\n",
      "38/38 [==============================] - 0s 3ms/step - loss: 2.7585e-05 - acc: 1.0000\n",
      "Epoch 822/1000\n",
      "38/38 [==============================] - 0s 3ms/step - loss: 2.6491e-05 - acc: 1.0000\n",
      "Epoch 823/1000\n",
      "38/38 [==============================] - 0s 3ms/step - loss: 2.7395e-05 - acc: 1.0000\n",
      "Epoch 824/1000\n",
      "38/38 [==============================] - 0s 3ms/step - loss: 2.5286e-05 - acc: 1.0000\n",
      "Epoch 825/1000\n",
      "38/38 [==============================] - 0s 3ms/step - loss: 2.5271e-05 - acc: 1.0000\n",
      "Epoch 826/1000\n",
      "38/38 [==============================] - 0s 3ms/step - loss: 2.4589e-05 - acc: 1.0000\n",
      "Epoch 827/1000\n",
      "38/38 [==============================] - 0s 2ms/step - loss: 2.4462e-05 - acc: 1.0000\n",
      "Epoch 828/1000\n",
      "38/38 [==============================] - 0s 3ms/step - loss: 2.4614e-05 - acc: 1.0000\n",
      "Epoch 829/1000\n",
      "38/38 [==============================] - 0s 3ms/step - loss: 2.4555e-05 - acc: 1.0000\n",
      "Epoch 830/1000\n",
      "38/38 [==============================] - 0s 2ms/step - loss: 2.5836e-05 - acc: 1.0000\n",
      "Epoch 831/1000\n",
      "38/38 [==============================] - 0s 2ms/step - loss: 2.5112e-05 - acc: 1.0000\n",
      "Epoch 832/1000\n"
     ]
    },
    {
     "name": "stdout",
     "output_type": "stream",
     "text": [
      "38/38 [==============================] - 0s 3ms/step - loss: 2.3652e-05 - acc: 1.0000\n",
      "Epoch 833/1000\n",
      "38/38 [==============================] - 0s 2ms/step - loss: 2.3072e-05 - acc: 1.0000\n",
      "Epoch 834/1000\n",
      "38/38 [==============================] - 0s 2ms/step - loss: 2.1770e-05 - acc: 1.0000\n",
      "Epoch 835/1000\n",
      "38/38 [==============================] - 0s 3ms/step - loss: 2.2912e-05 - acc: 1.0000\n",
      "Epoch 836/1000\n",
      "38/38 [==============================] - 0s 2ms/step - loss: 2.1085e-05 - acc: 1.0000\n",
      "Epoch 837/1000\n",
      "38/38 [==============================] - 0s 3ms/step - loss: 2.0471e-05 - acc: 1.0000\n",
      "Epoch 838/1000\n",
      "38/38 [==============================] - 0s 3ms/step - loss: 2.0496e-05 - acc: 1.0000\n",
      "Epoch 839/1000\n",
      "38/38 [==============================] - 0s 3ms/step - loss: 1.9891e-05 - acc: 1.0000\n",
      "Epoch 840/1000\n",
      "38/38 [==============================] - 0s 3ms/step - loss: 2.0299e-05 - acc: 1.0000\n",
      "Epoch 841/1000\n",
      "38/38 [==============================] - 0s 3ms/step - loss: 1.9850e-05 - acc: 1.0000\n",
      "Epoch 842/1000\n",
      "38/38 [==============================] - 0s 3ms/step - loss: 2.0035e-05 - acc: 1.0000\n",
      "Epoch 843/1000\n",
      "38/38 [==============================] - 0s 2ms/step - loss: 1.9549e-05 - acc: 1.0000\n",
      "Epoch 844/1000\n",
      "38/38 [==============================] - 0s 2ms/step - loss: 1.9130e-05 - acc: 1.0000\n",
      "Epoch 845/1000\n",
      "38/38 [==============================] - 0s 3ms/step - loss: 1.9555e-05 - acc: 1.0000\n",
      "Epoch 846/1000\n",
      "38/38 [==============================] - 0s 3ms/step - loss: 1.8486e-05 - acc: 1.0000\n",
      "Epoch 847/1000\n",
      "38/38 [==============================] - 0s 2ms/step - loss: 1.8864e-05 - acc: 1.0000\n",
      "Epoch 848/1000\n",
      "38/38 [==============================] - 0s 3ms/step - loss: 1.7704e-05 - acc: 1.0000\n",
      "Epoch 849/1000\n",
      "38/38 [==============================] - 0s 3ms/step - loss: 1.7241e-05 - acc: 1.0000\n",
      "Epoch 850/1000\n",
      "38/38 [==============================] - 0s 2ms/step - loss: 1.7242e-05 - acc: 1.0000\n",
      "Epoch 851/1000\n",
      "38/38 [==============================] - 0s 2ms/step - loss: 1.6914e-05 - acc: 1.0000\n",
      "Epoch 852/1000\n",
      "38/38 [==============================] - 0s 3ms/step - loss: 1.7910e-05 - acc: 1.0000\n",
      "Epoch 853/1000\n",
      "38/38 [==============================] - 0s 3ms/step - loss: 1.7718e-05 - acc: 1.0000\n",
      "Epoch 854/1000\n",
      "38/38 [==============================] - 0s 2ms/step - loss: 1.8413e-05 - acc: 1.0000\n",
      "Epoch 855/1000\n",
      "38/38 [==============================] - 0s 3ms/step - loss: 1.6717e-05 - acc: 1.0000\n",
      "Epoch 856/1000\n",
      "38/38 [==============================] - 0s 3ms/step - loss: 1.5644e-05 - acc: 1.0000\n",
      "Epoch 857/1000\n",
      "38/38 [==============================] - 0s 2ms/step - loss: 1.5596e-05 - acc: 1.0000\n",
      "Epoch 858/1000\n",
      "38/38 [==============================] - 0s 3ms/step - loss: 1.5395e-05 - acc: 1.0000\n",
      "Epoch 859/1000\n",
      "38/38 [==============================] - 0s 3ms/step - loss: 1.4898e-05 - acc: 1.0000\n",
      "Epoch 860/1000\n",
      "38/38 [==============================] - 0s 3ms/step - loss: 1.5707e-05 - acc: 1.0000\n",
      "Epoch 861/1000\n",
      "38/38 [==============================] - 0s 3ms/step - loss: 1.5884e-05 - acc: 1.0000\n",
      "Epoch 862/1000\n",
      "38/38 [==============================] - 0s 3ms/step - loss: 1.4230e-05 - acc: 1.0000\n",
      "Epoch 863/1000\n",
      "38/38 [==============================] - 0s 3ms/step - loss: 1.4255e-05 - acc: 1.0000\n",
      "Epoch 864/1000\n",
      "38/38 [==============================] - 0s 3ms/step - loss: 1.4160e-05 - acc: 1.0000\n",
      "Epoch 865/1000\n",
      "38/38 [==============================] - 0s 3ms/step - loss: 1.3539e-05 - acc: 1.0000\n",
      "Epoch 866/1000\n",
      "38/38 [==============================] - 0s 3ms/step - loss: 1.3361e-05 - acc: 1.0000\n",
      "Epoch 867/1000\n",
      "38/38 [==============================] - 0s 2ms/step - loss: 1.3357e-05 - acc: 1.0000\n",
      "Epoch 868/1000\n",
      "38/38 [==============================] - 0s 3ms/step - loss: 1.3048e-05 - acc: 1.0000\n",
      "Epoch 869/1000\n",
      "38/38 [==============================] - 0s 2ms/step - loss: 1.3128e-05 - acc: 1.0000\n",
      "Epoch 870/1000\n",
      "38/38 [==============================] - 0s 2ms/step - loss: 1.2287e-05 - acc: 1.0000\n",
      "Epoch 871/1000\n",
      "38/38 [==============================] - 0s 3ms/step - loss: 1.3207e-05 - acc: 1.0000\n",
      "Epoch 872/1000\n",
      "38/38 [==============================] - 0s 3ms/step - loss: 1.3357e-05 - acc: 1.0000\n",
      "Epoch 873/1000\n",
      "38/38 [==============================] - 0s 3ms/step - loss: 1.2038e-05 - acc: 1.0000\n",
      "Epoch 874/1000\n",
      "38/38 [==============================] - 0s 2ms/step - loss: 1.2182e-05 - acc: 1.0000\n",
      "Epoch 875/1000\n",
      "38/38 [==============================] - 0s 3ms/step - loss: 1.1533e-05 - acc: 1.0000\n",
      "Epoch 876/1000\n",
      "38/38 [==============================] - 0s 3ms/step - loss: 1.1913e-05 - acc: 1.0000\n",
      "Epoch 877/1000\n",
      "38/38 [==============================] - 0s 2ms/step - loss: 1.2133e-05 - acc: 1.0000\n",
      "Epoch 878/1000\n",
      "38/38 [==============================] - 0s 3ms/step - loss: 1.1802e-05 - acc: 1.0000\n",
      "Epoch 879/1000\n",
      "38/38 [==============================] - 0s 3ms/step - loss: 1.1602e-05 - acc: 1.0000\n",
      "Epoch 880/1000\n",
      "38/38 [==============================] - 0s 3ms/step - loss: 1.0874e-05 - acc: 1.0000\n",
      "Epoch 881/1000\n",
      "38/38 [==============================] - 0s 2ms/step - loss: 1.1131e-05 - acc: 1.0000\n",
      "Epoch 882/1000\n",
      "38/38 [==============================] - 0s 3ms/step - loss: 1.1170e-05 - acc: 1.0000\n",
      "Epoch 883/1000\n",
      "38/38 [==============================] - 0s 3ms/step - loss: 1.0532e-05 - acc: 1.0000\n",
      "Epoch 884/1000\n",
      "38/38 [==============================] - 0s 2ms/step - loss: 1.0366e-05 - acc: 1.0000\n",
      "Epoch 885/1000\n",
      "38/38 [==============================] - 0s 3ms/step - loss: 9.9738e-06 - acc: 1.0000\n",
      "Epoch 886/1000\n",
      "38/38 [==============================] - 0s 3ms/step - loss: 9.7862e-06 - acc: 1.0000\n",
      "Epoch 887/1000\n",
      "38/38 [==============================] - 0s 3ms/step - loss: 9.7271e-06 - acc: 1.0000\n",
      "Epoch 888/1000\n",
      "38/38 [==============================] - 0s 3ms/step - loss: 9.4155e-06 - acc: 1.0000\n",
      "Epoch 889/1000\n",
      "38/38 [==============================] - 0s 2ms/step - loss: 9.8149e-06 - acc: 1.0000\n",
      "Epoch 890/1000\n",
      "38/38 [==============================] - 0s 2ms/step - loss: 9.4386e-06 - acc: 1.0000\n",
      "Epoch 891/1000\n",
      "38/38 [==============================] - 0s 3ms/step - loss: 9.1583e-06 - acc: 1.0000\n",
      "Epoch 892/1000\n",
      "38/38 [==============================] - 0s 2ms/step - loss: 9.1787e-06 - acc: 1.0000\n",
      "Epoch 893/1000\n",
      "38/38 [==============================] - 0s 2ms/step - loss: 9.5176e-06 - acc: 1.0000\n",
      "Epoch 894/1000\n",
      "38/38 [==============================] - 0s 2ms/step - loss: 8.9065e-06 - acc: 1.0000\n",
      "Epoch 895/1000\n",
      "38/38 [==============================] - 0s 2ms/step - loss: 9.0224e-06 - acc: 1.0000\n",
      "Epoch 896/1000\n",
      "38/38 [==============================] - 0s 3ms/step - loss: 8.8609e-06 - acc: 1.0000\n",
      "Epoch 897/1000\n",
      "38/38 [==============================] - 0s 3ms/step - loss: 8.2767e-06 - acc: 1.0000\n",
      "Epoch 898/1000\n",
      "38/38 [==============================] - 0s 3ms/step - loss: 8.8363e-06 - acc: 1.0000\n",
      "Epoch 899/1000\n",
      "38/38 [==============================] - 0s 2ms/step - loss: 8.4435e-06 - acc: 1.0000\n",
      "Epoch 900/1000\n",
      "38/38 [==============================] - 0s 3ms/step - loss: 8.2385e-06 - acc: 1.0000\n",
      "Epoch 901/1000\n",
      "38/38 [==============================] - 0s 3ms/step - loss: 7.8411e-06 - acc: 1.0000\n",
      "Epoch 902/1000\n",
      "38/38 [==============================] - 0s 2ms/step - loss: 8.0718e-06 - acc: 1.0000\n",
      "Epoch 903/1000\n",
      "38/38 [==============================] - 0s 2ms/step - loss: 7.8862e-06 - acc: 1.0000\n",
      "Epoch 904/1000\n",
      "38/38 [==============================] - 0s 3ms/step - loss: 7.5359e-06 - acc: 1.0000\n",
      "Epoch 905/1000\n",
      "38/38 [==============================] - 0s 3ms/step - loss: 7.4363e-06 - acc: 1.0000\n",
      "Epoch 906/1000\n",
      "38/38 [==============================] - 0s 3ms/step - loss: 7.3943e-06 - acc: 1.0000\n",
      "Epoch 907/1000\n",
      "38/38 [==============================] - 0s 3ms/step - loss: 7.4155e-06 - acc: 1.0000\n",
      "Epoch 908/1000\n",
      "38/38 [==============================] - 0s 2ms/step - loss: 7.3925e-06 - acc: 1.0000\n",
      "Epoch 909/1000\n",
      "38/38 [==============================] - 0s 3ms/step - loss: 7.2047e-06 - acc: 1.0000\n",
      "Epoch 910/1000\n",
      "38/38 [==============================] - 0s 2ms/step - loss: 6.9175e-06 - acc: 1.0000\n",
      "Epoch 911/1000\n",
      "38/38 [==============================] - 0s 2ms/step - loss: 6.7404e-06 - acc: 1.0000\n",
      "Epoch 912/1000\n",
      "38/38 [==============================] - 0s 2ms/step - loss: 6.5987e-06 - acc: 1.0000\n",
      "Epoch 913/1000\n"
     ]
    },
    {
     "name": "stdout",
     "output_type": "stream",
     "text": [
      "38/38 [==============================] - 0s 3ms/step - loss: 6.5627e-06 - acc: 1.0000\n",
      "Epoch 914/1000\n",
      "38/38 [==============================] - 0s 2ms/step - loss: 6.5210e-06 - acc: 1.0000\n",
      "Epoch 915/1000\n",
      "38/38 [==============================] - 0s 2ms/step - loss: 6.3104e-06 - acc: 1.0000\n",
      "Epoch 916/1000\n",
      "38/38 [==============================] - 0s 2ms/step - loss: 6.4702e-06 - acc: 1.0000\n",
      "Epoch 917/1000\n",
      "38/38 [==============================] - 0s 2ms/step - loss: 6.3099e-06 - acc: 1.0000\n",
      "Epoch 918/1000\n",
      "38/38 [==============================] - 0s 2ms/step - loss: 6.2795e-06 - acc: 1.0000\n",
      "Epoch 919/1000\n",
      "38/38 [==============================] - 0s 2ms/step - loss: 5.9950e-06 - acc: 1.0000\n",
      "Epoch 920/1000\n",
      "38/38 [==============================] - 0s 3ms/step - loss: 5.8136e-06 - acc: 1.0000\n",
      "Epoch 921/1000\n",
      "38/38 [==============================] - 0s 3ms/step - loss: 5.8307e-06 - acc: 1.0000\n",
      "Epoch 922/1000\n",
      "38/38 [==============================] - 0s 2ms/step - loss: 5.8400e-06 - acc: 1.0000\n",
      "Epoch 923/1000\n",
      "38/38 [==============================] - 0s 3ms/step - loss: 6.1004e-06 - acc: 1.0000\n",
      "Epoch 924/1000\n",
      "38/38 [==============================] - 0s 2ms/step - loss: 5.7355e-06 - acc: 1.0000\n",
      "Epoch 925/1000\n",
      "38/38 [==============================] - 0s 3ms/step - loss: 5.5447e-06 - acc: 1.0000\n",
      "Epoch 926/1000\n",
      "38/38 [==============================] - 0s 3ms/step - loss: 5.3895e-06 - acc: 1.0000\n",
      "Epoch 927/1000\n",
      "38/38 [==============================] - 0s 2ms/step - loss: 5.2866e-06 - acc: 1.0000\n",
      "Epoch 928/1000\n",
      "38/38 [==============================] - 0s 3ms/step - loss: 5.4393e-06 - acc: 1.0000\n",
      "Epoch 929/1000\n",
      "38/38 [==============================] - 0s 3ms/step - loss: 5.4313e-06 - acc: 1.0000\n",
      "Epoch 930/1000\n",
      "38/38 [==============================] - 0s 2ms/step - loss: 5.1007e-06 - acc: 1.0000\n",
      "Epoch 931/1000\n",
      "38/38 [==============================] - 0s 3ms/step - loss: 4.9417e-06 - acc: 1.0000\n",
      "Epoch 932/1000\n",
      "38/38 [==============================] - 0s 2ms/step - loss: 4.8642e-06 - acc: 1.0000\n",
      "Epoch 933/1000\n",
      "38/38 [==============================] - 0s 3ms/step - loss: 4.8941e-06 - acc: 1.0000\n",
      "Epoch 934/1000\n",
      "38/38 [==============================] - 0s 2ms/step - loss: 4.7117e-06 - acc: 1.0000\n",
      "Epoch 935/1000\n",
      "38/38 [==============================] - 0s 2ms/step - loss: 4.7180e-06 - acc: 1.0000\n",
      "Epoch 936/1000\n",
      "38/38 [==============================] - 0s 2ms/step - loss: 4.6849e-06 - acc: 1.0000\n",
      "Epoch 937/1000\n",
      "38/38 [==============================] - 0s 3ms/step - loss: 4.8791e-06 - acc: 1.0000\n",
      "Epoch 938/1000\n",
      "38/38 [==============================] - 0s 2ms/step - loss: 4.5234e-06 - acc: 1.0000\n",
      "Epoch 939/1000\n",
      "38/38 [==============================] - 0s 3ms/step - loss: 4.3933e-06 - acc: 1.0000\n",
      "Epoch 940/1000\n",
      "38/38 [==============================] - 0s 2ms/step - loss: 4.2432e-06 - acc: 1.0000\n",
      "Epoch 941/1000\n",
      "38/38 [==============================] - 0s 2ms/step - loss: 4.3141e-06 - acc: 1.0000\n",
      "Epoch 942/1000\n",
      "38/38 [==============================] - 0s 2ms/step - loss: 4.2173e-06 - acc: 1.0000\n",
      "Epoch 943/1000\n",
      "38/38 [==============================] - 0s 3ms/step - loss: 4.2594e-06 - acc: 1.0000\n",
      "Epoch 944/1000\n",
      "38/38 [==============================] - 0s 3ms/step - loss: 4.3338e-06 - acc: 1.0000\n",
      "Epoch 945/1000\n",
      "38/38 [==============================] - 0s 3ms/step - loss: 4.5159e-06 - acc: 1.0000\n",
      "Epoch 946/1000\n",
      "38/38 [==============================] - 0s 3ms/step - loss: 4.0663e-06 - acc: 1.0000\n",
      "Epoch 947/1000\n",
      "38/38 [==============================] - 0s 2ms/step - loss: 3.9502e-06 - acc: 1.0000\n",
      "Epoch 948/1000\n",
      "38/38 [==============================] - 0s 3ms/step - loss: 3.8416e-06 - acc: 1.0000\n",
      "Epoch 949/1000\n",
      "38/38 [==============================] - 0s 2ms/step - loss: 3.8334e-06 - acc: 1.0000\n",
      "Epoch 950/1000\n",
      "38/38 [==============================] - 0s 3ms/step - loss: 3.7066e-06 - acc: 1.0000\n",
      "Epoch 951/1000\n",
      "38/38 [==============================] - 0s 3ms/step - loss: 3.7150e-06 - acc: 1.0000\n",
      "Epoch 952/1000\n",
      "38/38 [==============================] - 0s 2ms/step - loss: 3.7270e-06 - acc: 1.0000\n",
      "Epoch 953/1000\n",
      "38/38 [==============================] - 0s 3ms/step - loss: 3.6692e-06 - acc: 1.0000\n",
      "Epoch 954/1000\n",
      "38/38 [==============================] - 0s 3ms/step - loss: 3.6345e-06 - acc: 1.0000\n",
      "Epoch 955/1000\n",
      "38/38 [==============================] - 0s 2ms/step - loss: 3.6364e-06 - acc: 1.0000\n",
      "Epoch 956/1000\n",
      "38/38 [==============================] - 0s 3ms/step - loss: 3.4877e-06 - acc: 1.0000\n",
      "Epoch 957/1000\n",
      "38/38 [==============================] - 0s 3ms/step - loss: 3.3164e-06 - acc: 1.0000\n",
      "Epoch 958/1000\n",
      "38/38 [==============================] - 0s 2ms/step - loss: 3.3622e-06 - acc: 1.0000\n",
      "Epoch 959/1000\n",
      "38/38 [==============================] - 0s 2ms/step - loss: 3.4203e-06 - acc: 1.0000\n",
      "Epoch 960/1000\n",
      "38/38 [==============================] - 0s 3ms/step - loss: 3.6321e-06 - acc: 1.0000\n",
      "Epoch 961/1000\n",
      "38/38 [==============================] - 0s 2ms/step - loss: 3.8144e-06 - acc: 1.0000\n",
      "Epoch 962/1000\n",
      "38/38 [==============================] - 0s 3ms/step - loss: 3.1397e-06 - acc: 1.0000\n",
      "Epoch 963/1000\n",
      "38/38 [==============================] - 0s 2ms/step - loss: 3.0548e-06 - acc: 1.0000\n",
      "Epoch 964/1000\n",
      "38/38 [==============================] - 0s 2ms/step - loss: 2.9896e-06 - acc: 1.0000\n",
      "Epoch 965/1000\n",
      "38/38 [==============================] - 0s 3ms/step - loss: 3.0557e-06 - acc: 1.0000\n",
      "Epoch 966/1000\n",
      "38/38 [==============================] - 0s 2ms/step - loss: 2.9447e-06 - acc: 1.0000\n",
      "Epoch 967/1000\n",
      "38/38 [==============================] - 0s 3ms/step - loss: 2.8885e-06 - acc: 1.0000\n",
      "Epoch 968/1000\n",
      "38/38 [==============================] - 0s 3ms/step - loss: 2.9405e-06 - acc: 1.0000\n",
      "Epoch 969/1000\n",
      "38/38 [==============================] - 0s 3ms/step - loss: 3.1423e-06 - acc: 1.0000\n",
      "Epoch 970/1000\n",
      "38/38 [==============================] - 0s 3ms/step - loss: 2.6661e-06 - acc: 1.0000\n",
      "Epoch 971/1000\n",
      "38/38 [==============================] - 0s 2ms/step - loss: 2.8408e-06 - acc: 1.0000\n",
      "Epoch 972/1000\n",
      "38/38 [==============================] - 0s 2ms/step - loss: 2.6454e-06 - acc: 1.0000\n",
      "Epoch 973/1000\n",
      "38/38 [==============================] - 0s 3ms/step - loss: 2.6007e-06 - acc: 1.0000\n",
      "Epoch 974/1000\n",
      "38/38 [==============================] - 0s 2ms/step - loss: 2.5638e-06 - acc: 1.0000\n",
      "Epoch 975/1000\n",
      "38/38 [==============================] - 0s 3ms/step - loss: 2.7229e-06 - acc: 1.0000\n",
      "Epoch 976/1000\n",
      "38/38 [==============================] - 0s 2ms/step - loss: 2.6380e-06 - acc: 1.0000\n",
      "Epoch 977/1000\n",
      "38/38 [==============================] - 0s 3ms/step - loss: 2.5034e-06 - acc: 1.0000\n",
      "Epoch 978/1000\n",
      "38/38 [==============================] - 0s 2ms/step - loss: 2.6069e-06 - acc: 1.0000\n",
      "Epoch 979/1000\n",
      "38/38 [==============================] - 0s 2ms/step - loss: 2.4758e-06 - acc: 1.0000\n",
      "Epoch 980/1000\n",
      "38/38 [==============================] - 0s 2ms/step - loss: 2.4428e-06 - acc: 1.0000\n",
      "Epoch 981/1000\n",
      "38/38 [==============================] - 0s 2ms/step - loss: 2.4071e-06 - acc: 1.0000\n",
      "Epoch 982/1000\n",
      "38/38 [==============================] - 0s 3ms/step - loss: 2.3037e-06 - acc: 1.0000\n",
      "Epoch 983/1000\n",
      "38/38 [==============================] - 0s 2ms/step - loss: 2.5333e-06 - acc: 1.0000\n",
      "Epoch 984/1000\n",
      "38/38 [==============================] - 0s 3ms/step - loss: 2.2338e-06 - acc: 1.0000\n",
      "Epoch 985/1000\n",
      "38/38 [==============================] - 0s 3ms/step - loss: 2.2981e-06 - acc: 1.0000\n",
      "Epoch 986/1000\n",
      "38/38 [==============================] - 0s 3ms/step - loss: 2.1641e-06 - acc: 1.0000\n",
      "Epoch 987/1000\n",
      "38/38 [==============================] - 0s 3ms/step - loss: 2.1093e-06 - acc: 1.0000\n",
      "Epoch 988/1000\n",
      "38/38 [==============================] - 0s 3ms/step - loss: 2.0767e-06 - acc: 1.0000\n",
      "Epoch 989/1000\n",
      "38/38 [==============================] - 0s 2ms/step - loss: 2.1498e-06 - acc: 1.0000\n",
      "Epoch 990/1000\n",
      "38/38 [==============================] - 0s 3ms/step - loss: 2.0222e-06 - acc: 1.0000\n",
      "Epoch 991/1000\n",
      "38/38 [==============================] - 0s 2ms/step - loss: 1.9856e-06 - acc: 1.0000\n",
      "Epoch 992/1000\n",
      "38/38 [==============================] - 0s 2ms/step - loss: 1.9696e-06 - acc: 1.0000\n",
      "Epoch 993/1000\n",
      "38/38 [==============================] - 0s 3ms/step - loss: 1.9652e-06 - acc: 1.0000\n",
      "Epoch 994/1000\n"
     ]
    },
    {
     "name": "stdout",
     "output_type": "stream",
     "text": [
      "38/38 [==============================] - 0s 2ms/step - loss: 1.9818e-06 - acc: 1.0000\n",
      "Epoch 995/1000\n",
      "38/38 [==============================] - 0s 3ms/step - loss: 1.9530e-06 - acc: 1.0000\n",
      "Epoch 996/1000\n",
      "38/38 [==============================] - 0s 3ms/step - loss: 1.8437e-06 - acc: 1.0000\n",
      "Epoch 997/1000\n",
      "38/38 [==============================] - 0s 2ms/step - loss: 1.8726e-06 - acc: 1.0000\n",
      "Epoch 998/1000\n",
      "38/38 [==============================] - 0s 3ms/step - loss: 1.8474e-06 - acc: 1.0000\n",
      "Epoch 999/1000\n",
      "38/38 [==============================] - 0s 3ms/step - loss: 1.8020e-06 - acc: 1.0000\n",
      "Epoch 1000/1000\n",
      "38/38 [==============================] - 0s 2ms/step - loss: 1.7876e-06 - acc: 1.0000\n"
     ]
    }
   ],
   "source": [
    "model3 = Sequential()\n",
    "embedding_layer = Embedding(VOCAB_SIZE, 10, input_length=n_input)\n",
    "model3.add(embedding_layer)\n",
    "model3.add(Flatten())\n",
    "model3.add(Dense(1, activation='sigmoid'))\n",
    "model3.compile(optimizer='adam', loss='binary_crossentropy', metrics=['acc'])\n",
    "history3 = model3.fit(padded_reviews, train_y, epochs=n_epoch, verbose=0)"
   ]
  },
  {
   "cell_type": "code",
   "execution_count": 48,
   "metadata": {
    "hidden": true
   },
   "outputs": [
    {
     "data": {
      "image/png": "[encoded data removed]",
      "text/plain": [
       "<Figure size 640x480 with 1 Axes>"
      ]
     },
     "metadata": {},
     "output_type": "display_data"
    }
   ],
   "source": [
    "plt.plot(history3.history['acc'])\n",
    "#plt.plot(history.history['val_acc'])\n",
    "plt.title('model accuracy')\n",
    "plt.ylabel('accuracy')\n",
    "plt.xlabel('epoch')\n",
    "plt.legend(['train'], loc='upper left')\n",
    "plt.show()"
   ]
  },
  {
   "cell_type": "markdown",
   "metadata": {
    "heading_collapsed": true
   },
   "source": [
    "### Contour plotting"
   ]
  },
  {
   "cell_type": "code",
   "execution_count": 145,
   "metadata": {
    "hidden": true
   },
   "outputs": [],
   "source": [
    "n_input = 60\n",
    "model3_1 = Model(inputs=model3.input, outputs=model3.layers[-3].output)"
   ]
  },
  {
   "cell_type": "code",
   "execution_count": 146,
   "metadata": {
    "hidden": true
   },
   "outputs": [],
   "source": [
    "skills_key = list(d_skills.keys())\n",
    "complete = n_input - len(skills_key)% n_input\n",
    "for i in range(complete):\n",
    "    skills_key.append(0)\n",
    "x_dim = int(len(skills_key)/(n_input))\n",
    "re_skills = np.reshape(skills_key, (x_dim,n_input))"
   ]
  },
  {
   "cell_type": "code",
   "execution_count": 147,
   "metadata": {
    "hidden": true
   },
   "outputs": [
    {
     "name": "stdout",
     "output_type": "stream",
     "text": [
      "1/1 [==============================] - 0s 43ms/step\n"
     ]
    }
   ],
   "source": [
    "output = model3_1.predict(re_skills)\n",
    "shape_arr = output.shape\n",
    "reshaped_output = np.reshape(output,((shape_arr[0]*shape_arr[1]),shape_arr[2] ))\n",
    "#reshaped_output # this is the  reresentation of the 71 questions in 10-D "
   ]
  },
  {
   "cell_type": "code",
   "execution_count": 148,
   "metadata": {
    "hidden": true
   },
   "outputs": [],
   "source": [
    "from sklearn.decomposition import PCA\n",
    "\n",
    "# fit a 3-D PCA model to the vectors\n",
    "words = pd.DataFrame(skills_key[0:20], columns =['word']) # Tengo que pomner lso nombre sd elas preguntas que van a ser codificadas aqui:\n",
    "vectors = reshaped_output[0:20,:] #  \n",
    "pca = PCA(n_components=3)\n",
    "PCA_result = pca.fit_transform(vectors)\n",
    "\n",
    "PCA_result = pd.DataFrame(PCA_result)\n",
    "PCA_result['x'] = PCA_result.iloc[0:, 0]\n",
    "PCA_result['y'] = PCA_result.iloc[0:, 1]\n",
    "PCA_result['z'] = PCA_result.iloc[0:, 2]\n",
    "\n",
    "PCA_final = pd.merge(words, PCA_result, left_index = True, right_index=True)\n",
    "PCA_final = PCA_final[['word','x','y','z']]"
   ]
  },
  {
   "cell_type": "code",
   "execution_count": 149,
   "metadata": {
    "hidden": true
   },
   "outputs": [
    {
     "data": {
      "image/png": "[encoded data removed]",
      "text/plain": [
       "<Figure size 640x480 with 2 Axes>"
      ]
     },
     "metadata": {},
     "output_type": "display_data"
    }
   ],
   "source": [
    "Z = PCA_final.pivot_table(index='x', columns='y', values='z').T.values\n",
    "Z = np.nan_to_num(Z, copy=True, nan=0.0)\n",
    "\n",
    "X_unique = np.sort(PCA_final.x.unique())\n",
    "Y_unique = np.sort(PCA_final.y.unique())\n",
    "X, Y = np.meshgrid(X_unique, Y_unique)\n",
    "\n",
    "# generate a contour plot\n",
    "import matplotlib.pyplot as plt\n",
    "\n",
    "#plt.figure(figsize=(14,9))\n",
    "plt.contourf(X, Y, Z, 1000, cmap='Blues')\n",
    "\n",
    "# loop through to annotate multiple datapoints\n",
    "for i in range(PCA_final.shape[0]):\n",
    "    plt.annotate(PCA_final.word.tolist()[i], (PCA_final.x.tolist()[i], PCA_final.y.tolist()[i]))\n",
    "\n",
    "plt.tight_layout()\n",
    "plt.title('contour plot for the first 60 embeddings')\n",
    "plt.colorbar()\n",
    "plt.savefig('contour_plot_60.png')\n",
    "plt.show()"
   ]
  },
  {
   "cell_type": "markdown",
   "metadata": {},
   "source": [
    "# Model X-perimenta\n"
   ]
  },
  {
   "cell_type": "markdown",
   "metadata": {
    "heading_collapsed": true
   },
   "source": [
    "### Model trainning , accuracy and loss graphs"
   ]
  },
  {
   "cell_type": "markdown",
   "metadata": {
    "hidden": true
   },
   "source": [
    "In this model make, sure to set the  variable **n_input** = 80 "
   ]
  },
  {
   "cell_type": "code",
   "execution_count": 248,
   "metadata": {
    "hidden": true
   },
   "outputs": [],
   "source": [
    "# define generator, consider the previos 20 answers, number of timesteps\n",
    "n_input = 202"
   ]
  },
  {
   "cell_type": "code",
   "execution_count": 249,
   "metadata": {
    "hidden": true
   },
   "outputs": [],
   "source": [
    "#####jolunavi: the total number of questions are 1261\n",
    "n_interactions = 1260 #len(preguntas)\n",
    "batch_s = n_interactions - n_input\n",
    "train = preguntas[:n_interactions]\n",
    "train_y = respuestas[n_input:n_interactions] #se toman desde la respuesta 21 porque las preimeras 20 preguntas ayudan a producir la respuesta 21"
   ]
  },
  {
   "cell_type": "code",
   "execution_count": 250,
   "metadata": {
    "hidden": true
   },
   "outputs": [],
   "source": [
    "n_features = 1 # in this particular case it might be 2; question and answer, however we concider only the question\n",
    "generator = TimeseriesGenerator(train, train, length=n_input, batch_size=batch_s)\n",
    "X,y = generator[0]\n",
    "padded_reviews = pad_sequences(X, maxlen=n_input, padding='post')"
   ]
  },
  {
   "cell_type": "code",
   "execution_count": 251,
   "metadata": {
    "hidden": true
   },
   "outputs": [],
   "source": [
    "model4 = Sequential()\n",
    "embedding_layer = Embedding(VOCAB_SIZE, 10, input_length=n_input)\n",
    "model4.add(embedding_layer)\n",
    "model4.add(Flatten())\n",
    "model4.add(Dense(1, activation='sigmoid'))\n",
    "model4.compile(optimizer='adam', loss='binary_crossentropy', metrics=['acc'])\n",
    "history4 = model4.fit(padded_reviews, train_y, epochs=n_epoch, verbose=0)"
   ]
  },
  {
   "cell_type": "code",
   "execution_count": 252,
   "metadata": {
    "hidden": true
   },
   "outputs": [
    {
     "data": {
      "image/png": "[encoded data removed]",
      "text/plain": [
       "<Figure size 640x480 with 1 Axes>"
      ]
     },
     "metadata": {},
     "output_type": "display_data"
    }
   ],
   "source": [
    "plt.plot(history4.history['acc'])\n",
    "#plt.plot(history.history['val_acc'])\n",
    "plt.title('model accuracy')\n",
    "plt.ylabel('accuracy')\n",
    "plt.xlabel('epoch')\n",
    "plt.legend(['train'], loc='upper left')\n",
    "plt.show()"
   ]
  },
  {
   "cell_type": "markdown",
   "metadata": {
    "heading_collapsed": true
   },
   "source": [
    "### Contour plotting"
   ]
  },
  {
   "cell_type": "code",
   "execution_count": 253,
   "metadata": {
    "hidden": true
   },
   "outputs": [],
   "source": [
    "n_input = 80\n",
    "model4_1 = Model(inputs=model4.input, outputs=model4.layers[-3].output)"
   ]
  },
  {
   "cell_type": "code",
   "execution_count": 254,
   "metadata": {
    "hidden": true
   },
   "outputs": [],
   "source": [
    "skills_key = list(d_skills.keys())\n",
    "complete = n_input - len(skills_key)% n_input\n",
    "for i in range(complete):\n",
    "    skills_key.append(0)\n",
    "x_dim = int(len(skills_key)/(n_input))\n",
    "re_skills = np.reshape(skills_key, (x_dim,n_input))"
   ]
  },
  {
   "cell_type": "code",
   "execution_count": 255,
   "metadata": {
    "hidden": true
   },
   "outputs": [
    {
     "ename": "ValueError",
     "evalue": "in user code:\n\n    File \"/home/jolunavi/miniconda3/envs/dkt/lib/python3.9/site-packages/keras/engine/training.py\", line 2041, in predict_function  *\n        return step_function(self, iterator)\n    File \"/home/jolunavi/miniconda3/envs/dkt/lib/python3.9/site-packages/keras/engine/training.py\", line 2027, in step_function  **\n        outputs = model.distribute_strategy.run(run_step, args=(data,))\n    File \"/home/jolunavi/miniconda3/envs/dkt/lib/python3.9/site-packages/keras/engine/training.py\", line 2015, in run_step  **\n        outputs = model.predict_step(data)\n    File \"/home/jolunavi/miniconda3/envs/dkt/lib/python3.9/site-packages/keras/engine/training.py\", line 1983, in predict_step\n        return self(x, training=False)\n    File \"/home/jolunavi/miniconda3/envs/dkt/lib/python3.9/site-packages/keras/utils/traceback_utils.py\", line 70, in error_handler\n        raise e.with_traceback(filtered_tb) from None\n    File \"/home/jolunavi/miniconda3/envs/dkt/lib/python3.9/site-packages/keras/engine/input_spec.py\", line 295, in assert_input_compatibility\n        raise ValueError(\n\n    ValueError: Input 0 of layer \"model_26\" is incompatible with the layer: expected shape=(None, 202), found shape=(None, 80)\n",
     "output_type": "error",
     "traceback": [
      "\u001b[0;31m---------------------------------------------------------------------------\u001b[0m",
      "\u001b[0;31mValueError\u001b[0m                                Traceback (most recent call last)",
      "Cell \u001b[0;32mIn [255], line 1\u001b[0m\n\u001b[0;32m----> 1\u001b[0m output \u001b[38;5;241m=\u001b[39m \u001b[43mmodel4_1\u001b[49m\u001b[38;5;241;43m.\u001b[39;49m\u001b[43mpredict\u001b[49m\u001b[43m(\u001b[49m\u001b[43mre_skills\u001b[49m\u001b[43m)\u001b[49m\n\u001b[1;32m      2\u001b[0m shape_arr \u001b[38;5;241m=\u001b[39m output\u001b[38;5;241m.\u001b[39mshape\n\u001b[1;32m      3\u001b[0m reshaped_output \u001b[38;5;241m=\u001b[39m np\u001b[38;5;241m.\u001b[39mreshape(output,((shape_arr[\u001b[38;5;241m0\u001b[39m]\u001b[38;5;241m*\u001b[39mshape_arr[\u001b[38;5;241m1\u001b[39m]),shape_arr[\u001b[38;5;241m2\u001b[39m] ))\n",
      "File \u001b[0;32m~/miniconda3/envs/dkt/lib/python3.9/site-packages/keras/utils/traceback_utils.py:70\u001b[0m, in \u001b[0;36mfilter_traceback.<locals>.error_handler\u001b[0;34m(*args, **kwargs)\u001b[0m\n\u001b[1;32m     67\u001b[0m     filtered_tb \u001b[38;5;241m=\u001b[39m _process_traceback_frames(e\u001b[38;5;241m.\u001b[39m__traceback__)\n\u001b[1;32m     68\u001b[0m     \u001b[38;5;66;03m# To get the full stack trace, call:\u001b[39;00m\n\u001b[1;32m     69\u001b[0m     \u001b[38;5;66;03m# `tf.debugging.disable_traceback_filtering()`\u001b[39;00m\n\u001b[0;32m---> 70\u001b[0m     \u001b[38;5;28;01mraise\u001b[39;00m e\u001b[38;5;241m.\u001b[39mwith_traceback(filtered_tb) \u001b[38;5;28;01mfrom\u001b[39;00m \u001b[38;5;28mNone\u001b[39m\n\u001b[1;32m     71\u001b[0m \u001b[38;5;28;01mfinally\u001b[39;00m:\n\u001b[1;32m     72\u001b[0m     \u001b[38;5;28;01mdel\u001b[39;00m filtered_tb\n",
      "File \u001b[0;32m/tmp/__autograph_generated_filezwjmvhbk.py:15\u001b[0m, in \u001b[0;36mouter_factory.<locals>.inner_factory.<locals>.tf__predict_function\u001b[0;34m(iterator)\u001b[0m\n\u001b[1;32m     13\u001b[0m \u001b[38;5;28;01mtry\u001b[39;00m:\n\u001b[1;32m     14\u001b[0m     do_return \u001b[38;5;241m=\u001b[39m \u001b[38;5;28;01mTrue\u001b[39;00m\n\u001b[0;32m---> 15\u001b[0m     retval_ \u001b[38;5;241m=\u001b[39m ag__\u001b[38;5;241m.\u001b[39mconverted_call(ag__\u001b[38;5;241m.\u001b[39mld(step_function), (ag__\u001b[38;5;241m.\u001b[39mld(\u001b[38;5;28mself\u001b[39m), ag__\u001b[38;5;241m.\u001b[39mld(iterator)), \u001b[38;5;28;01mNone\u001b[39;00m, fscope)\n\u001b[1;32m     16\u001b[0m \u001b[38;5;28;01mexcept\u001b[39;00m:\n\u001b[1;32m     17\u001b[0m     do_return \u001b[38;5;241m=\u001b[39m \u001b[38;5;28;01mFalse\u001b[39;00m\n",
      "\u001b[0;31mValueError\u001b[0m: in user code:\n\n    File \"/home/jolunavi/miniconda3/envs/dkt/lib/python3.9/site-packages/keras/engine/training.py\", line 2041, in predict_function  *\n        return step_function(self, iterator)\n    File \"/home/jolunavi/miniconda3/envs/dkt/lib/python3.9/site-packages/keras/engine/training.py\", line 2027, in step_function  **\n        outputs = model.distribute_strategy.run(run_step, args=(data,))\n    File \"/home/jolunavi/miniconda3/envs/dkt/lib/python3.9/site-packages/keras/engine/training.py\", line 2015, in run_step  **\n        outputs = model.predict_step(data)\n    File \"/home/jolunavi/miniconda3/envs/dkt/lib/python3.9/site-packages/keras/engine/training.py\", line 1983, in predict_step\n        return self(x, training=False)\n    File \"/home/jolunavi/miniconda3/envs/dkt/lib/python3.9/site-packages/keras/utils/traceback_utils.py\", line 70, in error_handler\n        raise e.with_traceback(filtered_tb) from None\n    File \"/home/jolunavi/miniconda3/envs/dkt/lib/python3.9/site-packages/keras/engine/input_spec.py\", line 295, in assert_input_compatibility\n        raise ValueError(\n\n    ValueError: Input 0 of layer \"model_26\" is incompatible with the layer: expected shape=(None, 202), found shape=(None, 80)\n"
     ]
    }
   ],
   "source": [
    "output = model4_1.predict(re_skills)\n",
    "shape_arr = output.shape\n",
    "reshaped_output = np.reshape(output,((shape_arr[0]*shape_arr[1]),shape_arr[2] ))\n",
    "#reshaped_output # this is the  reresentation of the 71 questions in 10-D "
   ]
  },
  {
   "cell_type": "code",
   "execution_count": null,
   "metadata": {
    "hidden": true
   },
   "outputs": [],
   "source": [
    "from sklearn.decomposition import PCA\n",
    "\n",
    "# fit a 3-D PCA model to the vectors\n",
    "words = pd.DataFrame(skills_key[0:20], columns =['word']) # Tengo que pomner lso nombre sd elas preguntas que van a ser codificadas aqui:\n",
    "vectors = reshaped_output[0:20,:] #  \n",
    "pca = PCA(n_components=3)\n",
    "PCA_result = pca.fit_transform(vectors)\n",
    "\n",
    "PCA_result = pd.DataFrame(PCA_result)\n",
    "PCA_result['x'] = PCA_result.iloc[0:, 0]\n",
    "PCA_result['y'] = PCA_result.iloc[0:, 1]\n",
    "PCA_result['z'] = PCA_result.iloc[0:, 2]\n",
    "\n",
    "PCA_final = pd.merge(words, PCA_result, left_index = True, right_index=True)\n",
    "PCA_final = PCA_final[['word','x','y','z']]"
   ]
  },
  {
   "cell_type": "code",
   "execution_count": null,
   "metadata": {
    "hidden": true
   },
   "outputs": [],
   "source": [
    "Z = PCA_final.pivot_table(index='x', columns='y', values='z').T.values\n",
    "Z = np.nan_to_num(Z, copy=True, nan=0.0)\n",
    "\n",
    "X_unique = np.sort(PCA_final.x.unique())\n",
    "Y_unique = np.sort(PCA_final.y.unique())\n",
    "X, Y = np.meshgrid(X_unique, Y_unique)\n",
    "\n",
    "# generate a contour plot\n",
    "import matplotlib.pyplot as plt\n",
    "\n",
    "#plt.figure(figsize=(14,9))\n",
    "plt.contourf(X, Y, Z, 1000, cmap='Blues')\n",
    "\n",
    "# loop through to annotate multiple datapoints\n",
    "for i in range(PCA_final.shape[0]):\n",
    "    plt.annotate(PCA_final.word.tolist()[i], (PCA_final.x.tolist()[i], PCA_final.y.tolist()[i]))\n",
    "\n",
    "plt.tight_layout()\n",
    "plt.title('contour plot for the first 80 embeddings')\n",
    "plt.colorbar()\n",
    "plt.savefig('contour_plot_80.png')\n",
    "plt.show()"
   ]
  },
  {
   "cell_type": "code",
   "execution_count": null,
   "metadata": {
    "hidden": true
   },
   "outputs": [],
   "source": [
    "import plotly\n",
    "import numpy as np\n",
    "import plotly.graph_objs as go\n",
    "from sklearn.decomposition import PCA\n",
    "\n",
    "input_word = '1,7,15'\n",
    "user_input = [x.strip() for x in input_word.split(',')]\n",
    "result_word = []\n",
    "\n",
    "def display_pca_scatterplot_3D( user_input=None, words=None, label=None, color_map=None, topn=5, sample=10):\n",
    "\n",
    "    words = pd.DataFrame(skills_key[0:20], columns =['word']) # Tengo que pomner lso nombre sd elas preguntas que van a ser codificadas aqui:\n",
    "    word_vectors = reshaped_output[0:20,:] #  \n",
    "    \n",
    "    three_dim = PCA(random_state=0).fit_transform(word_vectors)[:,:3]\n",
    "    # For 2D, change the three_dim variable into something like two_dim like the following:\n",
    "    # two_dim = PCA(random_state=0).fit_transform(word_vectors)[:,:2]\n",
    "\n",
    "    data = []\n",
    "    count = 0\n",
    "    \n",
    "    for i in range (len(user_input)):\n",
    "\n",
    "                trace = go.Scatter3d(\n",
    "                    x = three_dim[count:count+topn,0], \n",
    "                    y = three_dim[count:count+topn,1],  \n",
    "                    z = three_dim[count:count+topn,2],\n",
    "                    text = words[count:count+topn],\n",
    "                    name = user_input[i],\n",
    "                    textposition = \"top center\",\n",
    "                    textfont_size = 20,\n",
    "                    mode = 'markers+text',\n",
    "                    marker = {\n",
    "                        'size': 10,\n",
    "                        'opacity': 0.8,\n",
    "                        'color': 2\n",
    "                    }\n",
    "       \n",
    "                )\n",
    "                \n",
    "                # For 2D, instead of using go.Scatter3d, we need to use go.Scatter and delete the z variable. Also, instead of using\n",
    "                # variable three_dim, use the variable that we have declared earlier (e.g two_dim)\n",
    "            \n",
    "                data.append(trace)\n",
    "                count = count+topn\n",
    "\n",
    "    trace_input = go.Scatter3d(\n",
    "                    x = three_dim[count:,0], \n",
    "                    y = three_dim[count:,1],  \n",
    "                    z = three_dim[count:,2],\n",
    "                    text = words[count:],\n",
    "                    name = 'input words',\n",
    "                    textposition = \"top center\",\n",
    "                    textfont_size = 20,\n",
    "                    mode = 'markers+text',\n",
    "                    marker = {\n",
    "                        'size': 10,\n",
    "                        'opacity': 1,\n",
    "                        'color': 'black'\n",
    "                    }\n",
    "                    )\n",
    "\n",
    "    # For 2D, instead of using go.Scatter3d, we need to use go.Scatter and delete the z variable.  Also, instead of using\n",
    "    # variable three_dim, use the variable that we have declared earlier (e.g two_dim)\n",
    "            \n",
    "    data.append(trace_input)\n",
    "    \n",
    "# Configure the layout\n",
    "\n",
    "    layout = go.Layout(\n",
    "        margin = {'l': 0, 'r': 0, 'b': 0, 't': 0},\n",
    "        showlegend=True,\n",
    "        legend=dict(\n",
    "        x=1,\n",
    "        y=0.5,\n",
    "        font=dict(\n",
    "            family=\"Courier New\",\n",
    "            size=25,\n",
    "            color=\"black\"\n",
    "        )),\n",
    "        font = dict(\n",
    "            family = \" Courier New \",\n",
    "            size = 15),\n",
    "        autosize = False,\n",
    "        width = 1000,\n",
    "        height = 1000\n",
    "        )\n",
    "\n",
    "\n",
    "    plot_figure = go.Figure(data = data, layout = layout)\n",
    "    plot_figure.show()\n",
    "    \n",
    "display_pca_scatterplot_3D( user_input)"
   ]
  },
  {
   "cell_type": "markdown",
   "metadata": {
    "heading_collapsed": true
   },
   "source": [
    "# 4-model summary plot"
   ]
  },
  {
   "cell_type": "code",
   "execution_count": null,
   "metadata": {
    "hidden": true
   },
   "outputs": [],
   "source": [
    "plt.plot(history1.history['acc'])\n",
    "plt.plot(history2.history['acc'])\n",
    "plt.plot(history3.history['acc'])\n",
    "plt.plot(history4.history['acc'])\n",
    "plt.title('Model Accuracy')\n",
    "plt.ylabel('accuracy')\n",
    "plt.xlabel('epoch')\n",
    "plt.legend(['input_lenght = 20', 'input_lenght = 40', 'input_lenght = 60', 'input_lenght = 80'], loc='lower right')\n",
    "plt.savefig('model_accuracy.png')\n",
    "plt.show()"
   ]
  },
  {
   "cell_type": "code",
   "execution_count": null,
   "metadata": {
    "hidden": true
   },
   "outputs": [],
   "source": [
    "plt.plot(history1.history['loss'])\n",
    "plt.plot(history2.history['loss'])\n",
    "plt.plot(history3.history['loss'])\n",
    "plt.plot(history4.history['loss'])\n",
    "plt.title('Model Loss')\n",
    "plt.ylabel('loss')\n",
    "plt.xlabel('epoch')\n",
    "plt.legend(['input_lenght = 20', 'input_lenght = 40', 'input_lenght = 60', 'input_lenght = 80'], loc='upper right')\n",
    "plt.savefig('model_loss.png')\n",
    "plt.show()"
   ]
  },
  {
   "cell_type": "code",
   "execution_count": null,
   "metadata": {
    "hidden": true
   },
   "outputs": [],
   "source": [
    "# 22\tAddition Whole Numbers\n",
    "# 20\tAddition and Subtraction Integers\n",
    "# 21\tMultiplication and Division Integers"
   ]
  },
  {
   "cell_type": "code",
   "execution_count": null,
   "metadata": {
    "hidden": true
   },
   "outputs": [],
   "source": [
    "A = np.array(dictionary[22])\n",
    "B = np.array(dictionary[20])\n",
    "C = np.array(dictionary[21])"
   ]
  },
  {
   "cell_type": "code",
   "execution_count": null,
   "metadata": {
    "hidden": true
   },
   "outputs": [],
   "source": [
    "from numpy.linalg import norm\n",
    "# compute cosine similarity\n",
    "cosine = np.dot(A,B)/(norm(A)*norm(B))\n",
    "print(\"Cosine Similarity:\", cosine)"
   ]
  },
  {
   "cell_type": "code",
   "execution_count": null,
   "metadata": {
    "hidden": true
   },
   "outputs": [],
   "source": [
    "# compute cosine similarity\n",
    "cosine = np.dot(A,C)/(norm(A)*norm(C))\n",
    "print(\"Cosine Similarity:\", cosine)"
   ]
  },
  {
   "cell_type": "code",
   "execution_count": null,
   "metadata": {
    "hidden": true,
    "scrolled": true
   },
   "outputs": [],
   "source": [
    "# compute cosine similarity\n",
    "cosine = np.dot(B,C)/(norm(B)*norm(C))\n",
    "print(\"Cosine Similarity:\", cosine)"
   ]
  },
  {
   "cell_type": "markdown",
   "metadata": {
    "hidden": true
   },
   "source": [
    "The following code is related to using the dataloader function :\n"
   ]
  },
  {
   "cell_type": "code",
   "execution_count": null,
   "metadata": {
    "hidden": true
   },
   "outputs": [],
   "source": [
    "model = Sequential()\n",
    "embedding_layer = Embedding(VOCAB_SIZE, 10, input_length=20)\n",
    "model.add(embedding_layer)\n",
    "model.add(Flatten())\n",
    "model.add(Dense(1, activation='sigmoid'))\n",
    "model.compile(optimizer='adam', loss='binary_crossentropy', metrics=['acc'])"
   ]
  },
  {
   "cell_type": "markdown",
   "metadata": {},
   "source": [
    "# contour plotting"
   ]
  },
  {
   "cell_type": "markdown",
   "metadata": {},
   "source": [
    "Once our model have been trained, the next step is transfer the embeding layer to a new model, the comands:\n",
    "**model.layers[-3].output**\n",
    "allows to extract the a later from a model in this case we use the index -3 to tell the model that we need the layer antepenultima."
   ]
  },
  {
   "cell_type": "code",
   "execution_count": null,
   "metadata": {},
   "outputs": [],
   "source": [
    "model1_1 = Model(inputs=model4.input, outputs=model4.layers[-3].output)\n",
    "model1_1.summary()"
   ]
  },
  {
   "cell_type": "code",
   "execution_count": null,
   "metadata": {},
   "outputs": [],
   "source": [
    "skills_key = list(d_skills.keys())\n",
    "complete = n_input - len(skills_key)% n_input\n",
    "for i in range(complete):\n",
    "    skills_key.append(0)\n",
    "x_dim = int(len(skills_key)/(n_input))\n",
    "re_skills = np.reshape(skills_key, (x_dim,n_input))"
   ]
  },
  {
   "cell_type": "code",
   "execution_count": null,
   "metadata": {},
   "outputs": [],
   "source": [
    "re_skills.shape"
   ]
  },
  {
   "cell_type": "code",
   "execution_count": null,
   "metadata": {},
   "outputs": [],
   "source": [
    "len (d_skills)"
   ]
  },
  {
   "cell_type": "code",
   "execution_count": null,
   "metadata": {},
   "outputs": [],
   "source": [
    "padded_reviews.shape\n"
   ]
  },
  {
   "cell_type": "code",
   "execution_count": null,
   "metadata": {},
   "outputs": [],
   "source": [
    "output = model1_1.predict(re_skills)\n"
   ]
  },
  {
   "cell_type": "code",
   "execution_count": null,
   "metadata": {},
   "outputs": [],
   "source": [
    "#output = model1_1.predict(padded_reviews)\n",
    "shape_arr = output.shape\n",
    "reshaped_output = np.reshape(output,((shape_arr[0]*shape_arr[1]),shape_arr[2] ))\n",
    "reshaped_output # this is the  reresentation of the 71 questions in 10-D "
   ]
  },
  {
   "cell_type": "code",
   "execution_count": null,
   "metadata": {},
   "outputs": [],
   "source": [
    "reshaped_output.shape"
   ]
  },
  {
   "cell_type": "code",
   "execution_count": null,
   "metadata": {},
   "outputs": [],
   "source": [
    "array=np.array( [[[ 5,  4],\n",
    "      [ 6,  9]],\n",
    " \n",
    "      [[ 1,  0],\n",
    "      [ 9,  5]],\n",
    " \n",
    "      [[ 4,  9],\n",
    "      [13, 19]],\n",
    "                  \n",
    "      [[ 8, 10],\n",
    "      [ 1, 5]]])"
   ]
  },
  {
   "cell_type": "code",
   "execution_count": null,
   "metadata": {},
   "outputs": [],
   "source": [
    "array.shape"
   ]
  },
  {
   "cell_type": "code",
   "execution_count": null,
   "metadata": {},
   "outputs": [],
   "source": [
    "reshaped_array=np.reshape(array,(8,2))\n",
    "reshaped_array"
   ]
  },
  {
   "cell_type": "code",
   "execution_count": null,
   "metadata": {},
   "outputs": [],
   "source": []
  },
  {
   "cell_type": "code",
   "execution_count": null,
   "metadata": {},
   "outputs": [],
   "source": [
    "from sklearn.decomposition import PCA\n",
    "\n",
    "# fit a 3-D PCA model to the vectors\n",
    "words = pd.DataFrame(skills_key[0:20], columns =['word']) # Tengo que pomner lso nombre sd elas preguntas que van a ser codificadas aqui:\n",
    "vectors = reshaped_output[0:20,:] #  \n",
    "pca = PCA(n_components=3)\n",
    "PCA_result = pca.fit_transform(vectors)\n",
    "\n",
    "\n",
    "\n",
    "PCA_result = pd.DataFrame(PCA_result)\n",
    "PCA_result['x'] = PCA_result.iloc[0:, 0]\n",
    "PCA_result['y'] = PCA_result.iloc[0:, 1]\n",
    "PCA_result['z'] = PCA_result.iloc[0:, 2]\n",
    "\n",
    "PCA_final = pd.merge(words, PCA_result, left_index = True, right_index=True)\n",
    "PCA_final = PCA_final[['word','x','y','z']]"
   ]
  },
  {
   "cell_type": "code",
   "execution_count": null,
   "metadata": {},
   "outputs": [],
   "source": [
    "import numpy as np\n",
    "\n",
    "Z = PCA_final.pivot_table(index='x', columns='y', values='z').T.values\n",
    "Z = np.nan_to_num(Z, copy=True, nan=0.0)\n",
    "\n",
    "X_unique = np.sort(PCA_final.x.unique())\n",
    "Y_unique = np.sort(PCA_final.y.unique())\n",
    "X, Y = np.meshgrid(X_unique, Y_unique)\n",
    "\n",
    "# generate a contour plot\n",
    "import matplotlib.pyplot as plt\n",
    "\n",
    "plt.figure(figsize=(14,9))\n",
    "plt.contourf(X, Y, Z, 1000, cmap='Blues')\n",
    "\n",
    "# loop through to annotate multiple datapoints\n",
    "for i in range(PCA_final.shape[0]):\n",
    "    plt.annotate(PCA_final.word.tolist()[i], (PCA_final.x.tolist()[i], PCA_final.y.tolist()[i]))\n",
    "\n",
    "plt.tight_layout()\n",
    "plt.title('contour plot for the first 40 embeddings')\n",
    "plt.colorbar()\n",
    "plt.savefig('contour_plot_40.png')\n",
    "plt.show()"
   ]
  },
  {
   "cell_type": "code",
   "execution_count": null,
   "metadata": {},
   "outputs": [],
   "source": [
    "#d_skills"
   ]
  },
  {
   "cell_type": "code",
   "execution_count": null,
   "metadata": {},
   "outputs": [],
   "source": [
    "A = np.array(reshaped_output[0,:])\n",
    "B = np.array(reshaped_output[1,:])\n",
    "C = np.array(reshaped_output[2,:])\n",
    "A"
   ]
  },
  {
   "cell_type": "code",
   "execution_count": null,
   "metadata": {},
   "outputs": [],
   "source": [
    "from numpy.linalg import norm\n",
    "# compute cosine similarity\n",
    "cosine = np.dot(A,B)/(norm(A)*norm(B))\n",
    "print(\"Cosine Similarity:\", cosine)"
   ]
  },
  {
   "cell_type": "code",
   "execution_count": null,
   "metadata": {},
   "outputs": [],
   "source": [
    "# compute cosine similarity\n",
    "cosine = np.dot(A,C)/(norm(A)*norm(C))\n",
    "print(\"Cosine Similarity:\", cosine)"
   ]
  },
  {
   "cell_type": "code",
   "execution_count": null,
   "metadata": {},
   "outputs": [],
   "source": [
    "# compute cosine similarity\n",
    "cosine = np.dot(B,C)/(norm(B)*norm(C))\n",
    "print(\"Cosine Similarity:\", cosine)"
   ]
  },
  {
   "cell_type": "code",
   "execution_count": null,
   "metadata": {},
   "outputs": [],
   "source": [
    "d_skills"
   ]
  },
  {
   "cell_type": "markdown",
   "metadata": {},
   "source": [
    "# New Experiment"
   ]
  },
  {
   "cell_type": "code",
   "execution_count": null,
   "metadata": {},
   "outputs": [],
   "source": []
  },
  {
   "cell_type": "markdown",
   "metadata": {},
   "source": [
    "# Model experimental"
   ]
  },
  {
   "cell_type": "markdown",
   "metadata": {},
   "source": [
    "### Model trainning , accuracy and loss graphs"
   ]
  },
  {
   "cell_type": "markdown",
   "metadata": {},
   "source": [
    "In this model make, sure to set the  variable **n_input** = 80 "
   ]
  },
  {
   "cell_type": "code",
   "execution_count": 286,
   "metadata": {},
   "outputs": [],
   "source": [
    "# define generator, consider the previos 20 answers, number of timesteps\n",
    "n_input = 500"
   ]
  },
  {
   "cell_type": "code",
   "execution_count": 287,
   "metadata": {},
   "outputs": [],
   "source": [
    "#####jolunavi: the total number of questions are 1261\n",
    "n_interactions = 1260 #len(preguntas)\n",
    "batch_s = n_interactions - n_input\n",
    "train = preguntas[:n_interactions]\n",
    "train_y = respuestas[n_input:n_interactions] #se toman desde la respuesta 21 porque las preimeras 20 preguntas ayudan a producir la respuesta 21"
   ]
  },
  {
   "cell_type": "code",
   "execution_count": 288,
   "metadata": {},
   "outputs": [],
   "source": [
    "n_features = 1 # in this particular case it might be 2; question and answer, however we concider only the question\n",
    "generator = TimeseriesGenerator(train, train, length=n_input, batch_size=batch_s)\n",
    "X,y = generator[0]\n",
    "padded_reviews = pad_sequences(X, maxlen=n_input, padding='post')"
   ]
  },
  {
   "cell_type": "code",
   "execution_count": 289,
   "metadata": {},
   "outputs": [],
   "source": [
    "model4 = Sequential()\n",
    "embedding_layer = Embedding(VOCAB_SIZE, 10, input_length=n_input)\n",
    "model4.add(embedding_layer)\n",
    "model4.add(Flatten())\n",
    "model4.add(Dense(1, activation='sigmoid'))\n",
    "model4.compile(optimizer='adam', loss='binary_crossentropy', metrics=['acc'])\n",
    "history4 = model4.fit(padded_reviews, train_y, epochs=n_epoch, verbose=1)"
   ]
  },
  {
   "cell_type": "code",
   "execution_count": null,
   "metadata": {},
   "outputs": [],
   "source": [
    "for e in range(epochs):\n",
    "    sys.stdout.write('\\r')\n",
    "\n",
    "    for X, y in data.next_batch():\n",
    "        model.fit(X, y, nb_epoch=1, batch_size=data.batch_size, verbose=0)\n",
    "\n",
    "    # print loss and accuracy\n",
    "\n",
    "    # the exact output you're looking for:\n",
    "    sys.stdout.write(\"[%-60s] %d%%\" % ('='*(60*(e+1)/10), (100*(e+1)/10)))\n",
    "    sys.stdout.flush()\n",
    "    sys.stdout.write(\", epoch %d\"% (e+1))\n",
    "    sys.stdout.flush()"
   ]
  },
  {
   "cell_type": "code",
   "execution_count": 291,
   "metadata": {},
   "outputs": [
    {
     "data": {
      "image/png": "[encoded data removed]",
      "text/plain": [
       "<Figure size 640x480 with 1 Axes>"
      ]
     },
     "metadata": {},
     "output_type": "display_data"
    }
   ],
   "source": [
    "plt.plot(history4.history['acc'])\n",
    "#plt.plot(history.history['val_acc'])\n",
    "plt.title('model accuracy')\n",
    "plt.ylabel('accuracy')\n",
    "plt.xlabel('epoch')\n",
    "plt.legend(['train'], loc='upper left')\n",
    "plt.show()"
   ]
  },
  {
   "cell_type": "markdown",
   "metadata": {},
   "source": [
    "### Contour plotting"
   ]
  },
  {
   "cell_type": "code",
   "execution_count": 292,
   "metadata": {},
   "outputs": [],
   "source": [
    "#n_input = 80\n",
    "model4_1 = Model(inputs=model4.input, outputs=model4.layers[-3].output)"
   ]
  },
  {
   "cell_type": "code",
   "execution_count": 293,
   "metadata": {},
   "outputs": [],
   "source": [
    "skills_key = list(d_skills.keys())\n",
    "complete = n_input - len(skills_key)% n_input\n",
    "for i in range(complete):\n",
    "    skills_key.append(0)\n",
    "x_dim = int(len(skills_key)/(n_input))\n",
    "re_skills = np.reshape(skills_key, (x_dim,n_input))"
   ]
  },
  {
   "cell_type": "code",
   "execution_count": 294,
   "metadata": {},
   "outputs": [
    {
     "name": "stdout",
     "output_type": "stream",
     "text": [
      "1/1 [==============================] - 0s 94ms/step\n"
     ]
    }
   ],
   "source": [
    "output = model4_1.predict(re_skills)\n",
    "shape_arr = output.shape\n",
    "reshaped_output = np.reshape(output,((shape_arr[0]*shape_arr[1]),shape_arr[2] ))\n",
    "#reshaped_output # this is the  reresentation of the 71 questions in 10-D "
   ]
  },
  {
   "cell_type": "code",
   "execution_count": 295,
   "metadata": {},
   "outputs": [],
   "source": [
    "from sklearn.decomposition import PCA\n",
    "\n",
    "# fit a 3-D PCA model to the vectors\n",
    "words = pd.DataFrame(skills_key[0:20], columns =['word']) # Tengo que pomner lso nombre sd elas preguntas que van a ser codificadas aqui:\n",
    "vectors = reshaped_output[0:20,:] #  \n",
    "pca = PCA(n_components=2)\n",
    "PCA_result = pca.fit_transform(vectors)\n",
    "\n",
    "PCA_result = pd.DataFrame(PCA_result)\n",
    "PCA_result['x'] = PCA_result.iloc[0:, 0]\n",
    "PCA_result['y'] = PCA_result.iloc[0:, 1]\n",
    "#PCA_result['z'] = PCA_result.iloc[0:, 2]\n",
    "\n",
    "PCA_final = pd.merge(words, PCA_result, left_index = True, right_index=True)\n",
    "PCA_final = PCA_final[['word','x','y']]"
   ]
  },
  {
   "cell_type": "code",
   "execution_count": 296,
   "metadata": {},
   "outputs": [],
   "source": [
    "labels = words.to_numpy()"
   ]
  },
  {
   "cell_type": "code",
   "execution_count": 348,
   "metadata": {},
   "outputs": [
    {
     "name": "stderr",
     "output_type": "stream",
     "text": [
      "/home/jolunavi/miniconda3/envs/dkt/lib/python3.9/site-packages/matplotlib/text.py:1223: FutureWarning:\n",
      "\n",
      "elementwise comparison failed; returning scalar instead, but in the future will perform elementwise comparison\n",
      "\n"
     ]
    },
    {
     "data": {
      "text/plain": [
       "<Figure size 4000x2400 with 0 Axes>"
      ]
     },
     "metadata": {},
     "output_type": "display_data"
    },
    {
     "data": {
      "image/png": "[encoded data removed]",
      "text/plain": [
       "<Figure size 640x480 with 1 Axes>"
      ]
     },
     "metadata": {},
     "output_type": "display_data"
    }
   ],
   "source": [
    "Z = PCA_final.pivot_table(index='x', columns='y').T.values\n",
    "Z = np.nan_to_num(Z, copy=True, nan=0.0)\n",
    "\n",
    "X_unique = np.sort(PCA_final.x.unique())\n",
    "Y_unique = np.sort(PCA_final.y.unique())\n",
    "#X, Y = np.meshgrid(X_unique, Y_unique)\n",
    "\n",
    "# generate a contour plot\n",
    "import matplotlib.pyplot as plt\n",
    "\n",
    "plt.figure(figsize=(40,24))\n",
    "\n",
    "\n",
    "# loop through to annotate multiple datapoints\n",
    "\n",
    "\n",
    "fig, ax = plt.subplots()\n",
    "ax.scatter(X_unique, Y_unique)\n",
    "\n",
    "for i, txt in enumerate(labels):\n",
    "    ax.annotate(txt, (X_unique[i], Y_unique[i]),(X_unique[i]+ 0.05, Y_unique[i]-0.05), fontsize=5)\n",
    "#plt.tight_layout()\n",
    "plt.title('2-D plot for the first 20 embeddings')\n",
    "#plt.colorbar()\n",
    "plt.savefig('contour_plot_500.png')\n",
    "plt.show()"
   ]
  },
  {
   "cell_type": "code",
   "execution_count": 336,
   "metadata": {},
   "outputs": [
    {
     "name": "stdout",
     "output_type": "stream",
     "text": [
      "shape y: (20,) /n size y : [-0.99748164 -0.92568505 -0.7766007  -0.5999847  -0.581633   -0.5661435\n",
      " -0.3811904  -0.19071195 -0.02632992 -0.00210412  0.17160796  0.18556468\n",
      "  0.19655025  0.21879183  0.3993356   0.42207476  0.6200655   0.7340031\n",
      "  0.7341223   1.3657494 ]\n"
     ]
    },
    {
     "data": {
      "text/plain": [
       "<Figure size 3000x1200 with 0 Axes>"
      ]
     },
     "metadata": {},
     "output_type": "display_data"
    },
    {
     "data": {
      "image/png": "[encoded data removed]",
      "text/plain": [
       "<Figure size 640x480 with 1 Axes>"
      ]
     },
     "metadata": {},
     "output_type": "display_data"
    }
   ],
   "source": [
    "# Plot the result\n",
    "trainY=X_unique\n",
    "testY = Y_unique\n",
    "def plot_result(trainY, testY):#, train_predict, test_predict):\n",
    "    actual = np.append(trainY, testY)\n",
    "    #predictions = np.append(train_predict, test_predict)\n",
    "    rows = len(actual)\n",
    "    plt.figure(figsize=(15, ), dpi=200)\n",
    "    fig, ax = plt.subplots()\n",
    "    ax.scatter(X_unique, Y_unique)\n",
    "\n",
    "    for i, txt in enumerate(labels):\n",
    "        ax.annotate(txt, (X_unique[i], Y_unique[i]))\n",
    "    plt.legend(['Actual', 'Predictions'])\n",
    "    plt.xlabel('Observation number after given time steps')\n",
    "    plt.ylabel('Sunspots scaled')\n",
    "    plt.title('Actual and Predicted Values. The Red Line Separates The Training And Test Examples')\n",
    "plot_result(trainY, testY)\n",
    "print(\"shape y:\", trainY.shape, \"/n\",\"size y :\", trainY)"
   ]
  },
  {
   "cell_type": "code",
   "execution_count": null,
   "metadata": {},
   "outputs": [],
   "source": []
  }
 ],
 "metadata": {
  "anaconda-cloud": {},
  "colab": {
   "provenance": [
    {
     "file_id": "https://github.com/jeffheaton/t81_558_deep_learning/blob/master/t81_558_class_11_05_embedding.ipynb",
     "timestamp": 1669660620782
    }
   ]
  },
  "kernelspec": {
   "display_name": "Python 3 (ipykernel)",
   "language": "python",
   "name": "python3"
  },
  "language_info": {
   "codemirror_mode": {
    "name": "ipython",
    "version": 3
   },
   "file_extension": ".py",
   "mimetype": "text/x-python",
   "name": "python",
   "nbconvert_exporter": "python",
   "pygments_lexer": "ipython3",
   "version": "3.9.13"
  },
  "varInspector": {
   "cols": {
    "lenName": 16,
    "lenType": 16,
    "lenVar": 40
   },
   "kernels_config": {
    "python": {
     "delete_cmd_postfix": "",
     "delete_cmd_prefix": "del ",
     "library": "var_list.py",
     "varRefreshCmd": "print(var_dic_list())"
    },
    "r": {
     "delete_cmd_postfix": ") ",
     "delete_cmd_prefix": "rm(",
     "library": "var_list.r",
     "varRefreshCmd": "cat(var_dic_list()) "
    }
   },
   "types_to_exclude": [
    "module",
    "function",
    "builtin_function_or_method",
    "instance",
    "_Feature"
   ],
   "window_display": false
  },
  "vscode": {
   "interpreter": {
    "hash": "916dbcbb3f70747c44a77c7bcd40155683ae19c65e1c03b4aa3499c5328201f1"
   }
  }
 },
 "nbformat": 4,
 "nbformat_minor": 1
}
